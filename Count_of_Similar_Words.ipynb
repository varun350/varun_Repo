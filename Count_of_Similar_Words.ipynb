{
  "nbformat": 4,
  "nbformat_minor": 0,
  "metadata": {
    "colab": {
      "provenance": []
    },
    "kernelspec": {
      "name": "python3",
      "display_name": "Python 3"
    },
    "language_info": {
      "name": "python"
    }
  },
  "cells": [
    {
      "cell_type": "markdown",
      "source": [
        "Business Use Case : Find number of similar words in the input text and store those words and count of respective words in dataframe"
      ],
      "metadata": {
        "id": "y8-D93JV7-dY"
      }
    },
    {
      "cell_type": "code",
      "source": [
        "Text = '''A computer is a machine that can be programmed to carry out sequences of arithmetic or logical \n",
        "operations automatically. Modern computers can perform generic sets of operations known as programs. \n",
        "These programs enable computers to perform a wide range of tasks. \n",
        "A computer system is a complete computer that includes the hardware, operating system, and peripheral equipment needed and used for full operation. \n",
        "This term may also refer to a group of computers that are linked and function together, such as a computer network or computer cluster. \n",
        "A broad range of industrial and consumer products use computers as control systems. \n",
        "Simple special-purpose devices like microwave ovens and remote controls are included, \n",
        "as are factory devices like industrial robots and computer-aided design, as well as general-purpose devices like personal computers and mobile devices like smartphones. \n",
        "Computers power the Internet, which links hundreds of millions of other computers and users hardware.''' "
      ],
      "metadata": {
        "id": "khMpwEmk8LFz"
      },
      "execution_count": 24,
      "outputs": []
    },
    {
      "cell_type": "code",
      "source": [
        "import pandas as pd\n",
        "import re"
      ],
      "metadata": {
        "id": "PLV6yD0B8tgn"
      },
      "execution_count": 25,
      "outputs": []
    },
    {
      "cell_type": "markdown",
      "source": [
        "Clean the text by removing special characters from the input text"
      ],
      "metadata": {
        "id": "8juJRwXJ90PV"
      }
    },
    {
      "cell_type": "code",
      "source": [
        "new_text = re.sub(r'[^a-z A-Z 0-9 ]', '', Text)"
      ],
      "metadata": {
        "id": "2gLer3y4uixi"
      },
      "execution_count": 4,
      "outputs": []
    },
    {
      "cell_type": "code",
      "source": [
        "new_text"
      ],
      "metadata": {
        "id": "0G7J3Bd_2MZ_",
        "colab": {
          "base_uri": "https://localhost:8080/",
          "height": 122
        },
        "outputId": "4811a6a0-e31e-4d2a-fd8f-2e037db9ce46"
      },
      "execution_count": 23,
      "outputs": [
        {
          "output_type": "execute_result",
          "data": {
            "text/plain": [
              "'A computer is a machine that can be programmed to carry out sequences of arithmetic or logical operations automatically Modern computers can perform generic sets of operations known as programs These programs enable computers to perform a wide range of tasks A computer system is a complete computer that includes the hardware operating system and peripheral equipment needed and used for full operation This term may also refer to a group of computers that are linked and function together such as a computer network or computer cluster A broad range of industrial and consumer products use computers as control systems Simple specialpurpose devices like microwave ovens and remote controls are included as are factory devices like industrial robots and computeraided design as well as generalpurpose devices like personal computers and mobile devices like smartphones Computers power the Internet which links hundreds of millions of other computers and users hardware'"
            ],
            "application/vnd.google.colaboratory.intrinsic+json": {
              "type": "string"
            }
          },
          "metadata": {},
          "execution_count": 23
        }
      ]
    },
    {
      "cell_type": "markdown",
      "source": [
        "Split the text and store each word in the list"
      ],
      "metadata": {
        "id": "aOLqJg5Ou9Lq"
      }
    },
    {
      "cell_type": "code",
      "source": [
        "input_list = re.split('\\s+', Text)"
      ],
      "metadata": {
        "id": "heKovk5qvdpx"
      },
      "execution_count": 26,
      "outputs": []
    },
    {
      "cell_type": "code",
      "source": [
        "input_list.append('so')"
      ],
      "metadata": {
        "id": "xvofJwEJDOI3"
      },
      "execution_count": 13,
      "outputs": []
    },
    {
      "cell_type": "code",
      "source": [
        "input_list"
      ],
      "metadata": {
        "colab": {
          "base_uri": "https://localhost:8080/"
        },
        "id": "fF15Pn9EDOL7",
        "outputId": "0bb374da-52d3-4ac7-c87a-e3eb1ac5aa81"
      },
      "execution_count": 27,
      "outputs": [
        {
          "output_type": "execute_result",
          "data": {
            "text/plain": [
              "['A',\n",
              " 'computer',\n",
              " 'is',\n",
              " 'a',\n",
              " 'machine',\n",
              " 'that',\n",
              " 'can',\n",
              " 'be',\n",
              " 'programmed',\n",
              " 'to',\n",
              " 'carry',\n",
              " 'out',\n",
              " 'sequences',\n",
              " 'of',\n",
              " 'arithmetic',\n",
              " 'or',\n",
              " 'logical',\n",
              " 'operations',\n",
              " 'automatically.',\n",
              " 'Modern',\n",
              " 'computers',\n",
              " 'can',\n",
              " 'perform',\n",
              " 'generic',\n",
              " 'sets',\n",
              " 'of',\n",
              " 'operations',\n",
              " 'known',\n",
              " 'as',\n",
              " 'programs.',\n",
              " 'These',\n",
              " 'programs',\n",
              " 'enable',\n",
              " 'computers',\n",
              " 'to',\n",
              " 'perform',\n",
              " 'a',\n",
              " 'wide',\n",
              " 'range',\n",
              " 'of',\n",
              " 'tasks.',\n",
              " 'A',\n",
              " 'computer',\n",
              " 'system',\n",
              " 'is',\n",
              " 'a',\n",
              " 'complete',\n",
              " 'computer',\n",
              " 'that',\n",
              " 'includes',\n",
              " 'the',\n",
              " 'hardware,',\n",
              " 'operating',\n",
              " 'system,',\n",
              " 'and',\n",
              " 'peripheral',\n",
              " 'equipment',\n",
              " 'needed',\n",
              " 'and',\n",
              " 'used',\n",
              " 'for',\n",
              " 'full',\n",
              " 'operation.',\n",
              " 'This',\n",
              " 'term',\n",
              " 'may',\n",
              " 'also',\n",
              " 'refer',\n",
              " 'to',\n",
              " 'a',\n",
              " 'group',\n",
              " 'of',\n",
              " 'computers',\n",
              " 'that',\n",
              " 'are',\n",
              " 'linked',\n",
              " 'and',\n",
              " 'function',\n",
              " 'together,',\n",
              " 'such',\n",
              " 'as',\n",
              " 'a',\n",
              " 'computer',\n",
              " 'network',\n",
              " 'or',\n",
              " 'computer',\n",
              " 'cluster.',\n",
              " 'A',\n",
              " 'broad',\n",
              " 'range',\n",
              " 'of',\n",
              " 'industrial',\n",
              " 'and',\n",
              " 'consumer',\n",
              " 'products',\n",
              " 'use',\n",
              " 'computers',\n",
              " 'as',\n",
              " 'control',\n",
              " 'systems.',\n",
              " 'Simple',\n",
              " 'special-purpose',\n",
              " 'devices',\n",
              " 'like',\n",
              " 'microwave',\n",
              " 'ovens',\n",
              " 'and',\n",
              " 'remote',\n",
              " 'controls',\n",
              " 'are',\n",
              " 'included,',\n",
              " 'as',\n",
              " 'are',\n",
              " 'factory',\n",
              " 'devices',\n",
              " 'like',\n",
              " 'industrial',\n",
              " 'robots',\n",
              " 'and',\n",
              " 'computer-aided',\n",
              " 'design,',\n",
              " 'as',\n",
              " 'well',\n",
              " 'as',\n",
              " 'general-purpose',\n",
              " 'devices',\n",
              " 'like',\n",
              " 'personal',\n",
              " 'computers',\n",
              " 'and',\n",
              " 'mobile',\n",
              " 'devices',\n",
              " 'like',\n",
              " 'smartphones.',\n",
              " 'Computers',\n",
              " 'power',\n",
              " 'the',\n",
              " 'Internet,',\n",
              " 'which',\n",
              " 'links',\n",
              " 'hundreds',\n",
              " 'of',\n",
              " 'millions',\n",
              " 'of',\n",
              " 'other',\n",
              " 'computers',\n",
              " 'and',\n",
              " 'users',\n",
              " 'hardware.']"
            ]
          },
          "metadata": {},
          "execution_count": 27
        }
      ]
    },
    {
      "cell_type": "code",
      "source": [],
      "metadata": {
        "id": "AYXSzZtZDOPE"
      },
      "execution_count": null,
      "outputs": []
    },
    {
      "cell_type": "code",
      "source": [],
      "metadata": {
        "id": "urykvwcj2NEW"
      },
      "execution_count": null,
      "outputs": []
    },
    {
      "cell_type": "markdown",
      "source": [
        "Convert list into pandas dataframe"
      ],
      "metadata": {
        "id": "d77yYtSBvvaR"
      }
    },
    {
      "cell_type": "code",
      "source": [
        "df = pd.DataFrame(list(input_list), columns = ['Words'])"
      ],
      "metadata": {
        "id": "Zw9GbsE7v0Fl"
      },
      "execution_count": 35,
      "outputs": []
    },
    {
      "cell_type": "code",
      "source": [
        "df['Words'] = 'hardware.'"
      ],
      "metadata": {
        "id": "7dVZz1nAwQGo"
      },
      "execution_count": 33,
      "outputs": []
    },
    {
      "cell_type": "code",
      "source": [
        "df"
      ],
      "metadata": {
        "colab": {
          "base_uri": "https://localhost:8080/",
          "height": 424
        },
        "id": "kyOviA1gVthk",
        "outputId": "2ca210d6-e71e-4c0b-9b72-09decb9f2b9b"
      },
      "execution_count": 36,
      "outputs": [
        {
          "output_type": "execute_result",
          "data": {
            "text/plain": [
              "         Words\n",
              "0            A\n",
              "1     computer\n",
              "2           is\n",
              "3            a\n",
              "4      machine\n",
              "..         ...\n",
              "144      other\n",
              "145  computers\n",
              "146        and\n",
              "147      users\n",
              "148  hardware.\n",
              "\n",
              "[149 rows x 1 columns]"
            ],
            "text/html": [
              "\n",
              "  <div id=\"df-c6279155-b2bb-46cb-9af5-765c5b44120b\">\n",
              "    <div class=\"colab-df-container\">\n",
              "      <div>\n",
              "<style scoped>\n",
              "    .dataframe tbody tr th:only-of-type {\n",
              "        vertical-align: middle;\n",
              "    }\n",
              "\n",
              "    .dataframe tbody tr th {\n",
              "        vertical-align: top;\n",
              "    }\n",
              "\n",
              "    .dataframe thead th {\n",
              "        text-align: right;\n",
              "    }\n",
              "</style>\n",
              "<table border=\"1\" class=\"dataframe\">\n",
              "  <thead>\n",
              "    <tr style=\"text-align: right;\">\n",
              "      <th></th>\n",
              "      <th>Words</th>\n",
              "    </tr>\n",
              "  </thead>\n",
              "  <tbody>\n",
              "    <tr>\n",
              "      <th>0</th>\n",
              "      <td>A</td>\n",
              "    </tr>\n",
              "    <tr>\n",
              "      <th>1</th>\n",
              "      <td>computer</td>\n",
              "    </tr>\n",
              "    <tr>\n",
              "      <th>2</th>\n",
              "      <td>is</td>\n",
              "    </tr>\n",
              "    <tr>\n",
              "      <th>3</th>\n",
              "      <td>a</td>\n",
              "    </tr>\n",
              "    <tr>\n",
              "      <th>4</th>\n",
              "      <td>machine</td>\n",
              "    </tr>\n",
              "    <tr>\n",
              "      <th>...</th>\n",
              "      <td>...</td>\n",
              "    </tr>\n",
              "    <tr>\n",
              "      <th>144</th>\n",
              "      <td>other</td>\n",
              "    </tr>\n",
              "    <tr>\n",
              "      <th>145</th>\n",
              "      <td>computers</td>\n",
              "    </tr>\n",
              "    <tr>\n",
              "      <th>146</th>\n",
              "      <td>and</td>\n",
              "    </tr>\n",
              "    <tr>\n",
              "      <th>147</th>\n",
              "      <td>users</td>\n",
              "    </tr>\n",
              "    <tr>\n",
              "      <th>148</th>\n",
              "      <td>hardware.</td>\n",
              "    </tr>\n",
              "  </tbody>\n",
              "</table>\n",
              "<p>149 rows × 1 columns</p>\n",
              "</div>\n",
              "      <button class=\"colab-df-convert\" onclick=\"convertToInteractive('df-c6279155-b2bb-46cb-9af5-765c5b44120b')\"\n",
              "              title=\"Convert this dataframe to an interactive table.\"\n",
              "              style=\"display:none;\">\n",
              "        \n",
              "  <svg xmlns=\"http://www.w3.org/2000/svg\" height=\"24px\"viewBox=\"0 0 24 24\"\n",
              "       width=\"24px\">\n",
              "    <path d=\"M0 0h24v24H0V0z\" fill=\"none\"/>\n",
              "    <path d=\"M18.56 5.44l.94 2.06.94-2.06 2.06-.94-2.06-.94-.94-2.06-.94 2.06-2.06.94zm-11 1L8.5 8.5l.94-2.06 2.06-.94-2.06-.94L8.5 2.5l-.94 2.06-2.06.94zm10 10l.94 2.06.94-2.06 2.06-.94-2.06-.94-.94-2.06-.94 2.06-2.06.94z\"/><path d=\"M17.41 7.96l-1.37-1.37c-.4-.4-.92-.59-1.43-.59-.52 0-1.04.2-1.43.59L10.3 9.45l-7.72 7.72c-.78.78-.78 2.05 0 2.83L4 21.41c.39.39.9.59 1.41.59.51 0 1.02-.2 1.41-.59l7.78-7.78 2.81-2.81c.8-.78.8-2.07 0-2.86zM5.41 20L4 18.59l7.72-7.72 1.47 1.35L5.41 20z\"/>\n",
              "  </svg>\n",
              "      </button>\n",
              "      \n",
              "  <style>\n",
              "    .colab-df-container {\n",
              "      display:flex;\n",
              "      flex-wrap:wrap;\n",
              "      gap: 12px;\n",
              "    }\n",
              "\n",
              "    .colab-df-convert {\n",
              "      background-color: #E8F0FE;\n",
              "      border: none;\n",
              "      border-radius: 50%;\n",
              "      cursor: pointer;\n",
              "      display: none;\n",
              "      fill: #1967D2;\n",
              "      height: 32px;\n",
              "      padding: 0 0 0 0;\n",
              "      width: 32px;\n",
              "    }\n",
              "\n",
              "    .colab-df-convert:hover {\n",
              "      background-color: #E2EBFA;\n",
              "      box-shadow: 0px 1px 2px rgba(60, 64, 67, 0.3), 0px 1px 3px 1px rgba(60, 64, 67, 0.15);\n",
              "      fill: #174EA6;\n",
              "    }\n",
              "\n",
              "    [theme=dark] .colab-df-convert {\n",
              "      background-color: #3B4455;\n",
              "      fill: #D2E3FC;\n",
              "    }\n",
              "\n",
              "    [theme=dark] .colab-df-convert:hover {\n",
              "      background-color: #434B5C;\n",
              "      box-shadow: 0px 1px 3px 1px rgba(0, 0, 0, 0.15);\n",
              "      filter: drop-shadow(0px 1px 2px rgba(0, 0, 0, 0.3));\n",
              "      fill: #FFFFFF;\n",
              "    }\n",
              "  </style>\n",
              "\n",
              "      <script>\n",
              "        const buttonEl =\n",
              "          document.querySelector('#df-c6279155-b2bb-46cb-9af5-765c5b44120b button.colab-df-convert');\n",
              "        buttonEl.style.display =\n",
              "          google.colab.kernel.accessAllowed ? 'block' : 'none';\n",
              "\n",
              "        async function convertToInteractive(key) {\n",
              "          const element = document.querySelector('#df-c6279155-b2bb-46cb-9af5-765c5b44120b');\n",
              "          const dataTable =\n",
              "            await google.colab.kernel.invokeFunction('convertToInteractive',\n",
              "                                                     [key], {});\n",
              "          if (!dataTable) return;\n",
              "\n",
              "          const docLinkHtml = 'Like what you see? Visit the ' +\n",
              "            '<a target=\"_blank\" href=https://colab.research.google.com/notebooks/data_table.ipynb>data table notebook</a>'\n",
              "            + ' to learn more about interactive tables.';\n",
              "          element.innerHTML = '';\n",
              "          dataTable['output_type'] = 'display_data';\n",
              "          await google.colab.output.renderOutput(dataTable, element);\n",
              "          const docLink = document.createElement('div');\n",
              "          docLink.innerHTML = docLinkHtml;\n",
              "          element.appendChild(docLink);\n",
              "        }\n",
              "      </script>\n",
              "    </div>\n",
              "  </div>\n",
              "  "
            ]
          },
          "metadata": {},
          "execution_count": 36
        }
      ]
    },
    {
      "cell_type": "markdown",
      "source": [
        "Now get the count of words from the dataframe and store them in dataframe"
      ],
      "metadata": {
        "id": "Nzfi8x6VwQ48"
      }
    },
    {
      "cell_type": "code",
      "source": [
        "df1 = pd.DataFrame(df['Words'].value_counts())\n",
        "df1.index.name = 'Words'\n",
        "df1.columns = ['count'] "
      ],
      "metadata": {
        "id": "_rZHhEizwl2s"
      },
      "execution_count": 37,
      "outputs": []
    },
    {
      "cell_type": "code",
      "source": [
        "df1.loc['hardware,']"
      ],
      "metadata": {
        "id": "dvy7BrcV2Oe2",
        "colab": {
          "base_uri": "https://localhost:8080/"
        },
        "outputId": "70cc45c4-ac35-48cf-ddeb-c6ed4b567dc6"
      },
      "execution_count": 42,
      "outputs": [
        {
          "output_type": "execute_result",
          "data": {
            "text/plain": [
              "count    1\n",
              "Name: hardware,, dtype: int64"
            ]
          },
          "metadata": {},
          "execution_count": 42
        }
      ]
    },
    {
      "cell_type": "code",
      "source": [],
      "metadata": {
        "id": "IpTFBFoD2Op0"
      },
      "execution_count": null,
      "outputs": []
    }
  ]
}