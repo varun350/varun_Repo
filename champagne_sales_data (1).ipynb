{
  "nbformat": 4,
  "nbformat_minor": 0,
  "metadata": {
    "colab": {
      "provenance": [],
      "collapsed_sections": []
    },
    "kernelspec": {
      "name": "python3",
      "display_name": "Python 3"
    },
    "language_info": {
      "name": "python"
    }
  },
  "cells": [
    {
      "cell_type": "code",
      "execution_count": null,
      "metadata": {
        "colab": {
          "resources": {
            "http://localhost:8080/nbextensions/google.colab/files.js": {
              "data": "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",
              "ok": true,
              "headers": [
                [
                  "content-type",
                  "application/javascript"
                ]
              ],
              "status": 200,
              "status_text": ""
            }
          },
          "base_uri": "https://localhost:8080/",
          "height": 73
        },
        "id": "bgA3_OqYC3Oc",
        "outputId": "10936f83-1810-42ab-ebf0-5e7ad9c5f56b"
      },
      "outputs": [
        {
          "output_type": "display_data",
          "data": {
            "text/plain": [
              "<IPython.core.display.HTML object>"
            ],
            "text/html": [
              "\n",
              "     <input type=\"file\" id=\"files-5ea46bec-76a3-47d5-bbde-cea77e066bb8\" name=\"files[]\" multiple disabled\n",
              "        style=\"border:none\" />\n",
              "     <output id=\"result-5ea46bec-76a3-47d5-bbde-cea77e066bb8\">\n",
              "      Upload widget is only available when the cell has been executed in the\n",
              "      current browser session. Please rerun this cell to enable.\n",
              "      </output>\n",
              "      <script src=\"/nbextensions/google.colab/files.js\"></script> "
            ]
          },
          "metadata": {}
        },
        {
          "output_type": "stream",
          "name": "stdout",
          "text": [
            "Saving perrin-freres-monthly-champagne.csv to perrin-freres-monthly-champagne.csv\n"
          ]
        }
      ],
      "source": [
        "from google.colab import files\n",
        "uploaded = files.upload()"
      ]
    },
    {
      "cell_type": "code",
      "source": [
        "import numpy as np\n",
        "import pandas as pd\n",
        "from sklearn.model_selection import train_test_split\n",
        "import matplotlib.pyplot as plt\n",
        "import matplotlib.dates as mdates\n",
        "from datetime import datetime\n",
        "\n",
        "from matplotlib import pyplot as plt\n",
        "%matplotlib inline"
      ],
      "metadata": {
        "id": "lfEAU9YfEJp6"
      },
      "execution_count": null,
      "outputs": []
    },
    {
      "cell_type": "code",
      "source": [
        "import io\n",
        "df = pd.read_csv(io.BytesIO(uploaded['perrin-freres-monthly-champagne.csv']))"
      ],
      "metadata": {
        "id": "PpLAdPL4EJs2"
      },
      "execution_count": null,
      "outputs": []
    },
    {
      "cell_type": "code",
      "source": [
        "df.isnull().sum()"
      ],
      "metadata": {
        "colab": {
          "base_uri": "https://localhost:8080/"
        },
        "id": "tGnrpZwuEJvj",
        "outputId": "09c771d7-fbcc-4947-ae63-26bd4e4147a5"
      },
      "execution_count": null,
      "outputs": [
        {
          "output_type": "execute_result",
          "data": {
            "text/plain": [
              "Month                                                     1\n",
              "Perrin Freres monthly champagne sales millions ?64-?72    2\n",
              "dtype: int64"
            ]
          },
          "metadata": {},
          "execution_count": 4
        }
      ]
    },
    {
      "cell_type": "code",
      "source": [
        "df.dropna(inplace = True)"
      ],
      "metadata": {
        "id": "BMg-aTbXLbgy"
      },
      "execution_count": null,
      "outputs": []
    },
    {
      "cell_type": "code",
      "source": [
        "df.rename(columns = {'Month':'Date', 'Perrin Freres monthly champagne sales millions ?64-?72' : 'Sales'}, inplace = True)"
      ],
      "metadata": {
        "id": "taL-BeS1EJyU"
      },
      "execution_count": null,
      "outputs": []
    },
    {
      "cell_type": "code",
      "source": [
        "df.info()"
      ],
      "metadata": {
        "colab": {
          "base_uri": "https://localhost:8080/"
        },
        "id": "aWR4cYxOKzDq",
        "outputId": "79fa9858-5716-48fb-ee07-4640ad7d2d20"
      },
      "execution_count": null,
      "outputs": [
        {
          "output_type": "stream",
          "name": "stdout",
          "text": [
            "<class 'pandas.core.frame.DataFrame'>\n",
            "Int64Index: 105 entries, 0 to 104\n",
            "Data columns (total 2 columns):\n",
            " #   Column  Non-Null Count  Dtype  \n",
            "---  ------  --------------  -----  \n",
            " 0   Date    105 non-null    object \n",
            " 1   Sales   105 non-null    float64\n",
            "dtypes: float64(1), object(1)\n",
            "memory usage: 2.5+ KB\n"
          ]
        }
      ]
    },
    {
      "cell_type": "code",
      "source": [
        "df"
      ],
      "metadata": {
        "colab": {
          "base_uri": "https://localhost:8080/",
          "height": 424
        },
        "id": "4ADhhVd6LkzX",
        "outputId": "e0e6014b-b2a7-4fbb-d43e-ba4e131a04ac"
      },
      "execution_count": null,
      "outputs": [
        {
          "output_type": "execute_result",
          "data": {
            "text/plain": [
              "        Date   Sales\n",
              "0    1964-01  2815.0\n",
              "1    1964-02  2672.0\n",
              "2    1964-03  2755.0\n",
              "3    1964-04  2721.0\n",
              "4    1964-05  2946.0\n",
              "..       ...     ...\n",
              "100  1972-05  4618.0\n",
              "101  1972-06  5312.0\n",
              "102  1972-07  4298.0\n",
              "103  1972-08  1413.0\n",
              "104  1972-09  5877.0\n",
              "\n",
              "[105 rows x 2 columns]"
            ],
            "text/html": [
              "\n",
              "  <div id=\"df-21da8818-3bab-4ced-94ac-b951b9fda150\">\n",
              "    <div class=\"colab-df-container\">\n",
              "      <div>\n",
              "<style scoped>\n",
              "    .dataframe tbody tr th:only-of-type {\n",
              "        vertical-align: middle;\n",
              "    }\n",
              "\n",
              "    .dataframe tbody tr th {\n",
              "        vertical-align: top;\n",
              "    }\n",
              "\n",
              "    .dataframe thead th {\n",
              "        text-align: right;\n",
              "    }\n",
              "</style>\n",
              "<table border=\"1\" class=\"dataframe\">\n",
              "  <thead>\n",
              "    <tr style=\"text-align: right;\">\n",
              "      <th></th>\n",
              "      <th>Date</th>\n",
              "      <th>Sales</th>\n",
              "    </tr>\n",
              "  </thead>\n",
              "  <tbody>\n",
              "    <tr>\n",
              "      <th>0</th>\n",
              "      <td>1964-01</td>\n",
              "      <td>2815.0</td>\n",
              "    </tr>\n",
              "    <tr>\n",
              "      <th>1</th>\n",
              "      <td>1964-02</td>\n",
              "      <td>2672.0</td>\n",
              "    </tr>\n",
              "    <tr>\n",
              "      <th>2</th>\n",
              "      <td>1964-03</td>\n",
              "      <td>2755.0</td>\n",
              "    </tr>\n",
              "    <tr>\n",
              "      <th>3</th>\n",
              "      <td>1964-04</td>\n",
              "      <td>2721.0</td>\n",
              "    </tr>\n",
              "    <tr>\n",
              "      <th>4</th>\n",
              "      <td>1964-05</td>\n",
              "      <td>2946.0</td>\n",
              "    </tr>\n",
              "    <tr>\n",
              "      <th>...</th>\n",
              "      <td>...</td>\n",
              "      <td>...</td>\n",
              "    </tr>\n",
              "    <tr>\n",
              "      <th>100</th>\n",
              "      <td>1972-05</td>\n",
              "      <td>4618.0</td>\n",
              "    </tr>\n",
              "    <tr>\n",
              "      <th>101</th>\n",
              "      <td>1972-06</td>\n",
              "      <td>5312.0</td>\n",
              "    </tr>\n",
              "    <tr>\n",
              "      <th>102</th>\n",
              "      <td>1972-07</td>\n",
              "      <td>4298.0</td>\n",
              "    </tr>\n",
              "    <tr>\n",
              "      <th>103</th>\n",
              "      <td>1972-08</td>\n",
              "      <td>1413.0</td>\n",
              "    </tr>\n",
              "    <tr>\n",
              "      <th>104</th>\n",
              "      <td>1972-09</td>\n",
              "      <td>5877.0</td>\n",
              "    </tr>\n",
              "  </tbody>\n",
              "</table>\n",
              "<p>105 rows × 2 columns</p>\n",
              "</div>\n",
              "      <button class=\"colab-df-convert\" onclick=\"convertToInteractive('df-21da8818-3bab-4ced-94ac-b951b9fda150')\"\n",
              "              title=\"Convert this dataframe to an interactive table.\"\n",
              "              style=\"display:none;\">\n",
              "        \n",
              "  <svg xmlns=\"http://www.w3.org/2000/svg\" height=\"24px\"viewBox=\"0 0 24 24\"\n",
              "       width=\"24px\">\n",
              "    <path d=\"M0 0h24v24H0V0z\" fill=\"none\"/>\n",
              "    <path d=\"M18.56 5.44l.94 2.06.94-2.06 2.06-.94-2.06-.94-.94-2.06-.94 2.06-2.06.94zm-11 1L8.5 8.5l.94-2.06 2.06-.94-2.06-.94L8.5 2.5l-.94 2.06-2.06.94zm10 10l.94 2.06.94-2.06 2.06-.94-2.06-.94-.94-2.06-.94 2.06-2.06.94z\"/><path d=\"M17.41 7.96l-1.37-1.37c-.4-.4-.92-.59-1.43-.59-.52 0-1.04.2-1.43.59L10.3 9.45l-7.72 7.72c-.78.78-.78 2.05 0 2.83L4 21.41c.39.39.9.59 1.41.59.51 0 1.02-.2 1.41-.59l7.78-7.78 2.81-2.81c.8-.78.8-2.07 0-2.86zM5.41 20L4 18.59l7.72-7.72 1.47 1.35L5.41 20z\"/>\n",
              "  </svg>\n",
              "      </button>\n",
              "      \n",
              "  <style>\n",
              "    .colab-df-container {\n",
              "      display:flex;\n",
              "      flex-wrap:wrap;\n",
              "      gap: 12px;\n",
              "    }\n",
              "\n",
              "    .colab-df-convert {\n",
              "      background-color: #E8F0FE;\n",
              "      border: none;\n",
              "      border-radius: 50%;\n",
              "      cursor: pointer;\n",
              "      display: none;\n",
              "      fill: #1967D2;\n",
              "      height: 32px;\n",
              "      padding: 0 0 0 0;\n",
              "      width: 32px;\n",
              "    }\n",
              "\n",
              "    .colab-df-convert:hover {\n",
              "      background-color: #E2EBFA;\n",
              "      box-shadow: 0px 1px 2px rgba(60, 64, 67, 0.3), 0px 1px 3px 1px rgba(60, 64, 67, 0.15);\n",
              "      fill: #174EA6;\n",
              "    }\n",
              "\n",
              "    [theme=dark] .colab-df-convert {\n",
              "      background-color: #3B4455;\n",
              "      fill: #D2E3FC;\n",
              "    }\n",
              "\n",
              "    [theme=dark] .colab-df-convert:hover {\n",
              "      background-color: #434B5C;\n",
              "      box-shadow: 0px 1px 3px 1px rgba(0, 0, 0, 0.15);\n",
              "      filter: drop-shadow(0px 1px 2px rgba(0, 0, 0, 0.3));\n",
              "      fill: #FFFFFF;\n",
              "    }\n",
              "  </style>\n",
              "\n",
              "      <script>\n",
              "        const buttonEl =\n",
              "          document.querySelector('#df-21da8818-3bab-4ced-94ac-b951b9fda150 button.colab-df-convert');\n",
              "        buttonEl.style.display =\n",
              "          google.colab.kernel.accessAllowed ? 'block' : 'none';\n",
              "\n",
              "        async function convertToInteractive(key) {\n",
              "          const element = document.querySelector('#df-21da8818-3bab-4ced-94ac-b951b9fda150');\n",
              "          const dataTable =\n",
              "            await google.colab.kernel.invokeFunction('convertToInteractive',\n",
              "                                                     [key], {});\n",
              "          if (!dataTable) return;\n",
              "\n",
              "          const docLinkHtml = 'Like what you see? Visit the ' +\n",
              "            '<a target=\"_blank\" href=https://colab.research.google.com/notebooks/data_table.ipynb>data table notebook</a>'\n",
              "            + ' to learn more about interactive tables.';\n",
              "          element.innerHTML = '';\n",
              "          dataTable['output_type'] = 'display_data';\n",
              "          await google.colab.output.renderOutput(dataTable, element);\n",
              "          const docLink = document.createElement('div');\n",
              "          docLink.innerHTML = docLinkHtml;\n",
              "          element.appendChild(docLink);\n",
              "        }\n",
              "      </script>\n",
              "    </div>\n",
              "  </div>\n",
              "  "
            ]
          },
          "metadata": {},
          "execution_count": 8
        }
      ]
    },
    {
      "cell_type": "code",
      "source": [
        "df['Date'] = pd.to_datetime(df['Date'])"
      ],
      "metadata": {
        "id": "FCpzVfIpEJ08"
      },
      "execution_count": null,
      "outputs": []
    },
    {
      "cell_type": "code",
      "source": [
        "df.set_index('Date', inplace = True)"
      ],
      "metadata": {
        "id": "xhm7UvfpEJ3j"
      },
      "execution_count": null,
      "outputs": []
    },
    {
      "cell_type": "code",
      "source": [
        "df"
      ],
      "metadata": {
        "colab": {
          "base_uri": "https://localhost:8080/",
          "height": 455
        },
        "id": "sxZYFeFbL1KB",
        "outputId": "7a491d39-52aa-4d68-94bf-0207ebd6c4b6"
      },
      "execution_count": null,
      "outputs": [
        {
          "output_type": "execute_result",
          "data": {
            "text/plain": [
              "             Sales\n",
              "Date              \n",
              "1964-01-01  2815.0\n",
              "1964-02-01  2672.0\n",
              "1964-03-01  2755.0\n",
              "1964-04-01  2721.0\n",
              "1964-05-01  2946.0\n",
              "...            ...\n",
              "1972-05-01  4618.0\n",
              "1972-06-01  5312.0\n",
              "1972-07-01  4298.0\n",
              "1972-08-01  1413.0\n",
              "1972-09-01  5877.0\n",
              "\n",
              "[105 rows x 1 columns]"
            ],
            "text/html": [
              "\n",
              "  <div id=\"df-e1a0bba3-56c7-4c42-b06e-5e9143d897c1\">\n",
              "    <div class=\"colab-df-container\">\n",
              "      <div>\n",
              "<style scoped>\n",
              "    .dataframe tbody tr th:only-of-type {\n",
              "        vertical-align: middle;\n",
              "    }\n",
              "\n",
              "    .dataframe tbody tr th {\n",
              "        vertical-align: top;\n",
              "    }\n",
              "\n",
              "    .dataframe thead th {\n",
              "        text-align: right;\n",
              "    }\n",
              "</style>\n",
              "<table border=\"1\" class=\"dataframe\">\n",
              "  <thead>\n",
              "    <tr style=\"text-align: right;\">\n",
              "      <th></th>\n",
              "      <th>Sales</th>\n",
              "    </tr>\n",
              "    <tr>\n",
              "      <th>Date</th>\n",
              "      <th></th>\n",
              "    </tr>\n",
              "  </thead>\n",
              "  <tbody>\n",
              "    <tr>\n",
              "      <th>1964-01-01</th>\n",
              "      <td>2815.0</td>\n",
              "    </tr>\n",
              "    <tr>\n",
              "      <th>1964-02-01</th>\n",
              "      <td>2672.0</td>\n",
              "    </tr>\n",
              "    <tr>\n",
              "      <th>1964-03-01</th>\n",
              "      <td>2755.0</td>\n",
              "    </tr>\n",
              "    <tr>\n",
              "      <th>1964-04-01</th>\n",
              "      <td>2721.0</td>\n",
              "    </tr>\n",
              "    <tr>\n",
              "      <th>1964-05-01</th>\n",
              "      <td>2946.0</td>\n",
              "    </tr>\n",
              "    <tr>\n",
              "      <th>...</th>\n",
              "      <td>...</td>\n",
              "    </tr>\n",
              "    <tr>\n",
              "      <th>1972-05-01</th>\n",
              "      <td>4618.0</td>\n",
              "    </tr>\n",
              "    <tr>\n",
              "      <th>1972-06-01</th>\n",
              "      <td>5312.0</td>\n",
              "    </tr>\n",
              "    <tr>\n",
              "      <th>1972-07-01</th>\n",
              "      <td>4298.0</td>\n",
              "    </tr>\n",
              "    <tr>\n",
              "      <th>1972-08-01</th>\n",
              "      <td>1413.0</td>\n",
              "    </tr>\n",
              "    <tr>\n",
              "      <th>1972-09-01</th>\n",
              "      <td>5877.0</td>\n",
              "    </tr>\n",
              "  </tbody>\n",
              "</table>\n",
              "<p>105 rows × 1 columns</p>\n",
              "</div>\n",
              "      <button class=\"colab-df-convert\" onclick=\"convertToInteractive('df-e1a0bba3-56c7-4c42-b06e-5e9143d897c1')\"\n",
              "              title=\"Convert this dataframe to an interactive table.\"\n",
              "              style=\"display:none;\">\n",
              "        \n",
              "  <svg xmlns=\"http://www.w3.org/2000/svg\" height=\"24px\"viewBox=\"0 0 24 24\"\n",
              "       width=\"24px\">\n",
              "    <path d=\"M0 0h24v24H0V0z\" fill=\"none\"/>\n",
              "    <path d=\"M18.56 5.44l.94 2.06.94-2.06 2.06-.94-2.06-.94-.94-2.06-.94 2.06-2.06.94zm-11 1L8.5 8.5l.94-2.06 2.06-.94-2.06-.94L8.5 2.5l-.94 2.06-2.06.94zm10 10l.94 2.06.94-2.06 2.06-.94-2.06-.94-.94-2.06-.94 2.06-2.06.94z\"/><path d=\"M17.41 7.96l-1.37-1.37c-.4-.4-.92-.59-1.43-.59-.52 0-1.04.2-1.43.59L10.3 9.45l-7.72 7.72c-.78.78-.78 2.05 0 2.83L4 21.41c.39.39.9.59 1.41.59.51 0 1.02-.2 1.41-.59l7.78-7.78 2.81-2.81c.8-.78.8-2.07 0-2.86zM5.41 20L4 18.59l7.72-7.72 1.47 1.35L5.41 20z\"/>\n",
              "  </svg>\n",
              "      </button>\n",
              "      \n",
              "  <style>\n",
              "    .colab-df-container {\n",
              "      display:flex;\n",
              "      flex-wrap:wrap;\n",
              "      gap: 12px;\n",
              "    }\n",
              "\n",
              "    .colab-df-convert {\n",
              "      background-color: #E8F0FE;\n",
              "      border: none;\n",
              "      border-radius: 50%;\n",
              "      cursor: pointer;\n",
              "      display: none;\n",
              "      fill: #1967D2;\n",
              "      height: 32px;\n",
              "      padding: 0 0 0 0;\n",
              "      width: 32px;\n",
              "    }\n",
              "\n",
              "    .colab-df-convert:hover {\n",
              "      background-color: #E2EBFA;\n",
              "      box-shadow: 0px 1px 2px rgba(60, 64, 67, 0.3), 0px 1px 3px 1px rgba(60, 64, 67, 0.15);\n",
              "      fill: #174EA6;\n",
              "    }\n",
              "\n",
              "    [theme=dark] .colab-df-convert {\n",
              "      background-color: #3B4455;\n",
              "      fill: #D2E3FC;\n",
              "    }\n",
              "\n",
              "    [theme=dark] .colab-df-convert:hover {\n",
              "      background-color: #434B5C;\n",
              "      box-shadow: 0px 1px 3px 1px rgba(0, 0, 0, 0.15);\n",
              "      filter: drop-shadow(0px 1px 2px rgba(0, 0, 0, 0.3));\n",
              "      fill: #FFFFFF;\n",
              "    }\n",
              "  </style>\n",
              "\n",
              "      <script>\n",
              "        const buttonEl =\n",
              "          document.querySelector('#df-e1a0bba3-56c7-4c42-b06e-5e9143d897c1 button.colab-df-convert');\n",
              "        buttonEl.style.display =\n",
              "          google.colab.kernel.accessAllowed ? 'block' : 'none';\n",
              "\n",
              "        async function convertToInteractive(key) {\n",
              "          const element = document.querySelector('#df-e1a0bba3-56c7-4c42-b06e-5e9143d897c1');\n",
              "          const dataTable =\n",
              "            await google.colab.kernel.invokeFunction('convertToInteractive',\n",
              "                                                     [key], {});\n",
              "          if (!dataTable) return;\n",
              "\n",
              "          const docLinkHtml = 'Like what you see? Visit the ' +\n",
              "            '<a target=\"_blank\" href=https://colab.research.google.com/notebooks/data_table.ipynb>data table notebook</a>'\n",
              "            + ' to learn more about interactive tables.';\n",
              "          element.innerHTML = '';\n",
              "          dataTable['output_type'] = 'display_data';\n",
              "          await google.colab.output.renderOutput(dataTable, element);\n",
              "          const docLink = document.createElement('div');\n",
              "          docLink.innerHTML = docLinkHtml;\n",
              "          element.appendChild(docLink);\n",
              "        }\n",
              "      </script>\n",
              "    </div>\n",
              "  </div>\n",
              "  "
            ]
          },
          "metadata": {},
          "execution_count": 11
        }
      ]
    },
    {
      "cell_type": "code",
      "source": [
        "df.plot()"
      ],
      "metadata": {
        "colab": {
          "base_uri": "https://localhost:8080/",
          "height": 296
        },
        "id": "WI6h8p-5L9lw",
        "outputId": "a2139791-e164-401b-e013-9c7ae22eca35"
      },
      "execution_count": null,
      "outputs": [
        {
          "output_type": "execute_result",
          "data": {
            "text/plain": [
              "<matplotlib.axes._subplots.AxesSubplot at 0x7f3e074a8650>"
            ]
          },
          "metadata": {},
          "execution_count": 12
        },
        {
          "output_type": "display_data",
          "data": {
            "text/plain": [
              "<Figure size 432x288 with 1 Axes>"
            ],
            "image/png": "[encoded data removed]"
          },
          "metadata": {
            "needs_background": "light"
          }
        }
      ]
    },
    {
      "cell_type": "code",
      "source": [
        "from statsmodels.tsa.seasonal import seasonal_decompose\n",
        "s_dec_additive = seasonal_decompose(df['Sales'], model='additive')\n",
        "s_dec_additive.plot()\n",
        "plt.show()"
      ],
      "metadata": {
        "colab": {
          "base_uri": "https://localhost:8080/",
          "height": 297
        },
        "id": "x_MEoywPL2pD",
        "outputId": "310081eb-1069-4dac-84d7-44696e9c4f71"
      },
      "execution_count": null,
      "outputs": [
        {
          "output_type": "display_data",
          "data": {
            "text/plain": [
              "<Figure size 432x288 with 4 Axes>"
            ],
            "image/png": "[encoded data removed]"
          },
          "metadata": {
            "needs_background": "light"
          }
        }
      ]
    },
    {
      "cell_type": "code",
      "source": [
        "s_dec_multip = seasonal_decompose(df['Sales'], model='multiplicative')\n",
        "s_dec_multip.plot()\n",
        "plt.show()"
      ],
      "metadata": {
        "colab": {
          "base_uri": "https://localhost:8080/",
          "height": 297
        },
        "id": "aEESQSc0L2sM",
        "outputId": "d2001772-ca45-4cb0-f805-33450eb03aa1"
      },
      "execution_count": null,
      "outputs": [
        {
          "output_type": "display_data",
          "data": {
            "text/plain": [
              "<Figure size 432x288 with 4 Axes>"
            ],
            "image/png": "[encoded data removed]"
          },
          "metadata": {
            "needs_background": "light"
          }
        }
      ]
    },
    {
      "cell_type": "code",
      "source": [
        "from statsmodels.tsa.stattools import adfuller"
      ],
      "metadata": {
        "id": "DP0BM7KnL2vA"
      },
      "execution_count": null,
      "outputs": []
    },
    {
      "cell_type": "code",
      "source": [
        "def adf_test(series):\n",
        "  result = adfuller(series)\n",
        "  print('ADF statistics : {}'. format(result[0]))\n",
        "  print('p-value : {}'.format(result[1]))\n",
        "  if result[1] <= 0.05:\n",
        "    print('reject null hypothesis and data is stationary')\n",
        "  else:\n",
        "    print('weak evidence of null hypothesis and data is not stationary')"
      ],
      "metadata": {
        "id": "veaP4yTrL2xj"
      },
      "execution_count": null,
      "outputs": []
    },
    {
      "cell_type": "code",
      "source": [
        "adf_test(df['Sales'])"
      ],
      "metadata": {
        "colab": {
          "base_uri": "https://localhost:8080/"
        },
        "id": "t8G6jSi_L20B",
        "outputId": "aea17a4f-a387-47aa-dd2d-c01dc7d7e5d7"
      },
      "execution_count": null,
      "outputs": [
        {
          "output_type": "stream",
          "name": "stdout",
          "text": [
            "ADF statistics : -1.8335930563276188\n",
            "p-value : 0.363915771660247\n",
            "weak evidence of null hypothesis and data is not stationary\n"
          ]
        }
      ]
    },
    {
      "cell_type": "code",
      "source": [
        "df['roll_mean'] = (df.Sales.rolling(window=24).mean())"
      ],
      "metadata": {
        "id": "SatWqhRcL22a"
      },
      "execution_count": null,
      "outputs": []
    },
    {
      "cell_type": "code",
      "source": [
        "adf_test(df['roll_mean'].dropna())"
      ],
      "metadata": {
        "colab": {
          "base_uri": "https://localhost:8080/"
        },
        "id": "zUpn2Y2QPSUm",
        "outputId": "d0e7e310-2209-4da1-ae53-a196d6a46a36"
      },
      "execution_count": null,
      "outputs": [
        {
          "output_type": "stream",
          "name": "stdout",
          "text": [
            "ADF statistics : -2.2603475316728274\n",
            "p-value : 0.1850756480718505\n",
            "weak evidence of null hypothesis and data is not stationary\n"
          ]
        }
      ]
    },
    {
      "cell_type": "code",
      "source": [
        "df['roll_mean_first_diff'] = df['roll_mean'] - df['roll_mean'].shift(1)"
      ],
      "metadata": {
        "id": "xUrjeuuaRmpr"
      },
      "execution_count": null,
      "outputs": []
    },
    {
      "cell_type": "code",
      "source": [
        "adf_test(df['roll_mean_first_diff'].dropna())"
      ],
      "metadata": {
        "colab": {
          "base_uri": "https://localhost:8080/"
        },
        "id": "ij67RkJ5RnXN",
        "outputId": "7bbc244b-d4cd-4601-d0de-21c78bc7dc77"
      },
      "execution_count": null,
      "outputs": [
        {
          "output_type": "stream",
          "name": "stdout",
          "text": [
            "ADF statistics : -5.916804007763213\n",
            "p-value : 2.561407157512279e-07\n",
            "reject null hypothesis and data is stationary\n"
          ]
        }
      ]
    },
    {
      "cell_type": "code",
      "source": [
        "df['Sales_first_diff'] = df['Sales'] - df['Sales'].shift(1)"
      ],
      "metadata": {
        "id": "dXzaMD9qPSXh"
      },
      "execution_count": null,
      "outputs": []
    },
    {
      "cell_type": "code",
      "source": [
        "adf_test(df['Sales_first_diff'].dropna())"
      ],
      "metadata": {
        "colab": {
          "base_uri": "https://localhost:8080/"
        },
        "id": "nUrFsE_QPSaB",
        "outputId": "28ea7221-d6e3-46f9-94af-e33d9ace9e99"
      },
      "execution_count": null,
      "outputs": [
        {
          "output_type": "stream",
          "name": "stdout",
          "text": [
            "ADF statistics : -7.189896448051\n",
            "p-value : 2.519620447387081e-10\n",
            "reject null hypothesis and data is stationary\n"
          ]
        }
      ]
    },
    {
      "cell_type": "code",
      "source": [
        "df['Logging_sales'] = np.log(df['Sales'])"
      ],
      "metadata": {
        "id": "-1Im01c6PSc6"
      },
      "execution_count": null,
      "outputs": []
    },
    {
      "cell_type": "code",
      "source": [
        "adf_test(df['Logging_sales'].dropna())"
      ],
      "metadata": {
        "colab": {
          "base_uri": "https://localhost:8080/"
        },
        "id": "1hy5TfmLPSfw",
        "outputId": "fadf31b0-9e52-417e-e962-04329fe0a207"
      },
      "execution_count": null,
      "outputs": [
        {
          "output_type": "stream",
          "name": "stdout",
          "text": [
            "ADF statistics : -2.2551186012844227\n",
            "p-value : 0.1868517311168746\n",
            "weak evidence of null hypothesis and data is not stationary\n"
          ]
        }
      ]
    },
    {
      "cell_type": "code",
      "source": [
        "df['Logging_sales_first_diff'] = df['Logging_sales'] - df['Logging_sales'].shift(1)"
      ],
      "metadata": {
        "id": "oujq1gVMPSiH"
      },
      "execution_count": null,
      "outputs": []
    },
    {
      "cell_type": "code",
      "source": [
        "adf_test(df['Logging_sales_first_diff'].dropna())"
      ],
      "metadata": {
        "colab": {
          "base_uri": "https://localhost:8080/"
        },
        "id": "3X2hvxxPSZrx",
        "outputId": "5d4500df-d1e1-4225-f4e8-380bc3dabb70"
      },
      "execution_count": null,
      "outputs": [
        {
          "output_type": "stream",
          "name": "stdout",
          "text": [
            "ADF statistics : -4.460914465253656\n",
            "p-value : 0.00023121404649533762\n",
            "reject null hypothesis and data is stationary\n"
          ]
        }
      ]
    },
    {
      "cell_type": "code",
      "source": [
        "P_value =  [2.561407157512279e-07,0.00023121404649533762, 2.519620447387081e-10]"
      ],
      "metadata": {
        "id": "zk_CmP7zSZul"
      },
      "execution_count": null,
      "outputs": []
    },
    {
      "cell_type": "code",
      "source": [
        "print(min(P_value))"
      ],
      "metadata": {
        "colab": {
          "base_uri": "https://localhost:8080/"
        },
        "id": "YTPdNbQUSZxI",
        "outputId": "37c7b8bd-9010-4e89-be7f-6baa63312d18"
      },
      "execution_count": null,
      "outputs": [
        {
          "output_type": "stream",
          "name": "stdout",
          "text": [
            "2.519620447387081e-10\n"
          ]
        }
      ]
    },
    {
      "cell_type": "code",
      "source": [
        "from statsmodels.graphics.tsaplots import plot_acf,plot_pacf"
      ],
      "metadata": {
        "id": "BfYU-X21SZzq"
      },
      "execution_count": null,
      "outputs": []
    },
    {
      "cell_type": "code",
      "source": [
        "acf = plot_acf(df['Sales_first_diff'].dropna())"
      ],
      "metadata": {
        "colab": {
          "base_uri": "https://localhost:8080/",
          "height": 281
        },
        "id": "boMIyu1VSZ2C",
        "outputId": "91a4c95e-3d23-488e-dfb2-676c2a2fb94e"
      },
      "execution_count": null,
      "outputs": [
        {
          "output_type": "display_data",
          "data": {
            "text/plain": [
              "<Figure size 432x288 with 1 Axes>"
            ],
            "image/png": "[encoded data removed]"
          },
          "metadata": {
            "needs_background": "light"
          }
        }
      ]
    },
    {
      "cell_type": "code",
      "source": [
        "pacf = plot_pacf(df['Sales_first_diff'].dropna(), lags = 15)"
      ],
      "metadata": {
        "colab": {
          "base_uri": "https://localhost:8080/",
          "height": 336
        },
        "id": "kgg0WOIvSZ4o",
        "outputId": "8f089c4a-e2b5-4734-b47b-cc7589a45760"
      },
      "execution_count": null,
      "outputs": [
        {
          "output_type": "stream",
          "name": "stderr",
          "text": [
            "/usr/local/lib/python3.7/dist-packages/statsmodels/graphics/tsaplots.py:353: FutureWarning: The default method 'yw' can produce PACF values outside of the [-1,1] interval. After 0.13, the default will change tounadjusted Yule-Walker ('ywm'). You can use this method now by setting method='ywm'.\n",
            "  FutureWarning,\n"
          ]
        },
        {
          "output_type": "display_data",
          "data": {
            "text/plain": [
              "<Figure size 432x288 with 1 Axes>"
            ],
            "image/png": "[encoded data removed]"
          },
          "metadata": {
            "needs_background": "light"
          }
        }
      ]
    },
    {
      "cell_type": "code",
      "source": [
        "df.plot()"
      ],
      "metadata": {
        "colab": {
          "base_uri": "https://localhost:8080/",
          "height": 299
        },
        "id": "cjlxy72RQTE1",
        "outputId": "13640b8b-cfd0-4969-ef82-a0a4b767962d"
      },
      "execution_count": null,
      "outputs": [
        {
          "output_type": "execute_result",
          "data": {
            "text/plain": [
              "<matplotlib.axes._subplots.AxesSubplot at 0x7f5cd39b9b50>"
            ]
          },
          "metadata": {},
          "execution_count": 41
        },
        {
          "output_type": "display_data",
          "data": {
            "text/plain": [
              "<Figure size 432x288 with 1 Axes>"
            ],
            "image/png": "[encoded data removed]"
          },
          "metadata": {
            "needs_background": "light"
          }
        }
      ]
    },
    {
      "cell_type": "code",
      "source": [
        "from statsmodels.tsa.arima_model import ARIMA"
      ],
      "metadata": {
        "id": "EA5ucXm3VSEp"
      },
      "execution_count": null,
      "outputs": []
    },
    {
      "cell_type": "code",
      "source": [
        "train_size = int(len(df)*0.90)\n",
        "train_data = df.iloc[:train_size]\n",
        "test_data = df.iloc[train_size:]"
      ],
      "metadata": {
        "id": "YPi0j40_WPji"
      },
      "execution_count": null,
      "outputs": []
    },
    {
      "cell_type": "code",
      "source": [
        "model_ARIMA = ARIMA(train_data['Sales'],order = (4,1,2))"
      ],
      "metadata": {
        "colab": {
          "base_uri": "https://localhost:8080/",
          "height": 433
        },
        "id": "5WLJBRihWPmV",
        "outputId": "75b8404c-bf9d-45d2-92e2-29c153a43a00"
      },
      "execution_count": null,
      "outputs": [
        {
          "output_type": "error",
          "ename": "NotImplementedError",
          "evalue": "ignored",
          "traceback": [
            "\u001b[0;31m---------------------------------------------------------------------------\u001b[0m",
            "\u001b[0;31mNotImplementedError\u001b[0m                       Traceback (most recent call last)",
            "\u001b[0;32m<ipython-input-44-1efa87a42cfa>\u001b[0m in \u001b[0;36m<module>\u001b[0;34m()\u001b[0m\n\u001b[0;32m----> 1\u001b[0;31m \u001b[0mmodel_ARIMA\u001b[0m \u001b[0;34m=\u001b[0m \u001b[0mARIMA\u001b[0m\u001b[0;34m(\u001b[0m\u001b[0mtrain_data\u001b[0m\u001b[0;34m[\u001b[0m\u001b[0;34m'Sales'\u001b[0m\u001b[0;34m]\u001b[0m\u001b[0;34m,\u001b[0m\u001b[0morder\u001b[0m \u001b[0;34m=\u001b[0m \u001b[0;34m(\u001b[0m\u001b[0;36m4\u001b[0m\u001b[0;34m,\u001b[0m\u001b[0;36m1\u001b[0m\u001b[0;34m,\u001b[0m\u001b[0;36m2\u001b[0m\u001b[0;34m)\u001b[0m\u001b[0;34m)\u001b[0m\u001b[0;34m\u001b[0m\u001b[0;34m\u001b[0m\u001b[0m\n\u001b[0m",
            "\u001b[0;32m/usr/local/lib/python3.7/dist-packages/statsmodels/tsa/arima_model.py\u001b[0m in \u001b[0;36m__init__\u001b[0;34m(self, *args, **kwargs)\u001b[0m\n\u001b[1;32m     43\u001b[0m \u001b[0;34m\u001b[0m\u001b[0m\n\u001b[1;32m     44\u001b[0m     \u001b[0;32mdef\u001b[0m \u001b[0m__init__\u001b[0m\u001b[0;34m(\u001b[0m\u001b[0mself\u001b[0m\u001b[0;34m,\u001b[0m \u001b[0;34m*\u001b[0m\u001b[0margs\u001b[0m\u001b[0;34m,\u001b[0m \u001b[0;34m**\u001b[0m\u001b[0mkwargs\u001b[0m\u001b[0;34m)\u001b[0m\u001b[0;34m:\u001b[0m\u001b[0;34m\u001b[0m\u001b[0;34m\u001b[0m\u001b[0m\n\u001b[0;32m---> 45\u001b[0;31m         \u001b[0msuper\u001b[0m\u001b[0;34m(\u001b[0m\u001b[0;34m)\u001b[0m\u001b[0;34m.\u001b[0m\u001b[0m__init__\u001b[0m\u001b[0;34m(\u001b[0m\u001b[0;34m*\u001b[0m\u001b[0margs\u001b[0m\u001b[0;34m,\u001b[0m \u001b[0;34m**\u001b[0m\u001b[0mkwargs\u001b[0m\u001b[0;34m)\u001b[0m\u001b[0;34m\u001b[0m\u001b[0;34m\u001b[0m\u001b[0m\n\u001b[0m\u001b[1;32m     46\u001b[0m \u001b[0;34m\u001b[0m\u001b[0m\n\u001b[1;32m     47\u001b[0m \u001b[0;34m\u001b[0m\u001b[0m\n",
            "\u001b[0;32m/usr/local/lib/python3.7/dist-packages/statsmodels/tsa/arima_model.py\u001b[0m in \u001b[0;36m__init__\u001b[0;34m(self, *args, **kwargs)\u001b[0m\n\u001b[1;32m     27\u001b[0m \u001b[0;34m\u001b[0m\u001b[0m\n\u001b[1;32m     28\u001b[0m     \u001b[0;32mdef\u001b[0m \u001b[0m__init__\u001b[0m\u001b[0;34m(\u001b[0m\u001b[0mself\u001b[0m\u001b[0;34m,\u001b[0m \u001b[0;34m*\u001b[0m\u001b[0margs\u001b[0m\u001b[0;34m,\u001b[0m \u001b[0;34m**\u001b[0m\u001b[0mkwargs\u001b[0m\u001b[0;34m)\u001b[0m\u001b[0;34m:\u001b[0m\u001b[0;34m\u001b[0m\u001b[0;34m\u001b[0m\u001b[0m\n\u001b[0;32m---> 29\u001b[0;31m         \u001b[0;32mraise\u001b[0m \u001b[0mNotImplementedError\u001b[0m\u001b[0;34m(\u001b[0m\u001b[0mARIMA_DEPRECATION_ERROR\u001b[0m\u001b[0;34m)\u001b[0m\u001b[0;34m\u001b[0m\u001b[0;34m\u001b[0m\u001b[0m\n\u001b[0m\u001b[1;32m     30\u001b[0m \u001b[0;34m\u001b[0m\u001b[0m\n\u001b[1;32m     31\u001b[0m \u001b[0;34m\u001b[0m\u001b[0m\n",
            "\u001b[0;31mNotImplementedError\u001b[0m: \nstatsmodels.tsa.arima_model.ARMA and statsmodels.tsa.arima_model.ARIMA have\nbeen removed in favor of statsmodels.tsa.arima.model.ARIMA (note the .\nbetween arima and model) and statsmodels.tsa.SARIMAX.\n\nstatsmodels.tsa.arima.model.ARIMA makes use of the statespace framework and\nis both well tested and maintained. It also offers alternative specialized\nparameter estimators.\n"
          ]
        }
      ]
    },
    {
      "cell_type": "code",
      "source": [
        "model_ARIMA_fit = model_ARIMA.fit()"
      ],
      "metadata": {
        "id": "tFb0-5QGWPo3"
      },
      "execution_count": null,
      "outputs": []
    },
    {
      "cell_type": "code",
      "source": [
        "model_ARIMA_fit.summary()"
      ],
      "metadata": {
        "colab": {
          "base_uri": "https://localhost:8080/",
          "height": 528
        },
        "id": "YOkTNhbQWPrQ",
        "outputId": "6551f430-2478-4620-b1ec-d3346677e3cd"
      },
      "execution_count": null,
      "outputs": [
        {
          "output_type": "execute_result",
          "data": {
            "text/plain": [
              "<class 'statsmodels.iolib.summary.Summary'>\n",
              "\"\"\"\n",
              "                             ARIMA Model Results                              \n",
              "==============================================================================\n",
              "Dep. Variable:                D.Sales   No. Observations:                   93\n",
              "Model:                 ARIMA(4, 1, 2)   Log Likelihood                -837.954\n",
              "Method:                       css-mle   S.D. of innovations           1924.848\n",
              "Date:                Wed, 10 Aug 2022   AIC                           1691.907\n",
              "Time:                        06:20:08   BIC                           1712.168\n",
              "Sample:                    02-01-1964   HQIC                          1700.088\n",
              "                         - 10-01-1971                                         \n",
              "=================================================================================\n",
              "                    coef    std err          z      P>|z|      [0.025      0.975]\n",
              "---------------------------------------------------------------------------------\n",
              "const            25.7729      8.300      3.105      0.003       9.506      42.040\n",
              "ar.L1.D.Sales    -0.2191      0.125     -1.757      0.082      -0.464       0.025\n",
              "ar.L2.D.Sales     0.1076      0.111      0.971      0.334      -0.110       0.325\n",
              "ar.L3.D.Sales    -0.1725      0.104     -1.652      0.102      -0.377       0.032\n",
              "ar.L4.D.Sales    -0.3187      0.100     -3.194      0.002      -0.514      -0.123\n",
              "ma.L1.D.Sales    -0.2225      0.100     -2.227      0.029      -0.418      -0.027\n",
              "ma.L2.D.Sales    -0.7775      0.097     -7.978      0.000      -0.969      -0.587\n",
              "                                    Roots                                    \n",
              "=============================================================================\n",
              "                  Real          Imaginary           Modulus         Frequency\n",
              "-----------------------------------------------------------------------------\n",
              "AR.1           -1.1298           -0.7513j            1.3568           -0.4066\n",
              "AR.2           -1.1298           +0.7513j            1.3568            0.4066\n",
              "AR.3            0.8592           -0.9829j            1.3055           -0.1357\n",
              "AR.4            0.8592           +0.9829j            1.3055            0.1357\n",
              "MA.1            1.0000           +0.0000j            1.0000            0.0000\n",
              "MA.2           -1.2861           +0.0000j            1.2861            0.5000\n",
              "-----------------------------------------------------------------------------\n",
              "\"\"\""
            ],
            "text/html": [
              "<table class=\"simpletable\">\n",
              "<caption>ARIMA Model Results</caption>\n",
              "<tr>\n",
              "  <th>Dep. Variable:</th>      <td>D.Sales</td>     <th>  No. Observations:  </th>    <td>93</td>   \n",
              "</tr>\n",
              "<tr>\n",
              "  <th>Model:</th>          <td>ARIMA(4, 1, 2)</td>  <th>  Log Likelihood     </th> <td>-837.954</td>\n",
              "</tr>\n",
              "<tr>\n",
              "  <th>Method:</th>             <td>css-mle</td>     <th>  S.D. of innovations</th> <td>1924.848</td>\n",
              "</tr>\n",
              "<tr>\n",
              "  <th>Date:</th>          <td>Wed, 10 Aug 2022</td> <th>  AIC                </th> <td>1691.907</td>\n",
              "</tr>\n",
              "<tr>\n",
              "  <th>Time:</th>              <td>06:20:08</td>     <th>  BIC                </th> <td>1712.168</td>\n",
              "</tr>\n",
              "<tr>\n",
              "  <th>Sample:</th>           <td>02-01-1964</td>    <th>  HQIC               </th> <td>1700.088</td>\n",
              "</tr>\n",
              "<tr>\n",
              "  <th></th>                 <td>- 10-01-1971</td>   <th>                     </th>     <td> </td>   \n",
              "</tr>\n",
              "</table>\n",
              "<table class=\"simpletable\">\n",
              "<tr>\n",
              "        <td></td>           <th>coef</th>     <th>std err</th>      <th>z</th>      <th>P>|z|</th>  <th>[0.025</th>    <th>0.975]</th>  \n",
              "</tr>\n",
              "<tr>\n",
              "  <th>const</th>         <td>   25.7729</td> <td>    8.300</td> <td>    3.105</td> <td> 0.003</td> <td>    9.506</td> <td>   42.040</td>\n",
              "</tr>\n",
              "<tr>\n",
              "  <th>ar.L1.D.Sales</th> <td>   -0.2191</td> <td>    0.125</td> <td>   -1.757</td> <td> 0.082</td> <td>   -0.464</td> <td>    0.025</td>\n",
              "</tr>\n",
              "<tr>\n",
              "  <th>ar.L2.D.Sales</th> <td>    0.1076</td> <td>    0.111</td> <td>    0.971</td> <td> 0.334</td> <td>   -0.110</td> <td>    0.325</td>\n",
              "</tr>\n",
              "<tr>\n",
              "  <th>ar.L3.D.Sales</th> <td>   -0.1725</td> <td>    0.104</td> <td>   -1.652</td> <td> 0.102</td> <td>   -0.377</td> <td>    0.032</td>\n",
              "</tr>\n",
              "<tr>\n",
              "  <th>ar.L4.D.Sales</th> <td>   -0.3187</td> <td>    0.100</td> <td>   -3.194</td> <td> 0.002</td> <td>   -0.514</td> <td>   -0.123</td>\n",
              "</tr>\n",
              "<tr>\n",
              "  <th>ma.L1.D.Sales</th> <td>   -0.2225</td> <td>    0.100</td> <td>   -2.227</td> <td> 0.029</td> <td>   -0.418</td> <td>   -0.027</td>\n",
              "</tr>\n",
              "<tr>\n",
              "  <th>ma.L2.D.Sales</th> <td>   -0.7775</td> <td>    0.097</td> <td>   -7.978</td> <td> 0.000</td> <td>   -0.969</td> <td>   -0.587</td>\n",
              "</tr>\n",
              "</table>\n",
              "<table class=\"simpletable\">\n",
              "<caption>Roots</caption>\n",
              "<tr>\n",
              "    <td></td>   <th>            Real</th>  <th>         Imaginary</th> <th>         Modulus</th>  <th>        Frequency</th>\n",
              "</tr>\n",
              "<tr>\n",
              "  <th>AR.1</th> <td>          -1.1298</td> <td>          -0.7513j</td> <td>           1.3568</td> <td>          -0.4066</td>\n",
              "</tr>\n",
              "<tr>\n",
              "  <th>AR.2</th> <td>          -1.1298</td> <td>          +0.7513j</td> <td>           1.3568</td> <td>           0.4066</td>\n",
              "</tr>\n",
              "<tr>\n",
              "  <th>AR.3</th> <td>           0.8592</td> <td>          -0.9829j</td> <td>           1.3055</td> <td>          -0.1357</td>\n",
              "</tr>\n",
              "<tr>\n",
              "  <th>AR.4</th> <td>           0.8592</td> <td>          +0.9829j</td> <td>           1.3055</td> <td>           0.1357</td>\n",
              "</tr>\n",
              "<tr>\n",
              "  <th>MA.1</th> <td>           1.0000</td> <td>          +0.0000j</td> <td>           1.0000</td> <td>           0.0000</td>\n",
              "</tr>\n",
              "<tr>\n",
              "  <th>MA.2</th> <td>          -1.2861</td> <td>          +0.0000j</td> <td>           1.2861</td> <td>           0.5000</td>\n",
              "</tr>\n",
              "</table>"
            ]
          },
          "metadata": {},
          "execution_count": 130
        }
      ]
    },
    {
      "cell_type": "code",
      "source": [
        "pred_start_date = test_data.index[0]\n",
        "pred_end_date = test_data.index[-1]"
      ],
      "metadata": {
        "id": "WxBOdu8hXGaH"
      },
      "execution_count": null,
      "outputs": []
    },
    {
      "cell_type": "code",
      "source": [
        "pred_arima = model_ARIMA_fit.predict(start = pred_start_date, end = pred_end_date)"
      ],
      "metadata": {
        "id": "eo--8E8PVSM_"
      },
      "execution_count": null,
      "outputs": []
    },
    {
      "cell_type": "code",
      "source": [
        "pred_arima"
      ],
      "metadata": {
        "colab": {
          "base_uri": "https://localhost:8080/"
        },
        "id": "gTK1mxNHXF59",
        "outputId": "79d3a3cc-d9d1-4310-9e48-1eaee838a9f0"
      },
      "execution_count": null,
      "outputs": [
        {
          "output_type": "execute_result",
          "data": {
            "text/plain": [
              "1971-11-01    -344.466776\n",
              "1971-12-01     555.386155\n",
              "1972-01-01   -1663.009565\n",
              "1972-02-01     196.646152\n",
              "1972-03-01    -166.793227\n",
              "1972-04-01     208.823658\n",
              "1972-05-01     473.692045\n",
              "1972-06-01     -73.925500\n",
              "1972-07-01     125.637425\n",
              "1972-08-01    -142.431592\n",
              "1972-09-01     -52.179707\n",
              "Freq: MS, dtype: float64"
            ]
          },
          "metadata": {},
          "execution_count": 132
        }
      ]
    },
    {
      "cell_type": "code",
      "source": [
        "from sklearn.metrics import mean_squared_error, r2_score, mean_absolute_error"
      ],
      "metadata": {
        "id": "4G_TsL-kXF9A"
      },
      "execution_count": null,
      "outputs": []
    },
    {
      "cell_type": "code",
      "source": [
        "MSE = mean_squared_error(test_data['Sales'],pred_arima, squared = False)\n",
        "print(MSE)"
      ],
      "metadata": {
        "colab": {
          "base_uri": "https://localhost:8080/"
        },
        "id": "Ljp1kFK9XF_e",
        "outputId": "c5c800e5-02dc-4d76-a05a-996cee5568c6"
      },
      "execution_count": null,
      "outputs": [
        {
          "output_type": "stream",
          "name": "stdout",
          "text": [
            "6344.8030291272225\n"
          ]
        }
      ]
    },
    {
      "cell_type": "code",
      "source": [
        "r2 = r2_score(test_data['Sales'], pred_arima)\n",
        "print(r2)"
      ],
      "metadata": {
        "colab": {
          "base_uri": "https://localhost:8080/"
        },
        "id": "VEprlGZxVSPy",
        "outputId": "01ecb16e-2c6c-4baa-9139-a2d265e69e1e"
      },
      "execution_count": null,
      "outputs": [
        {
          "output_type": "stream",
          "name": "stdout",
          "text": [
            "-3.621516827684652\n"
          ]
        }
      ]
    },
    {
      "cell_type": "code",
      "source": [
        "from statsmodels.tsa.statespace.sarimax import SARIMAX"
      ],
      "metadata": {
        "id": "VC6xI48Fbch_"
      },
      "execution_count": null,
      "outputs": []
    },
    {
      "cell_type": "code",
      "source": [
        "model_SARIMA = SARIMAX(train_data['Sales'], order = (2,1,4), seasonal_order = (0,1,0,12))"
      ],
      "metadata": {
        "colab": {
          "base_uri": "https://localhost:8080/"
        },
        "id": "FXha0i_XVSU5",
        "outputId": "55a28208-1bfc-4d72-e23e-0bdf15e31500"
      },
      "execution_count": null,
      "outputs": [
        {
          "output_type": "stream",
          "name": "stderr",
          "text": [
            "/usr/local/lib/python3.7/dist-packages/statsmodels/tsa/base/tsa_model.py:471: ValueWarning: No frequency information was provided, so inferred frequency MS will be used.\n",
            "  self._init_dates(dates, freq)\n",
            "/usr/local/lib/python3.7/dist-packages/statsmodels/tsa/base/tsa_model.py:471: ValueWarning: No frequency information was provided, so inferred frequency MS will be used.\n",
            "  self._init_dates(dates, freq)\n"
          ]
        }
      ]
    },
    {
      "cell_type": "code",
      "source": [
        "model_SARIMA_fit = model_SARIMA.fit()"
      ],
      "metadata": {
        "colab": {
          "base_uri": "https://localhost:8080/"
        },
        "id": "Y_OU5ngIVSXt",
        "outputId": "538192cd-c9e4-4cf4-b7b7-cb2085dfee80"
      },
      "execution_count": null,
      "outputs": [
        {
          "output_type": "stream",
          "name": "stderr",
          "text": [
            "/usr/local/lib/python3.7/dist-packages/statsmodels/base/model.py:606: ConvergenceWarning: Maximum Likelihood optimization failed to converge. Check mle_retvals\n",
            "  ConvergenceWarning)\n"
          ]
        }
      ]
    },
    {
      "cell_type": "code",
      "source": [
        "model_SARIMA_fit.summary()"
      ],
      "metadata": {
        "colab": {
          "base_uri": "https://localhost:8080/",
          "height": 516
        },
        "id": "CNAeojleVSaj",
        "outputId": "4a849ac3-06fe-4ed0-a4c3-3cda0cd82e33"
      },
      "execution_count": null,
      "outputs": [
        {
          "output_type": "execute_result",
          "data": {
            "text/plain": [
              "<class 'statsmodels.iolib.summary.Summary'>\n",
              "\"\"\"\n",
              "                                      SARIMAX Results                                      \n",
              "===========================================================================================\n",
              "Dep. Variable:                               Sales   No. Observations:                   94\n",
              "Model:             SARIMAX(2, 1, 4)x(0, 1, [], 12)   Log Likelihood                -655.765\n",
              "Date:                             Wed, 10 Aug 2022   AIC                           1325.531\n",
              "Time:                                     07:03:08   BIC                           1342.292\n",
              "Sample:                                 01-01-1964   HQIC                          1332.256\n",
              "                                      - 10-01-1971                                         \n",
              "Covariance Type:                               opg                                         \n",
              "==============================================================================\n",
              "                 coef    std err          z      P>|z|      [0.025      0.975]\n",
              "------------------------------------------------------------------------------\n",
              "ar.L1         -0.2260      0.143     -1.584      0.113      -0.506       0.054\n",
              "ar.L2         -0.8778      0.144     -6.075      0.000      -1.161      -0.595\n",
              "ma.L1         -0.4736      0.174     -2.727      0.006      -0.814      -0.133\n",
              "ma.L2          0.5830      0.276      2.114      0.035       0.042       1.124\n",
              "ma.L3         -0.6598      0.221     -2.983      0.003      -1.093      -0.226\n",
              "ma.L4         -0.2884      0.113     -2.555      0.011      -0.510      -0.067\n",
              "sigma2      7.326e+05   1.67e+05      4.390      0.000    4.06e+05    1.06e+06\n",
              "===================================================================================\n",
              "Ljung-Box (L1) (Q):                   0.29   Jarque-Bera (JB):                 5.14\n",
              "Prob(Q):                              0.59   Prob(JB):                         0.08\n",
              "Heteroskedasticity (H):               2.48   Skew:                            -0.18\n",
              "Prob(H) (two-sided):                  0.02   Kurtosis:                         4.18\n",
              "===================================================================================\n",
              "\n",
              "Warnings:\n",
              "[1] Covariance matrix calculated using the outer product of gradients (complex-step).\n",
              "\"\"\""
            ],
            "text/html": [
              "<table class=\"simpletable\">\n",
              "<caption>SARIMAX Results</caption>\n",
              "<tr>\n",
              "  <th>Dep. Variable:</th>                <td>Sales</td>              <th>  No. Observations:  </th>    <td>94</td>   \n",
              "</tr>\n",
              "<tr>\n",
              "  <th>Model:</th>           <td>SARIMAX(2, 1, 4)x(0, 1, [], 12)</td> <th>  Log Likelihood     </th> <td>-655.765</td>\n",
              "</tr>\n",
              "<tr>\n",
              "  <th>Date:</th>                   <td>Wed, 10 Aug 2022</td>         <th>  AIC                </th> <td>1325.531</td>\n",
              "</tr>\n",
              "<tr>\n",
              "  <th>Time:</th>                       <td>07:03:08</td>             <th>  BIC                </th> <td>1342.292</td>\n",
              "</tr>\n",
              "<tr>\n",
              "  <th>Sample:</th>                    <td>01-01-1964</td>            <th>  HQIC               </th> <td>1332.256</td>\n",
              "</tr>\n",
              "<tr>\n",
              "  <th></th>                          <td>- 10-01-1971</td>           <th>                     </th>     <td> </td>   \n",
              "</tr>\n",
              "<tr>\n",
              "  <th>Covariance Type:</th>               <td>opg</td>               <th>                     </th>     <td> </td>   \n",
              "</tr>\n",
              "</table>\n",
              "<table class=\"simpletable\">\n",
              "<tr>\n",
              "     <td></td>       <th>coef</th>     <th>std err</th>      <th>z</th>      <th>P>|z|</th>  <th>[0.025</th>    <th>0.975]</th>  \n",
              "</tr>\n",
              "<tr>\n",
              "  <th>ar.L1</th>  <td>   -0.2260</td> <td>    0.143</td> <td>   -1.584</td> <td> 0.113</td> <td>   -0.506</td> <td>    0.054</td>\n",
              "</tr>\n",
              "<tr>\n",
              "  <th>ar.L2</th>  <td>   -0.8778</td> <td>    0.144</td> <td>   -6.075</td> <td> 0.000</td> <td>   -1.161</td> <td>   -0.595</td>\n",
              "</tr>\n",
              "<tr>\n",
              "  <th>ma.L1</th>  <td>   -0.4736</td> <td>    0.174</td> <td>   -2.727</td> <td> 0.006</td> <td>   -0.814</td> <td>   -0.133</td>\n",
              "</tr>\n",
              "<tr>\n",
              "  <th>ma.L2</th>  <td>    0.5830</td> <td>    0.276</td> <td>    2.114</td> <td> 0.035</td> <td>    0.042</td> <td>    1.124</td>\n",
              "</tr>\n",
              "<tr>\n",
              "  <th>ma.L3</th>  <td>   -0.6598</td> <td>    0.221</td> <td>   -2.983</td> <td> 0.003</td> <td>   -1.093</td> <td>   -0.226</td>\n",
              "</tr>\n",
              "<tr>\n",
              "  <th>ma.L4</th>  <td>   -0.2884</td> <td>    0.113</td> <td>   -2.555</td> <td> 0.011</td> <td>   -0.510</td> <td>   -0.067</td>\n",
              "</tr>\n",
              "<tr>\n",
              "  <th>sigma2</th> <td> 7.326e+05</td> <td> 1.67e+05</td> <td>    4.390</td> <td> 0.000</td> <td> 4.06e+05</td> <td> 1.06e+06</td>\n",
              "</tr>\n",
              "</table>\n",
              "<table class=\"simpletable\">\n",
              "<tr>\n",
              "  <th>Ljung-Box (L1) (Q):</th>     <td>0.29</td> <th>  Jarque-Bera (JB):  </th> <td>5.14</td> \n",
              "</tr>\n",
              "<tr>\n",
              "  <th>Prob(Q):</th>                <td>0.59</td> <th>  Prob(JB):          </th> <td>0.08</td> \n",
              "</tr>\n",
              "<tr>\n",
              "  <th>Heteroskedasticity (H):</th> <td>2.48</td> <th>  Skew:              </th> <td>-0.18</td>\n",
              "</tr>\n",
              "<tr>\n",
              "  <th>Prob(H) (two-sided):</th>    <td>0.02</td> <th>  Kurtosis:          </th> <td>4.18</td> \n",
              "</tr>\n",
              "</table><br/><br/>Warnings:<br/>[1] Covariance matrix calculated using the outer product of gradients (complex-step)."
            ]
          },
          "metadata": {},
          "execution_count": 91
        }
      ]
    },
    {
      "cell_type": "code",
      "source": [
        "pred_SARIMA = model_SARIMA_fit.predict(start = pred_start_date, end = pred_end_date)"
      ],
      "metadata": {
        "id": "Q31vraIzVSdZ"
      },
      "execution_count": null,
      "outputs": []
    },
    {
      "cell_type": "code",
      "source": [
        "pred_SARIMA"
      ],
      "metadata": {
        "colab": {
          "base_uri": "https://localhost:8080/"
        },
        "id": "cj2Ue2lzVSf-",
        "outputId": "c364c3a9-31e8-48ea-a576-593c519721e8"
      },
      "execution_count": null,
      "outputs": [
        {
          "output_type": "execute_result",
          "data": {
            "text/plain": [
              "1971-11-01    10146.784704\n",
              "1971-12-01    13571.906546\n",
              "1972-01-01     4265.007017\n",
              "1972-02-01     3276.338766\n",
              "1972-03-01     4594.043089\n",
              "1972-04-01     5130.463498\n",
              "1972-05-01     5261.347533\n",
              "1972-06-01     5042.716501\n",
              "1972-07-01     4998.680343\n",
              "1972-08-01     2052.707882\n",
              "1972-09-01     6165.482261\n",
              "Freq: MS, Name: predicted_mean, dtype: float64"
            ]
          },
          "metadata": {},
          "execution_count": 93
        }
      ]
    },
    {
      "cell_type": "code",
      "source": [
        "RMSE = np.sqrt(mean_squared_error(test_data['Sales'],pred_SARIMA, squared = False))\n",
        "print(RMSE)"
      ],
      "metadata": {
        "colab": {
          "base_uri": "https://localhost:8080/"
        },
        "id": "cOscE257c21y",
        "outputId": "7e116ac9-c1f3-43b1-a089-c7e6f7c2e04d"
      },
      "execution_count": null,
      "outputs": [
        {
          "output_type": "stream",
          "name": "stdout",
          "text": [
            "22.0024057889657\n"
          ]
        }
      ]
    },
    {
      "cell_type": "code",
      "source": [
        "r2 = r2_score(test_data['Sales'], pred_SARIMA)\n",
        "print(r2)"
      ],
      "metadata": {
        "colab": {
          "base_uri": "https://localhost:8080/"
        },
        "id": "p4m5NRDIc24r",
        "outputId": "8bb157a3-1b2e-4ac4-f1bc-3fdf749ebf06"
      },
      "execution_count": null,
      "outputs": [
        {
          "output_type": "stream",
          "name": "stdout",
          "text": [
            "0.9730952518767355\n"
          ]
        }
      ]
    },
    {
      "cell_type": "code",
      "source": [
        "test_data['Pred_SARIMA'] = pred_SARIMA"
      ],
      "metadata": {
        "colab": {
          "base_uri": "https://localhost:8080/"
        },
        "id": "QqGwkoXpc27b",
        "outputId": "c063fada-12be-41dd-eeea-b38571271dd9"
      },
      "execution_count": null,
      "outputs": [
        {
          "output_type": "stream",
          "name": "stderr",
          "text": [
            "/usr/local/lib/python3.7/dist-packages/ipykernel_launcher.py:1: SettingWithCopyWarning: \n",
            "A value is trying to be set on a copy of a slice from a DataFrame.\n",
            "Try using .loc[row_indexer,col_indexer] = value instead\n",
            "\n",
            "See the caveats in the documentation: https://pandas.pydata.org/pandas-docs/stable/user_guide/indexing.html#returning-a-view-versus-a-copy\n",
            "  \"\"\"Entry point for launching an IPython kernel.\n"
          ]
        }
      ]
    },
    {
      "cell_type": "code",
      "source": [
        "test_data"
      ],
      "metadata": {
        "colab": {
          "base_uri": "https://localhost:8080/",
          "height": 426
        },
        "id": "gos2CmjKc2-J",
        "outputId": "8285031a-b8ed-43b1-8e91-19e389fa29b0"
      },
      "execution_count": null,
      "outputs": [
        {
          "output_type": "execute_result",
          "data": {
            "text/plain": [
              "              Sales    roll_mean  roll_mean_first_diff  Sales_first_diff  \\\n",
              "Date                                                                       \n",
              "1971-11-01   9851.0  5375.500000            -39.666667            2870.0   \n",
              "1971-12-01  12670.0  5323.583333            -51.916667            2819.0   \n",
              "1972-01-01   4348.0  5394.791667             71.208333           -8322.0   \n",
              "1972-02-01   3564.0  5422.500000             27.708333            -784.0   \n",
              "1972-03-01   4577.0  5472.791667             50.291667            1013.0   \n",
              "1972-04-01   4788.0  5516.458333             43.666667             211.0   \n",
              "1972-05-01   4618.0  5586.916667             70.458333            -170.0   \n",
              "1972-06-01   5312.0  5642.166667             55.250000             694.0   \n",
              "1972-07-01   4298.0  5645.541667              3.375000           -1014.0   \n",
              "1972-08-01   1413.0  5632.000000            -13.541667           -2885.0   \n",
              "1972-09-01   5877.0  5659.333333             27.333333            4464.0   \n",
              "\n",
              "            Logging_sales  Logging_sales_first_diff   Pred_SARIMA  \n",
              "Date                                                               \n",
              "1971-11-01       9.195328                  0.344381  10146.784704  \n",
              "1971-12-01       9.446992                  0.251664  13571.906546  \n",
              "1972-01-01       8.377471                 -1.069521   4265.007017  \n",
              "1972-02-01       8.178639                 -0.198832   3276.338766  \n",
              "1972-03-01       8.428799                  0.250160   4594.043089  \n",
              "1972-04-01       8.473868                  0.045069   5130.463498  \n",
              "1972-05-01       8.437717                 -0.036151   5261.347533  \n",
              "1972-06-01       8.577724                  0.140007   5042.716501  \n",
              "1972-07-01       8.365905                 -0.211819   4998.680343  \n",
              "1972-08-01       7.253470                 -1.112435   2052.707882  \n",
              "1972-09-01       8.678802                  1.425331   6165.482261  "
            ],
            "text/html": [
              "\n",
              "  <div id=\"df-9ddb8ad2-db18-4a43-a4af-af7a3678e254\">\n",
              "    <div class=\"colab-df-container\">\n",
              "      <div>\n",
              "<style scoped>\n",
              "    .dataframe tbody tr th:only-of-type {\n",
              "        vertical-align: middle;\n",
              "    }\n",
              "\n",
              "    .dataframe tbody tr th {\n",
              "        vertical-align: top;\n",
              "    }\n",
              "\n",
              "    .dataframe thead th {\n",
              "        text-align: right;\n",
              "    }\n",
              "</style>\n",
              "<table border=\"1\" class=\"dataframe\">\n",
              "  <thead>\n",
              "    <tr style=\"text-align: right;\">\n",
              "      <th></th>\n",
              "      <th>Sales</th>\n",
              "      <th>roll_mean</th>\n",
              "      <th>roll_mean_first_diff</th>\n",
              "      <th>Sales_first_diff</th>\n",
              "      <th>Logging_sales</th>\n",
              "      <th>Logging_sales_first_diff</th>\n",
              "      <th>Pred_SARIMA</th>\n",
              "    </tr>\n",
              "    <tr>\n",
              "      <th>Date</th>\n",
              "      <th></th>\n",
              "      <th></th>\n",
              "      <th></th>\n",
              "      <th></th>\n",
              "      <th></th>\n",
              "      <th></th>\n",
              "      <th></th>\n",
              "    </tr>\n",
              "  </thead>\n",
              "  <tbody>\n",
              "    <tr>\n",
              "      <th>1971-11-01</th>\n",
              "      <td>9851.0</td>\n",
              "      <td>5375.500000</td>\n",
              "      <td>-39.666667</td>\n",
              "      <td>2870.0</td>\n",
              "      <td>9.195328</td>\n",
              "      <td>0.344381</td>\n",
              "      <td>10146.784704</td>\n",
              "    </tr>\n",
              "    <tr>\n",
              "      <th>1971-12-01</th>\n",
              "      <td>12670.0</td>\n",
              "      <td>5323.583333</td>\n",
              "      <td>-51.916667</td>\n",
              "      <td>2819.0</td>\n",
              "      <td>9.446992</td>\n",
              "      <td>0.251664</td>\n",
              "      <td>13571.906546</td>\n",
              "    </tr>\n",
              "    <tr>\n",
              "      <th>1972-01-01</th>\n",
              "      <td>4348.0</td>\n",
              "      <td>5394.791667</td>\n",
              "      <td>71.208333</td>\n",
              "      <td>-8322.0</td>\n",
              "      <td>8.377471</td>\n",
              "      <td>-1.069521</td>\n",
              "      <td>4265.007017</td>\n",
              "    </tr>\n",
              "    <tr>\n",
              "      <th>1972-02-01</th>\n",
              "      <td>3564.0</td>\n",
              "      <td>5422.500000</td>\n",
              "      <td>27.708333</td>\n",
              "      <td>-784.0</td>\n",
              "      <td>8.178639</td>\n",
              "      <td>-0.198832</td>\n",
              "      <td>3276.338766</td>\n",
              "    </tr>\n",
              "    <tr>\n",
              "      <th>1972-03-01</th>\n",
              "      <td>4577.0</td>\n",
              "      <td>5472.791667</td>\n",
              "      <td>50.291667</td>\n",
              "      <td>1013.0</td>\n",
              "      <td>8.428799</td>\n",
              "      <td>0.250160</td>\n",
              "      <td>4594.043089</td>\n",
              "    </tr>\n",
              "    <tr>\n",
              "      <th>1972-04-01</th>\n",
              "      <td>4788.0</td>\n",
              "      <td>5516.458333</td>\n",
              "      <td>43.666667</td>\n",
              "      <td>211.0</td>\n",
              "      <td>8.473868</td>\n",
              "      <td>0.045069</td>\n",
              "      <td>5130.463498</td>\n",
              "    </tr>\n",
              "    <tr>\n",
              "      <th>1972-05-01</th>\n",
              "      <td>4618.0</td>\n",
              "      <td>5586.916667</td>\n",
              "      <td>70.458333</td>\n",
              "      <td>-170.0</td>\n",
              "      <td>8.437717</td>\n",
              "      <td>-0.036151</td>\n",
              "      <td>5261.347533</td>\n",
              "    </tr>\n",
              "    <tr>\n",
              "      <th>1972-06-01</th>\n",
              "      <td>5312.0</td>\n",
              "      <td>5642.166667</td>\n",
              "      <td>55.250000</td>\n",
              "      <td>694.0</td>\n",
              "      <td>8.577724</td>\n",
              "      <td>0.140007</td>\n",
              "      <td>5042.716501</td>\n",
              "    </tr>\n",
              "    <tr>\n",
              "      <th>1972-07-01</th>\n",
              "      <td>4298.0</td>\n",
              "      <td>5645.541667</td>\n",
              "      <td>3.375000</td>\n",
              "      <td>-1014.0</td>\n",
              "      <td>8.365905</td>\n",
              "      <td>-0.211819</td>\n",
              "      <td>4998.680343</td>\n",
              "    </tr>\n",
              "    <tr>\n",
              "      <th>1972-08-01</th>\n",
              "      <td>1413.0</td>\n",
              "      <td>5632.000000</td>\n",
              "      <td>-13.541667</td>\n",
              "      <td>-2885.0</td>\n",
              "      <td>7.253470</td>\n",
              "      <td>-1.112435</td>\n",
              "      <td>2052.707882</td>\n",
              "    </tr>\n",
              "    <tr>\n",
              "      <th>1972-09-01</th>\n",
              "      <td>5877.0</td>\n",
              "      <td>5659.333333</td>\n",
              "      <td>27.333333</td>\n",
              "      <td>4464.0</td>\n",
              "      <td>8.678802</td>\n",
              "      <td>1.425331</td>\n",
              "      <td>6165.482261</td>\n",
              "    </tr>\n",
              "  </tbody>\n",
              "</table>\n",
              "</div>\n",
              "      <button class=\"colab-df-convert\" onclick=\"convertToInteractive('df-9ddb8ad2-db18-4a43-a4af-af7a3678e254')\"\n",
              "              title=\"Convert this dataframe to an interactive table.\"\n",
              "              style=\"display:none;\">\n",
              "        \n",
              "  <svg xmlns=\"http://www.w3.org/2000/svg\" height=\"24px\"viewBox=\"0 0 24 24\"\n",
              "       width=\"24px\">\n",
              "    <path d=\"M0 0h24v24H0V0z\" fill=\"none\"/>\n",
              "    <path d=\"M18.56 5.44l.94 2.06.94-2.06 2.06-.94-2.06-.94-.94-2.06-.94 2.06-2.06.94zm-11 1L8.5 8.5l.94-2.06 2.06-.94-2.06-.94L8.5 2.5l-.94 2.06-2.06.94zm10 10l.94 2.06.94-2.06 2.06-.94-2.06-.94-.94-2.06-.94 2.06-2.06.94z\"/><path d=\"M17.41 7.96l-1.37-1.37c-.4-.4-.92-.59-1.43-.59-.52 0-1.04.2-1.43.59L10.3 9.45l-7.72 7.72c-.78.78-.78 2.05 0 2.83L4 21.41c.39.39.9.59 1.41.59.51 0 1.02-.2 1.41-.59l7.78-7.78 2.81-2.81c.8-.78.8-2.07 0-2.86zM5.41 20L4 18.59l7.72-7.72 1.47 1.35L5.41 20z\"/>\n",
              "  </svg>\n",
              "      </button>\n",
              "      \n",
              "  <style>\n",
              "    .colab-df-container {\n",
              "      display:flex;\n",
              "      flex-wrap:wrap;\n",
              "      gap: 12px;\n",
              "    }\n",
              "\n",
              "    .colab-df-convert {\n",
              "      background-color: #E8F0FE;\n",
              "      border: none;\n",
              "      border-radius: 50%;\n",
              "      cursor: pointer;\n",
              "      display: none;\n",
              "      fill: #1967D2;\n",
              "      height: 32px;\n",
              "      padding: 0 0 0 0;\n",
              "      width: 32px;\n",
              "    }\n",
              "\n",
              "    .colab-df-convert:hover {\n",
              "      background-color: #E2EBFA;\n",
              "      box-shadow: 0px 1px 2px rgba(60, 64, 67, 0.3), 0px 1px 3px 1px rgba(60, 64, 67, 0.15);\n",
              "      fill: #174EA6;\n",
              "    }\n",
              "\n",
              "    [theme=dark] .colab-df-convert {\n",
              "      background-color: #3B4455;\n",
              "      fill: #D2E3FC;\n",
              "    }\n",
              "\n",
              "    [theme=dark] .colab-df-convert:hover {\n",
              "      background-color: #434B5C;\n",
              "      box-shadow: 0px 1px 3px 1px rgba(0, 0, 0, 0.15);\n",
              "      filter: drop-shadow(0px 1px 2px rgba(0, 0, 0, 0.3));\n",
              "      fill: #FFFFFF;\n",
              "    }\n",
              "  </style>\n",
              "\n",
              "      <script>\n",
              "        const buttonEl =\n",
              "          document.querySelector('#df-9ddb8ad2-db18-4a43-a4af-af7a3678e254 button.colab-df-convert');\n",
              "        buttonEl.style.display =\n",
              "          google.colab.kernel.accessAllowed ? 'block' : 'none';\n",
              "\n",
              "        async function convertToInteractive(key) {\n",
              "          const element = document.querySelector('#df-9ddb8ad2-db18-4a43-a4af-af7a3678e254');\n",
              "          const dataTable =\n",
              "            await google.colab.kernel.invokeFunction('convertToInteractive',\n",
              "                                                     [key], {});\n",
              "          if (!dataTable) return;\n",
              "\n",
              "          const docLinkHtml = 'Like what you see? Visit the ' +\n",
              "            '<a target=\"_blank\" href=https://colab.research.google.com/notebooks/data_table.ipynb>data table notebook</a>'\n",
              "            + ' to learn more about interactive tables.';\n",
              "          element.innerHTML = '';\n",
              "          dataTable['output_type'] = 'display_data';\n",
              "          await google.colab.output.renderOutput(dataTable, element);\n",
              "          const docLink = document.createElement('div');\n",
              "          docLink.innerHTML = docLinkHtml;\n",
              "          element.appendChild(docLink);\n",
              "        }\n",
              "      </script>\n",
              "    </div>\n",
              "  </div>\n",
              "  "
            ]
          },
          "metadata": {},
          "execution_count": 57
        }
      ]
    },
    {
      "cell_type": "code",
      "source": [
        "test_data[['Sales','Pred_SARIMA']].plot()"
      ],
      "metadata": {
        "colab": {
          "base_uri": "https://localhost:8080/",
          "height": 309
        },
        "id": "Wzrum3x4c3AT",
        "outputId": "52a70db1-e609-4763-af92-d390f8549c73"
      },
      "execution_count": null,
      "outputs": [
        {
          "output_type": "execute_result",
          "data": {
            "text/plain": [
              "<matplotlib.axes._subplots.AxesSubplot at 0x7f5cd66b1f10>"
            ]
          },
          "metadata": {},
          "execution_count": 58
        },
        {
          "output_type": "display_data",
          "data": {
            "text/plain": [
              "<Figure size 432x288 with 1 Axes>"
            ],
            "image/png": "[encoded data removed]"
          },
          "metadata": {
            "needs_background": "light"
          }
        }
      ]
    },
    {
      "cell_type": "code",
      "source": [
        "from statsmodels.tsa.holtwinters import SimpleExpSmoothing, Holt, ExponentialSmoothing"
      ],
      "metadata": {
        "id": "3YvESiDXdmNm"
      },
      "execution_count": null,
      "outputs": []
    },
    {
      "cell_type": "code",
      "source": [
        "model_simple_exp1 = SimpleExpSmoothing(train_data['Sales'])\n",
        "results_simple_exp1 = model_simple_exp1.fit()\n",
        "results_simple_exp1.summary()"
      ],
      "metadata": {
        "colab": {
          "base_uri": "https://localhost:8080/",
          "height": 343
        },
        "id": "4FAf3x4TdmQY",
        "outputId": "fc723ca0-d5d8-4841-c9aa-ee83a33dccc3"
      },
      "execution_count": null,
      "outputs": [
        {
          "output_type": "stream",
          "name": "stderr",
          "text": [
            "/usr/local/lib/python3.7/dist-packages/statsmodels/tsa/base/tsa_model.py:471: ValueWarning: No frequency information was provided, so inferred frequency MS will be used.\n",
            "  self._init_dates(dates, freq)\n",
            "/usr/local/lib/python3.7/dist-packages/statsmodels/tsa/holtwinters/model.py:917: ConvergenceWarning: Optimization failed to converge. Check mle_retvals.\n",
            "  ConvergenceWarning,\n"
          ]
        },
        {
          "output_type": "execute_result",
          "data": {
            "text/plain": [
              "<class 'statsmodels.iolib.summary.Summary'>\n",
              "\"\"\"\n",
              "                       SimpleExpSmoothing Model Results                       \n",
              "==============================================================================\n",
              "Dep. Variable:                  Sales   No. Observations:                   94\n",
              "Model:             SimpleExpSmoothing   SSE                      566587588.638\n",
              "Optimized:                       True   AIC                           1471.514\n",
              "Trend:                           None   BIC                           1476.600\n",
              "Seasonal:                        None   AICC                          1471.963\n",
              "Seasonal Periods:                None   Date:                 Wed, 10 Aug 2022\n",
              "Box-Cox:                        False   Time:                         06:37:01\n",
              "Box-Cox Coeff.:                  None                                         \n",
              "==============================================================================\n",
              "                       coeff                 code              optimized      \n",
              "------------------------------------------------------------------------------\n",
              "smoothing_level            0.0777408                alpha                 True\n",
              "initial_level              3449.6606                  l.0                 True\n",
              "------------------------------------------------------------------------------\n",
              "\"\"\""
            ],
            "text/html": [
              "<table class=\"simpletable\">\n",
              "<caption>SimpleExpSmoothing Model Results</caption>\n",
              "<tr>\n",
              "  <th>Dep. Variable:</th>           <td>Sales</td>       <th>  No. Observations:  </th>        <td>94</td>       \n",
              "</tr>\n",
              "<tr>\n",
              "  <th>Model:</th>            <td>SimpleExpSmoothing</td> <th>  SSE                </th>   <td>566587588.638</td> \n",
              "</tr>\n",
              "<tr>\n",
              "  <th>Optimized:</th>               <td>True</td>        <th>  AIC                </th>     <td>1471.514</td>    \n",
              "</tr>\n",
              "<tr>\n",
              "  <th>Trend:</th>                   <td>None</td>        <th>  BIC                </th>     <td>1476.600</td>    \n",
              "</tr>\n",
              "<tr>\n",
              "  <th>Seasonal:</th>                <td>None</td>        <th>  AICC               </th>     <td>1471.963</td>    \n",
              "</tr>\n",
              "<tr>\n",
              "  <th>Seasonal Periods:</th>        <td>None</td>        <th>  Date:              </th> <td>Wed, 10 Aug 2022</td>\n",
              "</tr>\n",
              "<tr>\n",
              "  <th>Box-Cox:</th>                 <td>False</td>       <th>  Time:              </th>     <td>06:37:01</td>    \n",
              "</tr>\n",
              "<tr>\n",
              "  <th>Box-Cox Coeff.:</th>          <td>None</td>        <th>                     </th>         <td> </td>       \n",
              "</tr>\n",
              "</table>\n",
              "<table class=\"simpletable\">\n",
              "<tr>\n",
              "         <td></td>                 <th>coeff</th>                <th>code</th>               <th>optimized</th>     \n",
              "</tr>\n",
              "<tr>\n",
              "  <th>smoothing_level</th> <td>           0.0777408</td> <td>               alpha</td> <td>                True</td>\n",
              "</tr>\n",
              "<tr>\n",
              "  <th>initial_level</th>   <td>           3449.6606</td> <td>                 l.0</td> <td>                True</td>\n",
              "</tr>\n",
              "</table>"
            ]
          },
          "metadata": {},
          "execution_count": 60
        }
      ]
    },
    {
      "cell_type": "code",
      "source": [
        "pred_expo_sim = results_simple_exp1.predict(start = pred_start_date, end = pred_end_date)"
      ],
      "metadata": {
        "id": "GdCg6_jPeJf3"
      },
      "execution_count": null,
      "outputs": []
    },
    {
      "cell_type": "code",
      "source": [
        "pred_expo_sim"
      ],
      "metadata": {
        "colab": {
          "base_uri": "https://localhost:8080/"
        },
        "id": "L2LLX5u-eJ2Y",
        "outputId": "7f460861-2220-48f6-ca6d-f8512f6d9150"
      },
      "execution_count": null,
      "outputs": [
        {
          "output_type": "execute_result",
          "data": {
            "text/plain": [
              "1971-11-01    5197.188922\n",
              "1971-12-01    5197.188922\n",
              "1972-01-01    5197.188922\n",
              "1972-02-01    5197.188922\n",
              "1972-03-01    5197.188922\n",
              "1972-04-01    5197.188922\n",
              "1972-05-01    5197.188922\n",
              "1972-06-01    5197.188922\n",
              "1972-07-01    5197.188922\n",
              "1972-08-01    5197.188922\n",
              "1972-09-01    5197.188922\n",
              "Freq: MS, dtype: float64"
            ]
          },
          "metadata": {},
          "execution_count": 62
        }
      ]
    },
    {
      "cell_type": "code",
      "source": [
        "test_data['pred_expo_sim'] = pred_expo_sim"
      ],
      "metadata": {
        "colab": {
          "base_uri": "https://localhost:8080/"
        },
        "id": "SBu3TrAGeJ5V",
        "outputId": "3e45bc52-4eb3-4001-c59d-91fb55999496"
      },
      "execution_count": null,
      "outputs": [
        {
          "output_type": "stream",
          "name": "stderr",
          "text": [
            "/usr/local/lib/python3.7/dist-packages/ipykernel_launcher.py:1: SettingWithCopyWarning: \n",
            "A value is trying to be set on a copy of a slice from a DataFrame.\n",
            "Try using .loc[row_indexer,col_indexer] = value instead\n",
            "\n",
            "See the caveats in the documentation: https://pandas.pydata.org/pandas-docs/stable/user_guide/indexing.html#returning-a-view-versus-a-copy\n",
            "  \"\"\"Entry point for launching an IPython kernel.\n"
          ]
        }
      ]
    },
    {
      "cell_type": "code",
      "source": [
        "r2 = r2_score(test_data['Sales'], pred_expo_sim)\n",
        "print(r2)"
      ],
      "metadata": {
        "colab": {
          "base_uri": "https://localhost:8080/"
        },
        "id": "5d2ToaJYioA_",
        "outputId": "b627c842-0111-4456-b9ae-2ebad88c587e"
      },
      "execution_count": null,
      "outputs": [
        {
          "output_type": "stream",
          "name": "stdout",
          "text": [
            "-0.016316033328024337\n"
          ]
        }
      ]
    },
    {
      "cell_type": "code",
      "source": [
        "model_damped_holt_mul_add = ExponentialSmoothing(train_data['Sales'],trend='mul',\n",
        "                                             seasonal='add',damped_trend=True)\n",
        "results_damped_holt_mul_add = model_damped_holt_mul_add.fit()\n",
        "results_damped_holt_mul_add.summary()"
      ],
      "metadata": {
        "colab": {
          "base_uri": "https://localhost:8080/",
          "height": 684
        },
        "id": "HDJlo5GDfiXu",
        "outputId": "761383a3-989d-44a2-fa95-4c95f223dda0"
      },
      "execution_count": null,
      "outputs": [
        {
          "output_type": "stream",
          "name": "stderr",
          "text": [
            "/usr/local/lib/python3.7/dist-packages/statsmodels/tsa/base/tsa_model.py:471: ValueWarning: No frequency information was provided, so inferred frequency MS will be used.\n",
            "  self._init_dates(dates, freq)\n",
            "/usr/local/lib/python3.7/dist-packages/statsmodels/tsa/holtwinters/model.py:917: ConvergenceWarning: Optimization failed to converge. Check mle_retvals.\n",
            "  ConvergenceWarning,\n"
          ]
        },
        {
          "output_type": "execute_result",
          "data": {
            "text/plain": [
              "<class 'statsmodels.iolib.summary.Summary'>\n",
              "\"\"\"\n",
              "                       ExponentialSmoothing Model Results                       \n",
              "================================================================================\n",
              "Dep. Variable:                    Sales   No. Observations:                   94\n",
              "Model:             ExponentialSmoothing   SSE                       48311306.044\n",
              "Optimized:                         True   AIC                           1270.089\n",
              "Trend:                   Multiplicative   BIC                           1313.325\n",
              "Seasonal:                      Additive   AICC                          1280.359\n",
              "Seasonal Periods:                    12   Date:                 Wed, 10 Aug 2022\n",
              "Box-Cox:                          False   Time:                         06:52:01\n",
              "Box-Cox Coeff.:                    None                                         \n",
              "=================================================================================\n",
              "                          coeff                 code              optimized      \n",
              "---------------------------------------------------------------------------------\n",
              "smoothing_level               0.0403571                alpha                 True\n",
              "smoothing_trend                  0.0001                 beta                 True\n",
              "smoothing_seasonal            0.6511862                gamma                 True\n",
              "initial_level                 3399.5167                  l.0                 True\n",
              "initial_trend                 1.0082886                  b.0                 True\n",
              "damping_trend                 0.9900000                  phi                 True\n",
              "initial_seasons.0            -704.84115                  s.0                 True\n",
              "initial_seasons.1            -1167.5286                  s.1                 True\n",
              "initial_seasons.2            -662.33073                  s.2                 True\n",
              "initial_seasons.3            -593.27865                  s.3                 True\n",
              "initial_seasons.4            -299.22656                  s.4                 True\n",
              "initial_seasons.5            -476.73698                  s.5                 True\n",
              "initial_seasons.6            -1122.7682                  s.6                 True\n",
              "initial_seasons.7            -2409.6641                  s.7                 True\n",
              "initial_seasons.8            -541.86198                  s.8                 True\n",
              "initial_seasons.9             586.48177                  s.9                 True\n",
              "initial_seasons.10            2833.1797                 s.10                 True\n",
              "initial_seasons.11            4558.5755                 s.11                 True\n",
              "---------------------------------------------------------------------------------\n",
              "\"\"\""
            ],
            "text/html": [
              "<table class=\"simpletable\">\n",
              "<caption>ExponentialSmoothing Model Results</caption>\n",
              "<tr>\n",
              "  <th>Dep. Variable:</th>            <td>Sales</td>        <th>  No. Observations:  </th>        <td>94</td>       \n",
              "</tr>\n",
              "<tr>\n",
              "  <th>Model:</th>            <td>ExponentialSmoothing</td> <th>  SSE                </th>   <td>48311306.044</td>  \n",
              "</tr>\n",
              "<tr>\n",
              "  <th>Optimized:</th>                <td>True</td>         <th>  AIC                </th>     <td>1270.089</td>    \n",
              "</tr>\n",
              "<tr>\n",
              "  <th>Trend:</th>               <td>Multiplicative</td>    <th>  BIC                </th>     <td>1313.325</td>    \n",
              "</tr>\n",
              "<tr>\n",
              "  <th>Seasonal:</th>               <td>Additive</td>       <th>  AICC               </th>     <td>1280.359</td>    \n",
              "</tr>\n",
              "<tr>\n",
              "  <th>Seasonal Periods:</th>          <td>12</td>          <th>  Date:              </th> <td>Wed, 10 Aug 2022</td>\n",
              "</tr>\n",
              "<tr>\n",
              "  <th>Box-Cox:</th>                  <td>False</td>        <th>  Time:              </th>     <td>06:52:01</td>    \n",
              "</tr>\n",
              "<tr>\n",
              "  <th>Box-Cox Coeff.:</th>           <td>None</td>         <th>                     </th>         <td> </td>       \n",
              "</tr>\n",
              "</table>\n",
              "<table class=\"simpletable\">\n",
              "<tr>\n",
              "           <td></td>                  <th>coeff</th>                <th>code</th>               <th>optimized</th>     \n",
              "</tr>\n",
              "<tr>\n",
              "  <th>smoothing_level</th>    <td>           0.0403571</td> <td>               alpha</td> <td>                True</td>\n",
              "</tr>\n",
              "<tr>\n",
              "  <th>smoothing_trend</th>    <td>              0.0001</td> <td>                beta</td> <td>                True</td>\n",
              "</tr>\n",
              "<tr>\n",
              "  <th>smoothing_seasonal</th> <td>           0.6511862</td> <td>               gamma</td> <td>                True</td>\n",
              "</tr>\n",
              "<tr>\n",
              "  <th>initial_level</th>      <td>           3399.5167</td> <td>                 l.0</td> <td>                True</td>\n",
              "</tr>\n",
              "<tr>\n",
              "  <th>initial_trend</th>      <td>           1.0082886</td> <td>                 b.0</td> <td>                True</td>\n",
              "</tr>\n",
              "<tr>\n",
              "  <th>damping_trend</th>      <td>           0.9900000</td> <td>                 phi</td> <td>                True</td>\n",
              "</tr>\n",
              "<tr>\n",
              "  <th>initial_seasons.0</th>  <td>          -704.84115</td> <td>                 s.0</td> <td>                True</td>\n",
              "</tr>\n",
              "<tr>\n",
              "  <th>initial_seasons.1</th>  <td>          -1167.5286</td> <td>                 s.1</td> <td>                True</td>\n",
              "</tr>\n",
              "<tr>\n",
              "  <th>initial_seasons.2</th>  <td>          -662.33073</td> <td>                 s.2</td> <td>                True</td>\n",
              "</tr>\n",
              "<tr>\n",
              "  <th>initial_seasons.3</th>  <td>          -593.27865</td> <td>                 s.3</td> <td>                True</td>\n",
              "</tr>\n",
              "<tr>\n",
              "  <th>initial_seasons.4</th>  <td>          -299.22656</td> <td>                 s.4</td> <td>                True</td>\n",
              "</tr>\n",
              "<tr>\n",
              "  <th>initial_seasons.5</th>  <td>          -476.73698</td> <td>                 s.5</td> <td>                True</td>\n",
              "</tr>\n",
              "<tr>\n",
              "  <th>initial_seasons.6</th>  <td>          -1122.7682</td> <td>                 s.6</td> <td>                True</td>\n",
              "</tr>\n",
              "<tr>\n",
              "  <th>initial_seasons.7</th>  <td>          -2409.6641</td> <td>                 s.7</td> <td>                True</td>\n",
              "</tr>\n",
              "<tr>\n",
              "  <th>initial_seasons.8</th>  <td>          -541.86198</td> <td>                 s.8</td> <td>                True</td>\n",
              "</tr>\n",
              "<tr>\n",
              "  <th>initial_seasons.9</th>  <td>           586.48177</td> <td>                 s.9</td> <td>                True</td>\n",
              "</tr>\n",
              "<tr>\n",
              "  <th>initial_seasons.10</th> <td>           2833.1797</td> <td>                s.10</td> <td>                True</td>\n",
              "</tr>\n",
              "<tr>\n",
              "  <th>initial_seasons.11</th> <td>           4558.5755</td> <td>                s.11</td> <td>                True</td>\n",
              "</tr>\n",
              "</table>"
            ]
          },
          "metadata": {},
          "execution_count": 66
        }
      ]
    },
    {
      "cell_type": "code",
      "source": [
        "pred_expo_mul_add = results_damped_holt_mul_add.predict(start = pred_start_date, end = pred_end_date)"
      ],
      "metadata": {
        "id": "92rxap6wfige"
      },
      "execution_count": null,
      "outputs": []
    },
    {
      "cell_type": "code",
      "source": [
        "test_data['pred_expo_mul_add'] = pred_expo_mul_add"
      ],
      "metadata": {
        "colab": {
          "base_uri": "https://localhost:8080/"
        },
        "id": "9sU7hP00hqQF",
        "outputId": "9acae2e9-29eb-41d4-cef2-762b46d981eb"
      },
      "execution_count": null,
      "outputs": [
        {
          "output_type": "stream",
          "name": "stderr",
          "text": [
            "/usr/local/lib/python3.7/dist-packages/ipykernel_launcher.py:1: SettingWithCopyWarning: \n",
            "A value is trying to be set on a copy of a slice from a DataFrame.\n",
            "Try using .loc[row_indexer,col_indexer] = value instead\n",
            "\n",
            "See the caveats in the documentation: https://pandas.pydata.org/pandas-docs/stable/user_guide/indexing.html#returning-a-view-versus-a-copy\n",
            "  \"\"\"Entry point for launching an IPython kernel.\n"
          ]
        }
      ]
    },
    {
      "cell_type": "code",
      "source": [
        "r2 = r2_score(test_data['Sales'], pred_expo_mul_add)\n",
        "print(r2)"
      ],
      "metadata": {
        "colab": {
          "base_uri": "https://localhost:8080/"
        },
        "id": "IqC4DmoNitYl",
        "outputId": "618f3025-89fa-4add-d953-19a1a0dd801c"
      },
      "execution_count": null,
      "outputs": [
        {
          "output_type": "stream",
          "name": "stdout",
          "text": [
            "0.9330900043778038\n"
          ]
        }
      ]
    },
    {
      "cell_type": "code",
      "source": [
        "model_damped_holt_mul = ExponentialSmoothing(train_data['Sales'],trend='mul',\n",
        "                                             seasonal='mul',damped_trend=True)\n",
        "results_damped_holt_mul = model_damped_holt_mul.fit()\n",
        "results_damped_holt_mul.summary()"
      ],
      "metadata": {
        "colab": {
          "base_uri": "https://localhost:8080/",
          "height": 684
        },
        "id": "I_pDkPn6hqTF",
        "outputId": "64516a4b-386f-400e-d0d2-9db8d696c8ad"
      },
      "execution_count": null,
      "outputs": [
        {
          "output_type": "stream",
          "name": "stderr",
          "text": [
            "/usr/local/lib/python3.7/dist-packages/statsmodels/tsa/base/tsa_model.py:471: ValueWarning: No frequency information was provided, so inferred frequency MS will be used.\n",
            "  self._init_dates(dates, freq)\n",
            "/usr/local/lib/python3.7/dist-packages/statsmodels/tsa/holtwinters/model.py:917: ConvergenceWarning: Optimization failed to converge. Check mle_retvals.\n",
            "  ConvergenceWarning,\n"
          ]
        },
        {
          "output_type": "execute_result",
          "data": {
            "text/plain": [
              "<class 'statsmodels.iolib.summary.Summary'>\n",
              "\"\"\"\n",
              "                       ExponentialSmoothing Model Results                       \n",
              "================================================================================\n",
              "Dep. Variable:                    Sales   No. Observations:                   94\n",
              "Model:             ExponentialSmoothing   SSE                       35941811.226\n",
              "Optimized:                         True   AIC                           1242.287\n",
              "Trend:                   Multiplicative   BIC                           1285.523\n",
              "Seasonal:                Multiplicative   AICC                          1252.557\n",
              "Seasonal Periods:                    12   Date:                 Wed, 10 Aug 2022\n",
              "Box-Cox:                          False   Time:                         06:54:31\n",
              "Box-Cox Coeff.:                    None                                         \n",
              "=================================================================================\n",
              "                          coeff                 code              optimized      \n",
              "---------------------------------------------------------------------------------\n",
              "smoothing_level               0.0757143                alpha                 True\n",
              "smoothing_trend                  0.0001                 beta                 True\n",
              "smoothing_seasonal            0.4792593                gamma                 True\n",
              "initial_level                 3399.5167                  l.0                 True\n",
              "initial_trend                 1.0082886                  b.0                 True\n",
              "damping_trend                 0.9900000                  phi                 True\n",
              "initial_seasons.0             0.8298993                  s.0                 True\n",
              "initial_seasons.1             0.7280680                  s.1                 True\n",
              "initial_seasons.2             0.8527510                  s.2                 True\n",
              "initial_seasons.3             0.8678088                  s.3                 True\n",
              "initial_seasons.4             0.9388715                  s.4                 True\n",
              "initial_seasons.5             0.8943687                  s.5                 True\n",
              "initial_seasons.6             0.7283886                  s.6                 True\n",
              "initial_seasons.7             0.4424838                  s.7                 True\n",
              "initial_seasons.8             0.8690907                  s.8                 True\n",
              "initial_seasons.9             1.1430160                  s.9                 True\n",
              "initial_seasons.10            1.6569985                 s.10                 True\n",
              "initial_seasons.11            2.0482552                 s.11                 True\n",
              "---------------------------------------------------------------------------------\n",
              "\"\"\""
            ],
            "text/html": [
              "<table class=\"simpletable\">\n",
              "<caption>ExponentialSmoothing Model Results</caption>\n",
              "<tr>\n",
              "  <th>Dep. Variable:</th>            <td>Sales</td>        <th>  No. Observations:  </th>        <td>94</td>       \n",
              "</tr>\n",
              "<tr>\n",
              "  <th>Model:</th>            <td>ExponentialSmoothing</td> <th>  SSE                </th>   <td>35941811.226</td>  \n",
              "</tr>\n",
              "<tr>\n",
              "  <th>Optimized:</th>                <td>True</td>         <th>  AIC                </th>     <td>1242.287</td>    \n",
              "</tr>\n",
              "<tr>\n",
              "  <th>Trend:</th>               <td>Multiplicative</td>    <th>  BIC                </th>     <td>1285.523</td>    \n",
              "</tr>\n",
              "<tr>\n",
              "  <th>Seasonal:</th>            <td>Multiplicative</td>    <th>  AICC               </th>     <td>1252.557</td>    \n",
              "</tr>\n",
              "<tr>\n",
              "  <th>Seasonal Periods:</th>          <td>12</td>          <th>  Date:              </th> <td>Wed, 10 Aug 2022</td>\n",
              "</tr>\n",
              "<tr>\n",
              "  <th>Box-Cox:</th>                  <td>False</td>        <th>  Time:              </th>     <td>06:54:31</td>    \n",
              "</tr>\n",
              "<tr>\n",
              "  <th>Box-Cox Coeff.:</th>           <td>None</td>         <th>                     </th>         <td> </td>       \n",
              "</tr>\n",
              "</table>\n",
              "<table class=\"simpletable\">\n",
              "<tr>\n",
              "           <td></td>                  <th>coeff</th>                <th>code</th>               <th>optimized</th>     \n",
              "</tr>\n",
              "<tr>\n",
              "  <th>smoothing_level</th>    <td>           0.0757143</td> <td>               alpha</td> <td>                True</td>\n",
              "</tr>\n",
              "<tr>\n",
              "  <th>smoothing_trend</th>    <td>              0.0001</td> <td>                beta</td> <td>                True</td>\n",
              "</tr>\n",
              "<tr>\n",
              "  <th>smoothing_seasonal</th> <td>           0.4792593</td> <td>               gamma</td> <td>                True</td>\n",
              "</tr>\n",
              "<tr>\n",
              "  <th>initial_level</th>      <td>           3399.5167</td> <td>                 l.0</td> <td>                True</td>\n",
              "</tr>\n",
              "<tr>\n",
              "  <th>initial_trend</th>      <td>           1.0082886</td> <td>                 b.0</td> <td>                True</td>\n",
              "</tr>\n",
              "<tr>\n",
              "  <th>damping_trend</th>      <td>           0.9900000</td> <td>                 phi</td> <td>                True</td>\n",
              "</tr>\n",
              "<tr>\n",
              "  <th>initial_seasons.0</th>  <td>           0.8298993</td> <td>                 s.0</td> <td>                True</td>\n",
              "</tr>\n",
              "<tr>\n",
              "  <th>initial_seasons.1</th>  <td>           0.7280680</td> <td>                 s.1</td> <td>                True</td>\n",
              "</tr>\n",
              "<tr>\n",
              "  <th>initial_seasons.2</th>  <td>           0.8527510</td> <td>                 s.2</td> <td>                True</td>\n",
              "</tr>\n",
              "<tr>\n",
              "  <th>initial_seasons.3</th>  <td>           0.8678088</td> <td>                 s.3</td> <td>                True</td>\n",
              "</tr>\n",
              "<tr>\n",
              "  <th>initial_seasons.4</th>  <td>           0.9388715</td> <td>                 s.4</td> <td>                True</td>\n",
              "</tr>\n",
              "<tr>\n",
              "  <th>initial_seasons.5</th>  <td>           0.8943687</td> <td>                 s.5</td> <td>                True</td>\n",
              "</tr>\n",
              "<tr>\n",
              "  <th>initial_seasons.6</th>  <td>           0.7283886</td> <td>                 s.6</td> <td>                True</td>\n",
              "</tr>\n",
              "<tr>\n",
              "  <th>initial_seasons.7</th>  <td>           0.4424838</td> <td>                 s.7</td> <td>                True</td>\n",
              "</tr>\n",
              "<tr>\n",
              "  <th>initial_seasons.8</th>  <td>           0.8690907</td> <td>                 s.8</td> <td>                True</td>\n",
              "</tr>\n",
              "<tr>\n",
              "  <th>initial_seasons.9</th>  <td>           1.1430160</td> <td>                 s.9</td> <td>                True</td>\n",
              "</tr>\n",
              "<tr>\n",
              "  <th>initial_seasons.10</th> <td>           1.6569985</td> <td>                s.10</td> <td>                True</td>\n",
              "</tr>\n",
              "<tr>\n",
              "  <th>initial_seasons.11</th> <td>           2.0482552</td> <td>                s.11</td> <td>                True</td>\n",
              "</tr>\n",
              "</table>"
            ]
          },
          "metadata": {},
          "execution_count": 71
        }
      ]
    },
    {
      "cell_type": "code",
      "source": [
        "pred_expo_mul = results_damped_holt_mul.predict(start = pred_start_date, end = pred_end_date)"
      ],
      "metadata": {
        "id": "otXAPeSLhqV8"
      },
      "execution_count": null,
      "outputs": []
    },
    {
      "cell_type": "code",
      "source": [
        "test_data['pred_expo_mul'] = pred_expo_mul"
      ],
      "metadata": {
        "colab": {
          "base_uri": "https://localhost:8080/"
        },
        "id": "XdhMIHm-hqYQ",
        "outputId": "987c0444-728a-4360-c970-d91937db6fe9"
      },
      "execution_count": null,
      "outputs": [
        {
          "output_type": "stream",
          "name": "stderr",
          "text": [
            "/usr/local/lib/python3.7/dist-packages/ipykernel_launcher.py:1: SettingWithCopyWarning: \n",
            "A value is trying to be set on a copy of a slice from a DataFrame.\n",
            "Try using .loc[row_indexer,col_indexer] = value instead\n",
            "\n",
            "See the caveats in the documentation: https://pandas.pydata.org/pandas-docs/stable/user_guide/indexing.html#returning-a-view-versus-a-copy\n",
            "  \"\"\"Entry point for launching an IPython kernel.\n"
          ]
        }
      ]
    },
    {
      "cell_type": "code",
      "source": [
        "r2 = r2_score(test_data['Sales'], pred_expo_mul)\n",
        "print(r2)"
      ],
      "metadata": {
        "colab": {
          "base_uri": "https://localhost:8080/"
        },
        "id": "8rX_42Tmix-D",
        "outputId": "83a47aad-0767-42fb-dff1-310af0773a44"
      },
      "execution_count": null,
      "outputs": [
        {
          "output_type": "stream",
          "name": "stdout",
          "text": [
            "0.949477083435698\n"
          ]
        }
      ]
    },
    {
      "cell_type": "code",
      "source": [
        "RMSE = np.sqrt(mean_squared_error(test_data['Sales'],pred_expo_mul, squared = False))\n",
        "print(RMSE)"
      ],
      "metadata": {
        "colab": {
          "base_uri": "https://localhost:8080/"
        },
        "id": "GtpDwjgcjYyI",
        "outputId": "fabee978-4edf-47f3-e053-de016b40825c"
      },
      "execution_count": null,
      "outputs": [
        {
          "output_type": "stream",
          "name": "stdout",
          "text": [
            "25.756392862488525\n"
          ]
        }
      ]
    },
    {
      "cell_type": "code",
      "source": [
        "!pip install pystan~=2.14"
      ],
      "metadata": {
        "colab": {
          "base_uri": "https://localhost:8080/"
        },
        "id": "rFuH_qEgkbq6",
        "outputId": "6e90a7f5-7c44-4cc7-d369-d1760be9317a"
      },
      "execution_count": null,
      "outputs": [
        {
          "output_type": "stream",
          "name": "stdout",
          "text": [
            "Looking in indexes: https://pypi.org/simple, https://us-python.pkg.dev/colab-wheels/public/simple/\n",
            "Collecting pystan~=2.14\n",
            "  Downloading pystan-2.19.1.1-cp37-cp37m-manylinux1_x86_64.whl (67.3 MB)\n",
            "\u001b[K     |████████████████████████████████| 67.3 MB 86 kB/s \n",
            "\u001b[?25hRequirement already satisfied: Cython!=0.25.1,>=0.22 in /usr/local/lib/python3.7/dist-packages (from pystan~=2.14) (0.29.32)\n",
            "Requirement already satisfied: numpy>=1.7 in /usr/local/lib/python3.7/dist-packages (from pystan~=2.14) (1.21.6)\n",
            "Installing collected packages: pystan\n",
            "  Attempting uninstall: pystan\n",
            "    Found existing installation: pystan 3.3.0\n",
            "    Uninstalling pystan-3.3.0:\n",
            "      Successfully uninstalled pystan-3.3.0\n",
            "Successfully installed pystan-2.19.1.1\n"
          ]
        }
      ]
    },
    {
      "cell_type": "code",
      "source": [
        "!pip install fbprophet"
      ],
      "metadata": {
        "colab": {
          "base_uri": "https://localhost:8080/"
        },
        "id": "OTieChKnkbtu",
        "outputId": "af034e75-801b-4328-8104-cfd5498e002c"
      },
      "execution_count": null,
      "outputs": [
        {
          "output_type": "stream",
          "name": "stdout",
          "text": [
            "Looking in indexes: https://pypi.org/simple, https://us-python.pkg.dev/colab-wheels/public/simple/\n",
            "Collecting fbprophet\n",
            "  Downloading fbprophet-0.7.1.tar.gz (64 kB)\n",
            "\u001b[K     |████████████████████████████████| 64 kB 2.2 MB/s \n",
            "\u001b[?25hRequirement already satisfied: Cython>=0.22 in /usr/local/lib/python3.7/dist-packages (from fbprophet) (0.29.32)\n",
            "Collecting cmdstanpy==0.9.5\n",
            "  Downloading cmdstanpy-0.9.5-py3-none-any.whl (37 kB)\n",
            "Requirement already satisfied: pystan>=2.14 in /usr/local/lib/python3.7/dist-packages (from fbprophet) (2.19.1.1)\n",
            "Requirement already satisfied: numpy>=1.15.4 in /usr/local/lib/python3.7/dist-packages (from fbprophet) (1.21.6)\n",
            "Requirement already satisfied: pandas>=1.0.4 in /usr/local/lib/python3.7/dist-packages (from fbprophet) (1.3.5)\n",
            "Requirement already satisfied: matplotlib>=2.0.0 in /usr/local/lib/python3.7/dist-packages (from fbprophet) (3.2.2)\n",
            "Requirement already satisfied: LunarCalendar>=0.0.9 in /usr/local/lib/python3.7/dist-packages (from fbprophet) (0.0.9)\n",
            "Requirement already satisfied: convertdate>=2.1.2 in /usr/local/lib/python3.7/dist-packages (from fbprophet) (2.4.0)\n",
            "Requirement already satisfied: holidays>=0.10.2 in /usr/local/lib/python3.7/dist-packages (from fbprophet) (0.14.2)\n",
            "Requirement already satisfied: setuptools-git>=1.2 in /usr/local/lib/python3.7/dist-packages (from fbprophet) (1.2)\n",
            "Requirement already satisfied: python-dateutil>=2.8.0 in /usr/local/lib/python3.7/dist-packages (from fbprophet) (2.8.2)\n",
            "Requirement already satisfied: tqdm>=4.36.1 in /usr/local/lib/python3.7/dist-packages (from fbprophet) (4.64.0)\n",
            "Requirement already satisfied: pymeeus<=1,>=0.3.13 in /usr/local/lib/python3.7/dist-packages (from convertdate>=2.1.2->fbprophet) (0.5.11)\n",
            "Requirement already satisfied: hijri-converter in /usr/local/lib/python3.7/dist-packages (from holidays>=0.10.2->fbprophet) (2.2.4)\n",
            "Requirement already satisfied: korean-lunar-calendar in /usr/local/lib/python3.7/dist-packages (from holidays>=0.10.2->fbprophet) (0.2.1)\n",
            "Requirement already satisfied: ephem>=3.7.5.3 in /usr/local/lib/python3.7/dist-packages (from LunarCalendar>=0.0.9->fbprophet) (4.1.3)\n",
            "Requirement already satisfied: pytz in /usr/local/lib/python3.7/dist-packages (from LunarCalendar>=0.0.9->fbprophet) (2022.1)\n",
            "Requirement already satisfied: pyparsing!=2.0.4,!=2.1.2,!=2.1.6,>=2.0.1 in /usr/local/lib/python3.7/dist-packages (from matplotlib>=2.0.0->fbprophet) (3.0.9)\n",
            "Requirement already satisfied: kiwisolver>=1.0.1 in /usr/local/lib/python3.7/dist-packages (from matplotlib>=2.0.0->fbprophet) (1.4.4)\n",
            "Requirement already satisfied: cycler>=0.10 in /usr/local/lib/python3.7/dist-packages (from matplotlib>=2.0.0->fbprophet) (0.11.0)\n",
            "Requirement already satisfied: typing-extensions in /usr/local/lib/python3.7/dist-packages (from kiwisolver>=1.0.1->matplotlib>=2.0.0->fbprophet) (4.1.1)\n",
            "Requirement already satisfied: six>=1.5 in /usr/local/lib/python3.7/dist-packages (from python-dateutil>=2.8.0->fbprophet) (1.15.0)\n",
            "Building wheels for collected packages: fbprophet\n",
            "  Building wheel for fbprophet (setup.py) ... \u001b[?25l\u001b[?25hdone\n",
            "  Created wheel for fbprophet: filename=fbprophet-0.7.1-py3-none-any.whl size=6638560 sha256=a403e98acc4f406ff2fe86b0a94ee9a030b8dfd9020ed8e9ddb4d661282672f8\n",
            "  Stored in directory: /root/.cache/pip/wheels/cd/a1/12/db63ff624de492fe6cccf676091a0860fdde2ffde4bc3280e2\n",
            "Successfully built fbprophet\n",
            "Installing collected packages: cmdstanpy, fbprophet\n",
            "  Attempting uninstall: cmdstanpy\n",
            "    Found existing installation: cmdstanpy 1.0.4\n",
            "    Uninstalling cmdstanpy-1.0.4:\n",
            "      Successfully uninstalled cmdstanpy-1.0.4\n",
            "\u001b[31mERROR: pip's dependency resolver does not currently take into account all the packages that are installed. This behaviour is the source of the following dependency conflicts.\n",
            "prophet 1.1 requires cmdstanpy>=1.0.1, but you have cmdstanpy 0.9.5 which is incompatible.\u001b[0m\n",
            "Successfully installed cmdstanpy-0.9.5 fbprophet-0.7.1\n"
          ]
        }
      ]
    },
    {
      "cell_type": "code",
      "source": [
        "from fbprophet import Prophet"
      ],
      "metadata": {
        "id": "OEw1Q39skbwg"
      },
      "execution_count": null,
      "outputs": []
    },
    {
      "cell_type": "code",
      "source": [
        "train_data.reset_index(inplace = True)"
      ],
      "metadata": {
        "id": "nbiQ_Afvlo9M"
      },
      "execution_count": null,
      "outputs": []
    },
    {
      "cell_type": "code",
      "source": [
        "ts = pd.DataFrame({'ds':train_data.Date,'y':train_data.Sales})\n",
        "ts.head()"
      ],
      "metadata": {
        "colab": {
          "base_uri": "https://localhost:8080/",
          "height": 206
        },
        "id": "KF-GKZvJkbzQ",
        "outputId": "72ce8b78-50c0-49a8-cad3-bf8929d90c08"
      },
      "execution_count": null,
      "outputs": [
        {
          "output_type": "execute_result",
          "data": {
            "text/plain": [
              "          ds       y\n",
              "0 1964-01-01  2815.0\n",
              "1 1964-02-01  2672.0\n",
              "2 1964-03-01  2755.0\n",
              "3 1964-04-01  2721.0\n",
              "4 1964-05-01  2946.0"
            ],
            "text/html": [
              "\n",
              "  <div id=\"df-7c31de53-e954-4b94-888f-b9367bf7715f\">\n",
              "    <div class=\"colab-df-container\">\n",
              "      <div>\n",
              "<style scoped>\n",
              "    .dataframe tbody tr th:only-of-type {\n",
              "        vertical-align: middle;\n",
              "    }\n",
              "\n",
              "    .dataframe tbody tr th {\n",
              "        vertical-align: top;\n",
              "    }\n",
              "\n",
              "    .dataframe thead th {\n",
              "        text-align: right;\n",
              "    }\n",
              "</style>\n",
              "<table border=\"1\" class=\"dataframe\">\n",
              "  <thead>\n",
              "    <tr style=\"text-align: right;\">\n",
              "      <th></th>\n",
              "      <th>ds</th>\n",
              "      <th>y</th>\n",
              "    </tr>\n",
              "  </thead>\n",
              "  <tbody>\n",
              "    <tr>\n",
              "      <th>0</th>\n",
              "      <td>1964-01-01</td>\n",
              "      <td>2815.0</td>\n",
              "    </tr>\n",
              "    <tr>\n",
              "      <th>1</th>\n",
              "      <td>1964-02-01</td>\n",
              "      <td>2672.0</td>\n",
              "    </tr>\n",
              "    <tr>\n",
              "      <th>2</th>\n",
              "      <td>1964-03-01</td>\n",
              "      <td>2755.0</td>\n",
              "    </tr>\n",
              "    <tr>\n",
              "      <th>3</th>\n",
              "      <td>1964-04-01</td>\n",
              "      <td>2721.0</td>\n",
              "    </tr>\n",
              "    <tr>\n",
              "      <th>4</th>\n",
              "      <td>1964-05-01</td>\n",
              "      <td>2946.0</td>\n",
              "    </tr>\n",
              "  </tbody>\n",
              "</table>\n",
              "</div>\n",
              "      <button class=\"colab-df-convert\" onclick=\"convertToInteractive('df-7c31de53-e954-4b94-888f-b9367bf7715f')\"\n",
              "              title=\"Convert this dataframe to an interactive table.\"\n",
              "              style=\"display:none;\">\n",
              "        \n",
              "  <svg xmlns=\"http://www.w3.org/2000/svg\" height=\"24px\"viewBox=\"0 0 24 24\"\n",
              "       width=\"24px\">\n",
              "    <path d=\"M0 0h24v24H0V0z\" fill=\"none\"/>\n",
              "    <path d=\"M18.56 5.44l.94 2.06.94-2.06 2.06-.94-2.06-.94-.94-2.06-.94 2.06-2.06.94zm-11 1L8.5 8.5l.94-2.06 2.06-.94-2.06-.94L8.5 2.5l-.94 2.06-2.06.94zm10 10l.94 2.06.94-2.06 2.06-.94-2.06-.94-.94-2.06-.94 2.06-2.06.94z\"/><path d=\"M17.41 7.96l-1.37-1.37c-.4-.4-.92-.59-1.43-.59-.52 0-1.04.2-1.43.59L10.3 9.45l-7.72 7.72c-.78.78-.78 2.05 0 2.83L4 21.41c.39.39.9.59 1.41.59.51 0 1.02-.2 1.41-.59l7.78-7.78 2.81-2.81c.8-.78.8-2.07 0-2.86zM5.41 20L4 18.59l7.72-7.72 1.47 1.35L5.41 20z\"/>\n",
              "  </svg>\n",
              "      </button>\n",
              "      \n",
              "  <style>\n",
              "    .colab-df-container {\n",
              "      display:flex;\n",
              "      flex-wrap:wrap;\n",
              "      gap: 12px;\n",
              "    }\n",
              "\n",
              "    .colab-df-convert {\n",
              "      background-color: #E8F0FE;\n",
              "      border: none;\n",
              "      border-radius: 50%;\n",
              "      cursor: pointer;\n",
              "      display: none;\n",
              "      fill: #1967D2;\n",
              "      height: 32px;\n",
              "      padding: 0 0 0 0;\n",
              "      width: 32px;\n",
              "    }\n",
              "\n",
              "    .colab-df-convert:hover {\n",
              "      background-color: #E2EBFA;\n",
              "      box-shadow: 0px 1px 2px rgba(60, 64, 67, 0.3), 0px 1px 3px 1px rgba(60, 64, 67, 0.15);\n",
              "      fill: #174EA6;\n",
              "    }\n",
              "\n",
              "    [theme=dark] .colab-df-convert {\n",
              "      background-color: #3B4455;\n",
              "      fill: #D2E3FC;\n",
              "    }\n",
              "\n",
              "    [theme=dark] .colab-df-convert:hover {\n",
              "      background-color: #434B5C;\n",
              "      box-shadow: 0px 1px 3px 1px rgba(0, 0, 0, 0.15);\n",
              "      filter: drop-shadow(0px 1px 2px rgba(0, 0, 0, 0.3));\n",
              "      fill: #FFFFFF;\n",
              "    }\n",
              "  </style>\n",
              "\n",
              "      <script>\n",
              "        const buttonEl =\n",
              "          document.querySelector('#df-7c31de53-e954-4b94-888f-b9367bf7715f button.colab-df-convert');\n",
              "        buttonEl.style.display =\n",
              "          google.colab.kernel.accessAllowed ? 'block' : 'none';\n",
              "\n",
              "        async function convertToInteractive(key) {\n",
              "          const element = document.querySelector('#df-7c31de53-e954-4b94-888f-b9367bf7715f');\n",
              "          const dataTable =\n",
              "            await google.colab.kernel.invokeFunction('convertToInteractive',\n",
              "                                                     [key], {});\n",
              "          if (!dataTable) return;\n",
              "\n",
              "          const docLinkHtml = 'Like what you see? Visit the ' +\n",
              "            '<a target=\"_blank\" href=https://colab.research.google.com/notebooks/data_table.ipynb>data table notebook</a>'\n",
              "            + ' to learn more about interactive tables.';\n",
              "          element.innerHTML = '';\n",
              "          dataTable['output_type'] = 'display_data';\n",
              "          await google.colab.output.renderOutput(dataTable, element);\n",
              "          const docLink = document.createElement('div');\n",
              "          docLink.innerHTML = docLinkHtml;\n",
              "          element.appendChild(docLink);\n",
              "        }\n",
              "      </script>\n",
              "    </div>\n",
              "  </div>\n",
              "  "
            ]
          },
          "metadata": {},
          "execution_count": 103
        }
      ]
    },
    {
      "cell_type": "code",
      "source": [
        "ts"
      ],
      "metadata": {
        "colab": {
          "base_uri": "https://localhost:8080/",
          "height": 424
        },
        "id": "5ga663YUkb19",
        "outputId": "d61059e8-058b-4617-c26c-8366072a7d1c"
      },
      "execution_count": null,
      "outputs": [
        {
          "output_type": "execute_result",
          "data": {
            "text/plain": [
              "           ds       y\n",
              "0  1964-01-01  2815.0\n",
              "1  1964-02-01  2672.0\n",
              "2  1964-03-01  2755.0\n",
              "3  1964-04-01  2721.0\n",
              "4  1964-05-01  2946.0\n",
              "..        ...     ...\n",
              "89 1971-06-01  4874.0\n",
              "90 1971-07-01  4633.0\n",
              "91 1971-08-01  1659.0\n",
              "92 1971-09-01  5951.0\n",
              "93 1971-10-01  6981.0\n",
              "\n",
              "[94 rows x 2 columns]"
            ],
            "text/html": [
              "\n",
              "  <div id=\"df-20ac976f-488a-41f5-b365-6f4e1058dc27\">\n",
              "    <div class=\"colab-df-container\">\n",
              "      <div>\n",
              "<style scoped>\n",
              "    .dataframe tbody tr th:only-of-type {\n",
              "        vertical-align: middle;\n",
              "    }\n",
              "\n",
              "    .dataframe tbody tr th {\n",
              "        vertical-align: top;\n",
              "    }\n",
              "\n",
              "    .dataframe thead th {\n",
              "        text-align: right;\n",
              "    }\n",
              "</style>\n",
              "<table border=\"1\" class=\"dataframe\">\n",
              "  <thead>\n",
              "    <tr style=\"text-align: right;\">\n",
              "      <th></th>\n",
              "      <th>ds</th>\n",
              "      <th>y</th>\n",
              "    </tr>\n",
              "  </thead>\n",
              "  <tbody>\n",
              "    <tr>\n",
              "      <th>0</th>\n",
              "      <td>1964-01-01</td>\n",
              "      <td>2815.0</td>\n",
              "    </tr>\n",
              "    <tr>\n",
              "      <th>1</th>\n",
              "      <td>1964-02-01</td>\n",
              "      <td>2672.0</td>\n",
              "    </tr>\n",
              "    <tr>\n",
              "      <th>2</th>\n",
              "      <td>1964-03-01</td>\n",
              "      <td>2755.0</td>\n",
              "    </tr>\n",
              "    <tr>\n",
              "      <th>3</th>\n",
              "      <td>1964-04-01</td>\n",
              "      <td>2721.0</td>\n",
              "    </tr>\n",
              "    <tr>\n",
              "      <th>4</th>\n",
              "      <td>1964-05-01</td>\n",
              "      <td>2946.0</td>\n",
              "    </tr>\n",
              "    <tr>\n",
              "      <th>...</th>\n",
              "      <td>...</td>\n",
              "      <td>...</td>\n",
              "    </tr>\n",
              "    <tr>\n",
              "      <th>89</th>\n",
              "      <td>1971-06-01</td>\n",
              "      <td>4874.0</td>\n",
              "    </tr>\n",
              "    <tr>\n",
              "      <th>90</th>\n",
              "      <td>1971-07-01</td>\n",
              "      <td>4633.0</td>\n",
              "    </tr>\n",
              "    <tr>\n",
              "      <th>91</th>\n",
              "      <td>1971-08-01</td>\n",
              "      <td>1659.0</td>\n",
              "    </tr>\n",
              "    <tr>\n",
              "      <th>92</th>\n",
              "      <td>1971-09-01</td>\n",
              "      <td>5951.0</td>\n",
              "    </tr>\n",
              "    <tr>\n",
              "      <th>93</th>\n",
              "      <td>1971-10-01</td>\n",
              "      <td>6981.0</td>\n",
              "    </tr>\n",
              "  </tbody>\n",
              "</table>\n",
              "<p>94 rows × 2 columns</p>\n",
              "</div>\n",
              "      <button class=\"colab-df-convert\" onclick=\"convertToInteractive('df-20ac976f-488a-41f5-b365-6f4e1058dc27')\"\n",
              "              title=\"Convert this dataframe to an interactive table.\"\n",
              "              style=\"display:none;\">\n",
              "        \n",
              "  <svg xmlns=\"http://www.w3.org/2000/svg\" height=\"24px\"viewBox=\"0 0 24 24\"\n",
              "       width=\"24px\">\n",
              "    <path d=\"M0 0h24v24H0V0z\" fill=\"none\"/>\n",
              "    <path d=\"M18.56 5.44l.94 2.06.94-2.06 2.06-.94-2.06-.94-.94-2.06-.94 2.06-2.06.94zm-11 1L8.5 8.5l.94-2.06 2.06-.94-2.06-.94L8.5 2.5l-.94 2.06-2.06.94zm10 10l.94 2.06.94-2.06 2.06-.94-2.06-.94-.94-2.06-.94 2.06-2.06.94z\"/><path d=\"M17.41 7.96l-1.37-1.37c-.4-.4-.92-.59-1.43-.59-.52 0-1.04.2-1.43.59L10.3 9.45l-7.72 7.72c-.78.78-.78 2.05 0 2.83L4 21.41c.39.39.9.59 1.41.59.51 0 1.02-.2 1.41-.59l7.78-7.78 2.81-2.81c.8-.78.8-2.07 0-2.86zM5.41 20L4 18.59l7.72-7.72 1.47 1.35L5.41 20z\"/>\n",
              "  </svg>\n",
              "      </button>\n",
              "      \n",
              "  <style>\n",
              "    .colab-df-container {\n",
              "      display:flex;\n",
              "      flex-wrap:wrap;\n",
              "      gap: 12px;\n",
              "    }\n",
              "\n",
              "    .colab-df-convert {\n",
              "      background-color: #E8F0FE;\n",
              "      border: none;\n",
              "      border-radius: 50%;\n",
              "      cursor: pointer;\n",
              "      display: none;\n",
              "      fill: #1967D2;\n",
              "      height: 32px;\n",
              "      padding: 0 0 0 0;\n",
              "      width: 32px;\n",
              "    }\n",
              "\n",
              "    .colab-df-convert:hover {\n",
              "      background-color: #E2EBFA;\n",
              "      box-shadow: 0px 1px 2px rgba(60, 64, 67, 0.3), 0px 1px 3px 1px rgba(60, 64, 67, 0.15);\n",
              "      fill: #174EA6;\n",
              "    }\n",
              "\n",
              "    [theme=dark] .colab-df-convert {\n",
              "      background-color: #3B4455;\n",
              "      fill: #D2E3FC;\n",
              "    }\n",
              "\n",
              "    [theme=dark] .colab-df-convert:hover {\n",
              "      background-color: #434B5C;\n",
              "      box-shadow: 0px 1px 3px 1px rgba(0, 0, 0, 0.15);\n",
              "      filter: drop-shadow(0px 1px 2px rgba(0, 0, 0, 0.3));\n",
              "      fill: #FFFFFF;\n",
              "    }\n",
              "  </style>\n",
              "\n",
              "      <script>\n",
              "        const buttonEl =\n",
              "          document.querySelector('#df-20ac976f-488a-41f5-b365-6f4e1058dc27 button.colab-df-convert');\n",
              "        buttonEl.style.display =\n",
              "          google.colab.kernel.accessAllowed ? 'block' : 'none';\n",
              "\n",
              "        async function convertToInteractive(key) {\n",
              "          const element = document.querySelector('#df-20ac976f-488a-41f5-b365-6f4e1058dc27');\n",
              "          const dataTable =\n",
              "            await google.colab.kernel.invokeFunction('convertToInteractive',\n",
              "                                                     [key], {});\n",
              "          if (!dataTable) return;\n",
              "\n",
              "          const docLinkHtml = 'Like what you see? Visit the ' +\n",
              "            '<a target=\"_blank\" href=https://colab.research.google.com/notebooks/data_table.ipynb>data table notebook</a>'\n",
              "            + ' to learn more about interactive tables.';\n",
              "          element.innerHTML = '';\n",
              "          dataTable['output_type'] = 'display_data';\n",
              "          await google.colab.output.renderOutput(dataTable, element);\n",
              "          const docLink = document.createElement('div');\n",
              "          docLink.innerHTML = docLinkHtml;\n",
              "          element.appendChild(docLink);\n",
              "        }\n",
              "      </script>\n",
              "    </div>\n",
              "  </div>\n",
              "  "
            ]
          },
          "metadata": {},
          "execution_count": 104
        }
      ]
    },
    {
      "cell_type": "code",
      "source": [
        "model_prophet = Prophet(seasonality_mode='multiplicative').fit(ts)"
      ],
      "metadata": {
        "colab": {
          "base_uri": "https://localhost:8080/"
        },
        "id": "67-6oR18kb4_",
        "outputId": "fa0b327c-0631-4168-be2f-18e1e0166981"
      },
      "execution_count": null,
      "outputs": [
        {
          "output_type": "stream",
          "name": "stderr",
          "text": [
            "INFO:fbprophet:Disabling weekly seasonality. Run prophet with weekly_seasonality=True to override this.\n",
            "INFO:fbprophet:Disabling daily seasonality. Run prophet with daily_seasonality=True to override this.\n"
          ]
        }
      ]
    },
    {
      "cell_type": "code",
      "source": [
        "test_data"
      ],
      "metadata": {
        "colab": {
          "base_uri": "https://localhost:8080/",
          "height": 470
        },
        "id": "-wliXAQhkb7W",
        "outputId": "7a821e43-55f4-449e-cff9-bab333dcbe94"
      },
      "execution_count": null,
      "outputs": [
        {
          "output_type": "execute_result",
          "data": {
            "text/plain": [
              "              Sales    roll_mean  roll_mean_first_diff  Sales_first_diff  \\\n",
              "Date                                                                       \n",
              "1971-11-01   9851.0  5375.500000            -39.666667            2870.0   \n",
              "1971-12-01  12670.0  5323.583333            -51.916667            2819.0   \n",
              "1972-01-01   4348.0  5394.791667             71.208333           -8322.0   \n",
              "1972-02-01   3564.0  5422.500000             27.708333            -784.0   \n",
              "1972-03-01   4577.0  5472.791667             50.291667            1013.0   \n",
              "1972-04-01   4788.0  5516.458333             43.666667             211.0   \n",
              "1972-05-01   4618.0  5586.916667             70.458333            -170.0   \n",
              "1972-06-01   5312.0  5642.166667             55.250000             694.0   \n",
              "1972-07-01   4298.0  5645.541667              3.375000           -1014.0   \n",
              "1972-08-01   1413.0  5632.000000            -13.541667           -2885.0   \n",
              "1972-09-01   5877.0  5659.333333             27.333333            4464.0   \n",
              "\n",
              "            Logging_sales  Logging_sales_first_diff   Pred_SARIMA  \\\n",
              "Date                                                                \n",
              "1971-11-01       9.195328                  0.344381  10146.784704   \n",
              "1971-12-01       9.446992                  0.251664  13571.906546   \n",
              "1972-01-01       8.377471                 -1.069521   4265.007017   \n",
              "1972-02-01       8.178639                 -0.198832   3276.338766   \n",
              "1972-03-01       8.428799                  0.250160   4594.043089   \n",
              "1972-04-01       8.473868                  0.045069   5130.463498   \n",
              "1972-05-01       8.437717                 -0.036151   5261.347533   \n",
              "1972-06-01       8.577724                  0.140007   5042.716501   \n",
              "1972-07-01       8.365905                 -0.211819   4998.680343   \n",
              "1972-08-01       7.253470                 -1.112435   2052.707882   \n",
              "1972-09-01       8.678802                  1.425331   6165.482261   \n",
              "\n",
              "            pred_expo_sim  pred_expo_mul_add  pred_expo_mul  \n",
              "Date                                                         \n",
              "1971-11-01    5197.188922       10797.102399   11058.437751  \n",
              "1971-12-01    5197.188922       13827.780499   14169.541436  \n",
              "1972-01-01    5197.188922        4457.995281    4122.373810  \n",
              "1972-02-01    5197.188922        4017.047952    3723.018619  \n",
              "1972-03-01    5197.188922        4939.171522    4622.888013  \n",
              "1972-04-01    5197.188922        5278.389536    4932.905667  \n",
              "1972-05-01    5197.188922        5390.078200    5045.254341  \n",
              "1972-06-01    5197.188922        5524.157365    5238.070098  \n",
              "1972-07-01    5197.188922        5309.183789    4876.992835  \n",
              "1972-08-01    5197.188922        2591.261976    1976.514704  \n",
              "1972-09-01    5197.188922        6608.208733    6317.855720  "
            ],
            "text/html": [
              "\n",
              "  <div id=\"df-95a82fc8-f346-4e20-bac8-e7acd97cfaf9\">\n",
              "    <div class=\"colab-df-container\">\n",
              "      <div>\n",
              "<style scoped>\n",
              "    .dataframe tbody tr th:only-of-type {\n",
              "        vertical-align: middle;\n",
              "    }\n",
              "\n",
              "    .dataframe tbody tr th {\n",
              "        vertical-align: top;\n",
              "    }\n",
              "\n",
              "    .dataframe thead th {\n",
              "        text-align: right;\n",
              "    }\n",
              "</style>\n",
              "<table border=\"1\" class=\"dataframe\">\n",
              "  <thead>\n",
              "    <tr style=\"text-align: right;\">\n",
              "      <th></th>\n",
              "      <th>Sales</th>\n",
              "      <th>roll_mean</th>\n",
              "      <th>roll_mean_first_diff</th>\n",
              "      <th>Sales_first_diff</th>\n",
              "      <th>Logging_sales</th>\n",
              "      <th>Logging_sales_first_diff</th>\n",
              "      <th>Pred_SARIMA</th>\n",
              "      <th>pred_expo_sim</th>\n",
              "      <th>pred_expo_mul_add</th>\n",
              "      <th>pred_expo_mul</th>\n",
              "    </tr>\n",
              "    <tr>\n",
              "      <th>Date</th>\n",
              "      <th></th>\n",
              "      <th></th>\n",
              "      <th></th>\n",
              "      <th></th>\n",
              "      <th></th>\n",
              "      <th></th>\n",
              "      <th></th>\n",
              "      <th></th>\n",
              "      <th></th>\n",
              "      <th></th>\n",
              "    </tr>\n",
              "  </thead>\n",
              "  <tbody>\n",
              "    <tr>\n",
              "      <th>1971-11-01</th>\n",
              "      <td>9851.0</td>\n",
              "      <td>5375.500000</td>\n",
              "      <td>-39.666667</td>\n",
              "      <td>2870.0</td>\n",
              "      <td>9.195328</td>\n",
              "      <td>0.344381</td>\n",
              "      <td>10146.784704</td>\n",
              "      <td>5197.188922</td>\n",
              "      <td>10797.102399</td>\n",
              "      <td>11058.437751</td>\n",
              "    </tr>\n",
              "    <tr>\n",
              "      <th>1971-12-01</th>\n",
              "      <td>12670.0</td>\n",
              "      <td>5323.583333</td>\n",
              "      <td>-51.916667</td>\n",
              "      <td>2819.0</td>\n",
              "      <td>9.446992</td>\n",
              "      <td>0.251664</td>\n",
              "      <td>13571.906546</td>\n",
              "      <td>5197.188922</td>\n",
              "      <td>13827.780499</td>\n",
              "      <td>14169.541436</td>\n",
              "    </tr>\n",
              "    <tr>\n",
              "      <th>1972-01-01</th>\n",
              "      <td>4348.0</td>\n",
              "      <td>5394.791667</td>\n",
              "      <td>71.208333</td>\n",
              "      <td>-8322.0</td>\n",
              "      <td>8.377471</td>\n",
              "      <td>-1.069521</td>\n",
              "      <td>4265.007017</td>\n",
              "      <td>5197.188922</td>\n",
              "      <td>4457.995281</td>\n",
              "      <td>4122.373810</td>\n",
              "    </tr>\n",
              "    <tr>\n",
              "      <th>1972-02-01</th>\n",
              "      <td>3564.0</td>\n",
              "      <td>5422.500000</td>\n",
              "      <td>27.708333</td>\n",
              "      <td>-784.0</td>\n",
              "      <td>8.178639</td>\n",
              "      <td>-0.198832</td>\n",
              "      <td>3276.338766</td>\n",
              "      <td>5197.188922</td>\n",
              "      <td>4017.047952</td>\n",
              "      <td>3723.018619</td>\n",
              "    </tr>\n",
              "    <tr>\n",
              "      <th>1972-03-01</th>\n",
              "      <td>4577.0</td>\n",
              "      <td>5472.791667</td>\n",
              "      <td>50.291667</td>\n",
              "      <td>1013.0</td>\n",
              "      <td>8.428799</td>\n",
              "      <td>0.250160</td>\n",
              "      <td>4594.043089</td>\n",
              "      <td>5197.188922</td>\n",
              "      <td>4939.171522</td>\n",
              "      <td>4622.888013</td>\n",
              "    </tr>\n",
              "    <tr>\n",
              "      <th>1972-04-01</th>\n",
              "      <td>4788.0</td>\n",
              "      <td>5516.458333</td>\n",
              "      <td>43.666667</td>\n",
              "      <td>211.0</td>\n",
              "      <td>8.473868</td>\n",
              "      <td>0.045069</td>\n",
              "      <td>5130.463498</td>\n",
              "      <td>5197.188922</td>\n",
              "      <td>5278.389536</td>\n",
              "      <td>4932.905667</td>\n",
              "    </tr>\n",
              "    <tr>\n",
              "      <th>1972-05-01</th>\n",
              "      <td>4618.0</td>\n",
              "      <td>5586.916667</td>\n",
              "      <td>70.458333</td>\n",
              "      <td>-170.0</td>\n",
              "      <td>8.437717</td>\n",
              "      <td>-0.036151</td>\n",
              "      <td>5261.347533</td>\n",
              "      <td>5197.188922</td>\n",
              "      <td>5390.078200</td>\n",
              "      <td>5045.254341</td>\n",
              "    </tr>\n",
              "    <tr>\n",
              "      <th>1972-06-01</th>\n",
              "      <td>5312.0</td>\n",
              "      <td>5642.166667</td>\n",
              "      <td>55.250000</td>\n",
              "      <td>694.0</td>\n",
              "      <td>8.577724</td>\n",
              "      <td>0.140007</td>\n",
              "      <td>5042.716501</td>\n",
              "      <td>5197.188922</td>\n",
              "      <td>5524.157365</td>\n",
              "      <td>5238.070098</td>\n",
              "    </tr>\n",
              "    <tr>\n",
              "      <th>1972-07-01</th>\n",
              "      <td>4298.0</td>\n",
              "      <td>5645.541667</td>\n",
              "      <td>3.375000</td>\n",
              "      <td>-1014.0</td>\n",
              "      <td>8.365905</td>\n",
              "      <td>-0.211819</td>\n",
              "      <td>4998.680343</td>\n",
              "      <td>5197.188922</td>\n",
              "      <td>5309.183789</td>\n",
              "      <td>4876.992835</td>\n",
              "    </tr>\n",
              "    <tr>\n",
              "      <th>1972-08-01</th>\n",
              "      <td>1413.0</td>\n",
              "      <td>5632.000000</td>\n",
              "      <td>-13.541667</td>\n",
              "      <td>-2885.0</td>\n",
              "      <td>7.253470</td>\n",
              "      <td>-1.112435</td>\n",
              "      <td>2052.707882</td>\n",
              "      <td>5197.188922</td>\n",
              "      <td>2591.261976</td>\n",
              "      <td>1976.514704</td>\n",
              "    </tr>\n",
              "    <tr>\n",
              "      <th>1972-09-01</th>\n",
              "      <td>5877.0</td>\n",
              "      <td>5659.333333</td>\n",
              "      <td>27.333333</td>\n",
              "      <td>4464.0</td>\n",
              "      <td>8.678802</td>\n",
              "      <td>1.425331</td>\n",
              "      <td>6165.482261</td>\n",
              "      <td>5197.188922</td>\n",
              "      <td>6608.208733</td>\n",
              "      <td>6317.855720</td>\n",
              "    </tr>\n",
              "  </tbody>\n",
              "</table>\n",
              "</div>\n",
              "      <button class=\"colab-df-convert\" onclick=\"convertToInteractive('df-95a82fc8-f346-4e20-bac8-e7acd97cfaf9')\"\n",
              "              title=\"Convert this dataframe to an interactive table.\"\n",
              "              style=\"display:none;\">\n",
              "        \n",
              "  <svg xmlns=\"http://www.w3.org/2000/svg\" height=\"24px\"viewBox=\"0 0 24 24\"\n",
              "       width=\"24px\">\n",
              "    <path d=\"M0 0h24v24H0V0z\" fill=\"none\"/>\n",
              "    <path d=\"M18.56 5.44l.94 2.06.94-2.06 2.06-.94-2.06-.94-.94-2.06-.94 2.06-2.06.94zm-11 1L8.5 8.5l.94-2.06 2.06-.94-2.06-.94L8.5 2.5l-.94 2.06-2.06.94zm10 10l.94 2.06.94-2.06 2.06-.94-2.06-.94-.94-2.06-.94 2.06-2.06.94z\"/><path d=\"M17.41 7.96l-1.37-1.37c-.4-.4-.92-.59-1.43-.59-.52 0-1.04.2-1.43.59L10.3 9.45l-7.72 7.72c-.78.78-.78 2.05 0 2.83L4 21.41c.39.39.9.59 1.41.59.51 0 1.02-.2 1.41-.59l7.78-7.78 2.81-2.81c.8-.78.8-2.07 0-2.86zM5.41 20L4 18.59l7.72-7.72 1.47 1.35L5.41 20z\"/>\n",
              "  </svg>\n",
              "      </button>\n",
              "      \n",
              "  <style>\n",
              "    .colab-df-container {\n",
              "      display:flex;\n",
              "      flex-wrap:wrap;\n",
              "      gap: 12px;\n",
              "    }\n",
              "\n",
              "    .colab-df-convert {\n",
              "      background-color: #E8F0FE;\n",
              "      border: none;\n",
              "      border-radius: 50%;\n",
              "      cursor: pointer;\n",
              "      display: none;\n",
              "      fill: #1967D2;\n",
              "      height: 32px;\n",
              "      padding: 0 0 0 0;\n",
              "      width: 32px;\n",
              "    }\n",
              "\n",
              "    .colab-df-convert:hover {\n",
              "      background-color: #E2EBFA;\n",
              "      box-shadow: 0px 1px 2px rgba(60, 64, 67, 0.3), 0px 1px 3px 1px rgba(60, 64, 67, 0.15);\n",
              "      fill: #174EA6;\n",
              "    }\n",
              "\n",
              "    [theme=dark] .colab-df-convert {\n",
              "      background-color: #3B4455;\n",
              "      fill: #D2E3FC;\n",
              "    }\n",
              "\n",
              "    [theme=dark] .colab-df-convert:hover {\n",
              "      background-color: #434B5C;\n",
              "      box-shadow: 0px 1px 3px 1px rgba(0, 0, 0, 0.15);\n",
              "      filter: drop-shadow(0px 1px 2px rgba(0, 0, 0, 0.3));\n",
              "      fill: #FFFFFF;\n",
              "    }\n",
              "  </style>\n",
              "\n",
              "      <script>\n",
              "        const buttonEl =\n",
              "          document.querySelector('#df-95a82fc8-f346-4e20-bac8-e7acd97cfaf9 button.colab-df-convert');\n",
              "        buttonEl.style.display =\n",
              "          google.colab.kernel.accessAllowed ? 'block' : 'none';\n",
              "\n",
              "        async function convertToInteractive(key) {\n",
              "          const element = document.querySelector('#df-95a82fc8-f346-4e20-bac8-e7acd97cfaf9');\n",
              "          const dataTable =\n",
              "            await google.colab.kernel.invokeFunction('convertToInteractive',\n",
              "                                                     [key], {});\n",
              "          if (!dataTable) return;\n",
              "\n",
              "          const docLinkHtml = 'Like what you see? Visit the ' +\n",
              "            '<a target=\"_blank\" href=https://colab.research.google.com/notebooks/data_table.ipynb>data table notebook</a>'\n",
              "            + ' to learn more about interactive tables.';\n",
              "          element.innerHTML = '';\n",
              "          dataTable['output_type'] = 'display_data';\n",
              "          await google.colab.output.renderOutput(dataTable, element);\n",
              "          const docLink = document.createElement('div');\n",
              "          docLink.innerHTML = docLinkHtml;\n",
              "          element.appendChild(docLink);\n",
              "        }\n",
              "      </script>\n",
              "    </div>\n",
              "  </div>\n",
              "  "
            ]
          },
          "metadata": {},
          "execution_count": 109
        }
      ]
    },
    {
      "cell_type": "code",
      "source": [
        "future = model_prophet.make_future_dataframe(periods=11, freq='MS')\n",
        "fcst = model_prophet.predict(future)\n",
        "fig = model_prophet.plot(fcst)"
      ],
      "metadata": {
        "colab": {
          "base_uri": "https://localhost:8080/",
          "height": 441
        },
        "id": "N-Bwq-c2kb-R",
        "outputId": "9baa101c-d544-4b38-b7fb-25bea73feabf"
      },
      "execution_count": null,
      "outputs": [
        {
          "output_type": "display_data",
          "data": {
            "text/plain": [
              "<Figure size 720x432 with 1 Axes>"
            ],
            "image/png": "[encoded data removed]"
          },
          "metadata": {}
        }
      ]
    },
    {
      "cell_type": "code",
      "source": [
        "fcst"
      ],
      "metadata": {
        "colab": {
          "base_uri": "https://localhost:8080/",
          "height": 661
        },
        "id": "VjIC1Su5kcAV",
        "outputId": "85a80641-26b8-4dda-cbe7-bab2f19578b7"
      },
      "execution_count": null,
      "outputs": [
        {
          "output_type": "execute_result",
          "data": {
            "text/plain": [
              "            ds        trend   yhat_lower   yhat_upper  trend_lower  \\\n",
              "0   1964-01-01  3198.859989  1833.367693  3201.904687  3198.859989   \n",
              "1   1964-02-01  3238.974560  1620.026054  2904.832834  3238.974560   \n",
              "2   1964-03-01  3276.501094  2021.590084  3361.093140  3276.501094   \n",
              "3   1964-04-01  3316.615665  1934.514876  3243.230253  3316.615665   \n",
              "4   1964-05-01  3355.436218  2238.093746  3606.063958  3355.436218   \n",
              "..         ...          ...          ...          ...          ...   \n",
              "100 1972-05-01  6192.174606  4663.280389  6012.095996  6186.490192   \n",
              "101 1972-06-01  6211.821421  4556.430848  5959.995798  6204.802487   \n",
              "102 1972-07-01  6230.834468  3483.293677  4857.406726  6222.346751   \n",
              "103 1972-08-01  6250.481283  1749.556345  3085.791831  6240.470970   \n",
              "104 1972-09-01  6270.128098  4803.431000  6126.916869  6258.344712   \n",
              "\n",
              "     trend_upper  multiplicative_terms  multiplicative_terms_lower  \\\n",
              "0    3198.859989             -0.204855                   -0.204855   \n",
              "1    3238.974560             -0.306899                   -0.306899   \n",
              "2    3276.501094             -0.170859                   -0.170859   \n",
              "3    3316.615665             -0.218087                   -0.218087   \n",
              "4    3355.436218             -0.135556                   -0.135556   \n",
              "..           ...                   ...                         ...   \n",
              "100  6198.363299             -0.135556                   -0.135556   \n",
              "101  6219.179539             -0.153511                   -0.153511   \n",
              "102  6239.956594             -0.330253                   -0.330253   \n",
              "103  6261.539798             -0.619379                   -0.619379   \n",
              "104  6283.166471             -0.135952                   -0.135952   \n",
              "\n",
              "     multiplicative_terms_upper    yearly  yearly_lower  yearly_upper  \\\n",
              "0                     -0.204855 -0.204855     -0.204855     -0.204855   \n",
              "1                     -0.306899 -0.306899     -0.306899     -0.306899   \n",
              "2                     -0.170859 -0.170859     -0.170859     -0.170859   \n",
              "3                     -0.218087 -0.218087     -0.218087     -0.218087   \n",
              "4                     -0.135556 -0.135556     -0.135556     -0.135556   \n",
              "..                          ...       ...           ...           ...   \n",
              "100                   -0.135556 -0.135556     -0.135556     -0.135556   \n",
              "101                   -0.153511 -0.153511     -0.153511     -0.153511   \n",
              "102                   -0.330253 -0.330253     -0.330253     -0.330253   \n",
              "103                   -0.619379 -0.619379     -0.619379     -0.619379   \n",
              "104                   -0.135952 -0.135952     -0.135952     -0.135952   \n",
              "\n",
              "     additive_terms  additive_terms_lower  additive_terms_upper         yhat  \n",
              "0               0.0                   0.0                   0.0  2543.558673  \n",
              "1               0.0                   0.0                   0.0  2244.936815  \n",
              "2               0.0                   0.0                   0.0  2716.680439  \n",
              "3               0.0                   0.0                   0.0  2593.306389  \n",
              "4               0.0                   0.0                   0.0  2900.586650  \n",
              "..              ...                   ...                   ...          ...  \n",
              "100             0.0                   0.0                   0.0  5352.788082  \n",
              "101             0.0                   0.0                   0.0  5258.240624  \n",
              "102             0.0                   0.0                   0.0  4173.084253  \n",
              "103             0.0                   0.0                   0.0  2379.067479  \n",
              "104             0.0                   0.0                   0.0  5417.689991  \n",
              "\n",
              "[105 rows x 16 columns]"
            ],
            "text/html": [
              "\n",
              "  <div id=\"df-f537a76b-ec99-46ff-8495-1ae762910898\">\n",
              "    <div class=\"colab-df-container\">\n",
              "      <div>\n",
              "<style scoped>\n",
              "    .dataframe tbody tr th:only-of-type {\n",
              "        vertical-align: middle;\n",
              "    }\n",
              "\n",
              "    .dataframe tbody tr th {\n",
              "        vertical-align: top;\n",
              "    }\n",
              "\n",
              "    .dataframe thead th {\n",
              "        text-align: right;\n",
              "    }\n",
              "</style>\n",
              "<table border=\"1\" class=\"dataframe\">\n",
              "  <thead>\n",
              "    <tr style=\"text-align: right;\">\n",
              "      <th></th>\n",
              "      <th>ds</th>\n",
              "      <th>trend</th>\n",
              "      <th>yhat_lower</th>\n",
              "      <th>yhat_upper</th>\n",
              "      <th>trend_lower</th>\n",
              "      <th>trend_upper</th>\n",
              "      <th>multiplicative_terms</th>\n",
              "      <th>multiplicative_terms_lower</th>\n",
              "      <th>multiplicative_terms_upper</th>\n",
              "      <th>yearly</th>\n",
              "      <th>yearly_lower</th>\n",
              "      <th>yearly_upper</th>\n",
              "      <th>additive_terms</th>\n",
              "      <th>additive_terms_lower</th>\n",
              "      <th>additive_terms_upper</th>\n",
              "      <th>yhat</th>\n",
              "    </tr>\n",
              "  </thead>\n",
              "  <tbody>\n",
              "    <tr>\n",
              "      <th>0</th>\n",
              "      <td>1964-01-01</td>\n",
              "      <td>3198.859989</td>\n",
              "      <td>1833.367693</td>\n",
              "      <td>3201.904687</td>\n",
              "      <td>3198.859989</td>\n",
              "      <td>3198.859989</td>\n",
              "      <td>-0.204855</td>\n",
              "      <td>-0.204855</td>\n",
              "      <td>-0.204855</td>\n",
              "      <td>-0.204855</td>\n",
              "      <td>-0.204855</td>\n",
              "      <td>-0.204855</td>\n",
              "      <td>0.0</td>\n",
              "      <td>0.0</td>\n",
              "      <td>0.0</td>\n",
              "      <td>2543.558673</td>\n",
              "    </tr>\n",
              "    <tr>\n",
              "      <th>1</th>\n",
              "      <td>1964-02-01</td>\n",
              "      <td>3238.974560</td>\n",
              "      <td>1620.026054</td>\n",
              "      <td>2904.832834</td>\n",
              "      <td>3238.974560</td>\n",
              "      <td>3238.974560</td>\n",
              "      <td>-0.306899</td>\n",
              "      <td>-0.306899</td>\n",
              "      <td>-0.306899</td>\n",
              "      <td>-0.306899</td>\n",
              "      <td>-0.306899</td>\n",
              "      <td>-0.306899</td>\n",
              "      <td>0.0</td>\n",
              "      <td>0.0</td>\n",
              "      <td>0.0</td>\n",
              "      <td>2244.936815</td>\n",
              "    </tr>\n",
              "    <tr>\n",
              "      <th>2</th>\n",
              "      <td>1964-03-01</td>\n",
              "      <td>3276.501094</td>\n",
              "      <td>2021.590084</td>\n",
              "      <td>3361.093140</td>\n",
              "      <td>3276.501094</td>\n",
              "      <td>3276.501094</td>\n",
              "      <td>-0.170859</td>\n",
              "      <td>-0.170859</td>\n",
              "      <td>-0.170859</td>\n",
              "      <td>-0.170859</td>\n",
              "      <td>-0.170859</td>\n",
              "      <td>-0.170859</td>\n",
              "      <td>0.0</td>\n",
              "      <td>0.0</td>\n",
              "      <td>0.0</td>\n",
              "      <td>2716.680439</td>\n",
              "    </tr>\n",
              "    <tr>\n",
              "      <th>3</th>\n",
              "      <td>1964-04-01</td>\n",
              "      <td>3316.615665</td>\n",
              "      <td>1934.514876</td>\n",
              "      <td>3243.230253</td>\n",
              "      <td>3316.615665</td>\n",
              "      <td>3316.615665</td>\n",
              "      <td>-0.218087</td>\n",
              "      <td>-0.218087</td>\n",
              "      <td>-0.218087</td>\n",
              "      <td>-0.218087</td>\n",
              "      <td>-0.218087</td>\n",
              "      <td>-0.218087</td>\n",
              "      <td>0.0</td>\n",
              "      <td>0.0</td>\n",
              "      <td>0.0</td>\n",
              "      <td>2593.306389</td>\n",
              "    </tr>\n",
              "    <tr>\n",
              "      <th>4</th>\n",
              "      <td>1964-05-01</td>\n",
              "      <td>3355.436218</td>\n",
              "      <td>2238.093746</td>\n",
              "      <td>3606.063958</td>\n",
              "      <td>3355.436218</td>\n",
              "      <td>3355.436218</td>\n",
              "      <td>-0.135556</td>\n",
              "      <td>-0.135556</td>\n",
              "      <td>-0.135556</td>\n",
              "      <td>-0.135556</td>\n",
              "      <td>-0.135556</td>\n",
              "      <td>-0.135556</td>\n",
              "      <td>0.0</td>\n",
              "      <td>0.0</td>\n",
              "      <td>0.0</td>\n",
              "      <td>2900.586650</td>\n",
              "    </tr>\n",
              "    <tr>\n",
              "      <th>...</th>\n",
              "      <td>...</td>\n",
              "      <td>...</td>\n",
              "      <td>...</td>\n",
              "      <td>...</td>\n",
              "      <td>...</td>\n",
              "      <td>...</td>\n",
              "      <td>...</td>\n",
              "      <td>...</td>\n",
              "      <td>...</td>\n",
              "      <td>...</td>\n",
              "      <td>...</td>\n",
              "      <td>...</td>\n",
              "      <td>...</td>\n",
              "      <td>...</td>\n",
              "      <td>...</td>\n",
              "      <td>...</td>\n",
              "    </tr>\n",
              "    <tr>\n",
              "      <th>100</th>\n",
              "      <td>1972-05-01</td>\n",
              "      <td>6192.174606</td>\n",
              "      <td>4663.280389</td>\n",
              "      <td>6012.095996</td>\n",
              "      <td>6186.490192</td>\n",
              "      <td>6198.363299</td>\n",
              "      <td>-0.135556</td>\n",
              "      <td>-0.135556</td>\n",
              "      <td>-0.135556</td>\n",
              "      <td>-0.135556</td>\n",
              "      <td>-0.135556</td>\n",
              "      <td>-0.135556</td>\n",
              "      <td>0.0</td>\n",
              "      <td>0.0</td>\n",
              "      <td>0.0</td>\n",
              "      <td>5352.788082</td>\n",
              "    </tr>\n",
              "    <tr>\n",
              "      <th>101</th>\n",
              "      <td>1972-06-01</td>\n",
              "      <td>6211.821421</td>\n",
              "      <td>4556.430848</td>\n",
              "      <td>5959.995798</td>\n",
              "      <td>6204.802487</td>\n",
              "      <td>6219.179539</td>\n",
              "      <td>-0.153511</td>\n",
              "      <td>-0.153511</td>\n",
              "      <td>-0.153511</td>\n",
              "      <td>-0.153511</td>\n",
              "      <td>-0.153511</td>\n",
              "      <td>-0.153511</td>\n",
              "      <td>0.0</td>\n",
              "      <td>0.0</td>\n",
              "      <td>0.0</td>\n",
              "      <td>5258.240624</td>\n",
              "    </tr>\n",
              "    <tr>\n",
              "      <th>102</th>\n",
              "      <td>1972-07-01</td>\n",
              "      <td>6230.834468</td>\n",
              "      <td>3483.293677</td>\n",
              "      <td>4857.406726</td>\n",
              "      <td>6222.346751</td>\n",
              "      <td>6239.956594</td>\n",
              "      <td>-0.330253</td>\n",
              "      <td>-0.330253</td>\n",
              "      <td>-0.330253</td>\n",
              "      <td>-0.330253</td>\n",
              "      <td>-0.330253</td>\n",
              "      <td>-0.330253</td>\n",
              "      <td>0.0</td>\n",
              "      <td>0.0</td>\n",
              "      <td>0.0</td>\n",
              "      <td>4173.084253</td>\n",
              "    </tr>\n",
              "    <tr>\n",
              "      <th>103</th>\n",
              "      <td>1972-08-01</td>\n",
              "      <td>6250.481283</td>\n",
              "      <td>1749.556345</td>\n",
              "      <td>3085.791831</td>\n",
              "      <td>6240.470970</td>\n",
              "      <td>6261.539798</td>\n",
              "      <td>-0.619379</td>\n",
              "      <td>-0.619379</td>\n",
              "      <td>-0.619379</td>\n",
              "      <td>-0.619379</td>\n",
              "      <td>-0.619379</td>\n",
              "      <td>-0.619379</td>\n",
              "      <td>0.0</td>\n",
              "      <td>0.0</td>\n",
              "      <td>0.0</td>\n",
              "      <td>2379.067479</td>\n",
              "    </tr>\n",
              "    <tr>\n",
              "      <th>104</th>\n",
              "      <td>1972-09-01</td>\n",
              "      <td>6270.128098</td>\n",
              "      <td>4803.431000</td>\n",
              "      <td>6126.916869</td>\n",
              "      <td>6258.344712</td>\n",
              "      <td>6283.166471</td>\n",
              "      <td>-0.135952</td>\n",
              "      <td>-0.135952</td>\n",
              "      <td>-0.135952</td>\n",
              "      <td>-0.135952</td>\n",
              "      <td>-0.135952</td>\n",
              "      <td>-0.135952</td>\n",
              "      <td>0.0</td>\n",
              "      <td>0.0</td>\n",
              "      <td>0.0</td>\n",
              "      <td>5417.689991</td>\n",
              "    </tr>\n",
              "  </tbody>\n",
              "</table>\n",
              "<p>105 rows × 16 columns</p>\n",
              "</div>\n",
              "      <button class=\"colab-df-convert\" onclick=\"convertToInteractive('df-f537a76b-ec99-46ff-8495-1ae762910898')\"\n",
              "              title=\"Convert this dataframe to an interactive table.\"\n",
              "              style=\"display:none;\">\n",
              "        \n",
              "  <svg xmlns=\"http://www.w3.org/2000/svg\" height=\"24px\"viewBox=\"0 0 24 24\"\n",
              "       width=\"24px\">\n",
              "    <path d=\"M0 0h24v24H0V0z\" fill=\"none\"/>\n",
              "    <path d=\"M18.56 5.44l.94 2.06.94-2.06 2.06-.94-2.06-.94-.94-2.06-.94 2.06-2.06.94zm-11 1L8.5 8.5l.94-2.06 2.06-.94-2.06-.94L8.5 2.5l-.94 2.06-2.06.94zm10 10l.94 2.06.94-2.06 2.06-.94-2.06-.94-.94-2.06-.94 2.06-2.06.94z\"/><path d=\"M17.41 7.96l-1.37-1.37c-.4-.4-.92-.59-1.43-.59-.52 0-1.04.2-1.43.59L10.3 9.45l-7.72 7.72c-.78.78-.78 2.05 0 2.83L4 21.41c.39.39.9.59 1.41.59.51 0 1.02-.2 1.41-.59l7.78-7.78 2.81-2.81c.8-.78.8-2.07 0-2.86zM5.41 20L4 18.59l7.72-7.72 1.47 1.35L5.41 20z\"/>\n",
              "  </svg>\n",
              "      </button>\n",
              "      \n",
              "  <style>\n",
              "    .colab-df-container {\n",
              "      display:flex;\n",
              "      flex-wrap:wrap;\n",
              "      gap: 12px;\n",
              "    }\n",
              "\n",
              "    .colab-df-convert {\n",
              "      background-color: #E8F0FE;\n",
              "      border: none;\n",
              "      border-radius: 50%;\n",
              "      cursor: pointer;\n",
              "      display: none;\n",
              "      fill: #1967D2;\n",
              "      height: 32px;\n",
              "      padding: 0 0 0 0;\n",
              "      width: 32px;\n",
              "    }\n",
              "\n",
              "    .colab-df-convert:hover {\n",
              "      background-color: #E2EBFA;\n",
              "      box-shadow: 0px 1px 2px rgba(60, 64, 67, 0.3), 0px 1px 3px 1px rgba(60, 64, 67, 0.15);\n",
              "      fill: #174EA6;\n",
              "    }\n",
              "\n",
              "    [theme=dark] .colab-df-convert {\n",
              "      background-color: #3B4455;\n",
              "      fill: #D2E3FC;\n",
              "    }\n",
              "\n",
              "    [theme=dark] .colab-df-convert:hover {\n",
              "      background-color: #434B5C;\n",
              "      box-shadow: 0px 1px 3px 1px rgba(0, 0, 0, 0.15);\n",
              "      filter: drop-shadow(0px 1px 2px rgba(0, 0, 0, 0.3));\n",
              "      fill: #FFFFFF;\n",
              "    }\n",
              "  </style>\n",
              "\n",
              "      <script>\n",
              "        const buttonEl =\n",
              "          document.querySelector('#df-f537a76b-ec99-46ff-8495-1ae762910898 button.colab-df-convert');\n",
              "        buttonEl.style.display =\n",
              "          google.colab.kernel.accessAllowed ? 'block' : 'none';\n",
              "\n",
              "        async function convertToInteractive(key) {\n",
              "          const element = document.querySelector('#df-f537a76b-ec99-46ff-8495-1ae762910898');\n",
              "          const dataTable =\n",
              "            await google.colab.kernel.invokeFunction('convertToInteractive',\n",
              "                                                     [key], {});\n",
              "          if (!dataTable) return;\n",
              "\n",
              "          const docLinkHtml = 'Like what you see? Visit the ' +\n",
              "            '<a target=\"_blank\" href=https://colab.research.google.com/notebooks/data_table.ipynb>data table notebook</a>'\n",
              "            + ' to learn more about interactive tables.';\n",
              "          element.innerHTML = '';\n",
              "          dataTable['output_type'] = 'display_data';\n",
              "          await google.colab.output.renderOutput(dataTable, element);\n",
              "          const docLink = document.createElement('div');\n",
              "          docLink.innerHTML = docLinkHtml;\n",
              "          element.appendChild(docLink);\n",
              "        }\n",
              "      </script>\n",
              "    </div>\n",
              "  </div>\n",
              "  "
            ]
          },
          "metadata": {},
          "execution_count": 108
        }
      ]
    },
    {
      "cell_type": "code",
      "source": [
        "print(pred_start_date)\n",
        "print(pred_end_date)"
      ],
      "metadata": {
        "colab": {
          "base_uri": "https://localhost:8080/"
        },
        "id": "ohxO3myTm5Hz",
        "outputId": "35c21e22-2b41-42f2-c73c-53019da19c3a"
      },
      "execution_count": null,
      "outputs": [
        {
          "output_type": "stream",
          "name": "stdout",
          "text": [
            "1971-11-01 00:00:00\n",
            "1972-09-01 00:00:00\n"
          ]
        }
      ]
    },
    {
      "cell_type": "code",
      "source": [
        "filtered_df = fcst.loc[(fcst['ds'] >= pred_start_date)\n",
        "                     & (fcst['ds'] < '1972-10-01')]"
      ],
      "metadata": {
        "id": "F7j-9x7woQU7"
      },
      "execution_count": null,
      "outputs": []
    },
    {
      "cell_type": "code",
      "source": [
        "filtered_df"
      ],
      "metadata": {
        "colab": {
          "base_uri": "https://localhost:8080/",
          "height": 649
        },
        "id": "gH_3edONpWNG",
        "outputId": "04efdfc4-fa32-46ec-e298-8b82c12a98c2"
      },
      "execution_count": null,
      "outputs": [
        {
          "output_type": "execute_result",
          "data": {
            "text/plain": [
              "            ds        trend    yhat_lower    yhat_upper  trend_lower  \\\n",
              "94  1971-11-01  6076.828789   9623.473086  10927.481262  6076.786484   \n",
              "95  1971-12-01  6095.841836  12646.370214  13942.415660  6095.378509   \n",
              "96  1972-01-01  6115.488651   4196.231221   5483.693606  6114.257060   \n",
              "97  1972-02-01  6135.135466   3584.406199   4914.573618  6132.769350   \n",
              "98  1972-03-01  6153.514744   4453.841507   5766.916509  6150.185378   \n",
              "99  1972-04-01  6173.161559   4146.152415   5501.600833  6168.789429   \n",
              "100 1972-05-01  6192.174606   4663.280389   6012.095996  6186.490192   \n",
              "101 1972-06-01  6211.821421   4556.430848   5959.995798  6204.802487   \n",
              "102 1972-07-01  6230.834468   3483.293677   4857.406726  6222.346751   \n",
              "103 1972-08-01  6250.481283   1749.556345   3085.791831  6240.470970   \n",
              "104 1972-09-01  6270.128098   4803.431000   6126.916869  6258.344712   \n",
              "\n",
              "     trend_upper  multiplicative_terms  multiplicative_terms_lower  \\\n",
              "94   6076.908348              0.687406                    0.687406   \n",
              "95   6096.471200              1.179344                    1.179344   \n",
              "96   6116.862907             -0.204855                   -0.204855   \n",
              "97   6137.620626             -0.306899                   -0.306899   \n",
              "98   6157.050023             -0.170859                   -0.170859   \n",
              "99   6177.881843             -0.218087                   -0.218087   \n",
              "100  6198.363299             -0.135556                   -0.135556   \n",
              "101  6219.179539             -0.153511                   -0.153511   \n",
              "102  6239.956594             -0.330253                   -0.330253   \n",
              "103  6261.539798             -0.619379                   -0.619379   \n",
              "104  6283.166471             -0.135952                   -0.135952   \n",
              "\n",
              "     multiplicative_terms_upper    yearly  yearly_lower  yearly_upper  \\\n",
              "94                     0.687406  0.687406      0.687406      0.687406   \n",
              "95                     1.179344  1.179344      1.179344      1.179344   \n",
              "96                    -0.204855 -0.204855     -0.204855     -0.204855   \n",
              "97                    -0.306899 -0.306899     -0.306899     -0.306899   \n",
              "98                    -0.170859 -0.170859     -0.170859     -0.170859   \n",
              "99                    -0.218087 -0.218087     -0.218087     -0.218087   \n",
              "100                   -0.135556 -0.135556     -0.135556     -0.135556   \n",
              "101                   -0.153511 -0.153511     -0.153511     -0.153511   \n",
              "102                   -0.330253 -0.330253     -0.330253     -0.330253   \n",
              "103                   -0.619379 -0.619379     -0.619379     -0.619379   \n",
              "104                   -0.135952 -0.135952     -0.135952     -0.135952   \n",
              "\n",
              "     additive_terms  additive_terms_lower  additive_terms_upper          yhat  \n",
              "94              0.0                   0.0                   0.0  10254.078467  \n",
              "95              0.0                   0.0                   0.0  13284.933824  \n",
              "96              0.0                   0.0                   0.0   4862.702415  \n",
              "97              0.0                   0.0                   0.0   4252.269110  \n",
              "98              0.0                   0.0                   0.0   5102.129576  \n",
              "99              0.0                   0.0                   0.0   4826.878036  \n",
              "100             0.0                   0.0                   0.0   5352.788082  \n",
              "101             0.0                   0.0                   0.0   5258.240624  \n",
              "102             0.0                   0.0                   0.0   4173.084253  \n",
              "103             0.0                   0.0                   0.0   2379.067479  \n",
              "104             0.0                   0.0                   0.0   5417.689991  "
            ],
            "text/html": [
              "\n",
              "  <div id=\"df-20319cca-3075-4254-b536-b9c08fa31956\">\n",
              "    <div class=\"colab-df-container\">\n",
              "      <div>\n",
              "<style scoped>\n",
              "    .dataframe tbody tr th:only-of-type {\n",
              "        vertical-align: middle;\n",
              "    }\n",
              "\n",
              "    .dataframe tbody tr th {\n",
              "        vertical-align: top;\n",
              "    }\n",
              "\n",
              "    .dataframe thead th {\n",
              "        text-align: right;\n",
              "    }\n",
              "</style>\n",
              "<table border=\"1\" class=\"dataframe\">\n",
              "  <thead>\n",
              "    <tr style=\"text-align: right;\">\n",
              "      <th></th>\n",
              "      <th>ds</th>\n",
              "      <th>trend</th>\n",
              "      <th>yhat_lower</th>\n",
              "      <th>yhat_upper</th>\n",
              "      <th>trend_lower</th>\n",
              "      <th>trend_upper</th>\n",
              "      <th>multiplicative_terms</th>\n",
              "      <th>multiplicative_terms_lower</th>\n",
              "      <th>multiplicative_terms_upper</th>\n",
              "      <th>yearly</th>\n",
              "      <th>yearly_lower</th>\n",
              "      <th>yearly_upper</th>\n",
              "      <th>additive_terms</th>\n",
              "      <th>additive_terms_lower</th>\n",
              "      <th>additive_terms_upper</th>\n",
              "      <th>yhat</th>\n",
              "    </tr>\n",
              "  </thead>\n",
              "  <tbody>\n",
              "    <tr>\n",
              "      <th>94</th>\n",
              "      <td>1971-11-01</td>\n",
              "      <td>6076.828789</td>\n",
              "      <td>9623.473086</td>\n",
              "      <td>10927.481262</td>\n",
              "      <td>6076.786484</td>\n",
              "      <td>6076.908348</td>\n",
              "      <td>0.687406</td>\n",
              "      <td>0.687406</td>\n",
              "      <td>0.687406</td>\n",
              "      <td>0.687406</td>\n",
              "      <td>0.687406</td>\n",
              "      <td>0.687406</td>\n",
              "      <td>0.0</td>\n",
              "      <td>0.0</td>\n",
              "      <td>0.0</td>\n",
              "      <td>10254.078467</td>\n",
              "    </tr>\n",
              "    <tr>\n",
              "      <th>95</th>\n",
              "      <td>1971-12-01</td>\n",
              "      <td>6095.841836</td>\n",
              "      <td>12646.370214</td>\n",
              "      <td>13942.415660</td>\n",
              "      <td>6095.378509</td>\n",
              "      <td>6096.471200</td>\n",
              "      <td>1.179344</td>\n",
              "      <td>1.179344</td>\n",
              "      <td>1.179344</td>\n",
              "      <td>1.179344</td>\n",
              "      <td>1.179344</td>\n",
              "      <td>1.179344</td>\n",
              "      <td>0.0</td>\n",
              "      <td>0.0</td>\n",
              "      <td>0.0</td>\n",
              "      <td>13284.933824</td>\n",
              "    </tr>\n",
              "    <tr>\n",
              "      <th>96</th>\n",
              "      <td>1972-01-01</td>\n",
              "      <td>6115.488651</td>\n",
              "      <td>4196.231221</td>\n",
              "      <td>5483.693606</td>\n",
              "      <td>6114.257060</td>\n",
              "      <td>6116.862907</td>\n",
              "      <td>-0.204855</td>\n",
              "      <td>-0.204855</td>\n",
              "      <td>-0.204855</td>\n",
              "      <td>-0.204855</td>\n",
              "      <td>-0.204855</td>\n",
              "      <td>-0.204855</td>\n",
              "      <td>0.0</td>\n",
              "      <td>0.0</td>\n",
              "      <td>0.0</td>\n",
              "      <td>4862.702415</td>\n",
              "    </tr>\n",
              "    <tr>\n",
              "      <th>97</th>\n",
              "      <td>1972-02-01</td>\n",
              "      <td>6135.135466</td>\n",
              "      <td>3584.406199</td>\n",
              "      <td>4914.573618</td>\n",
              "      <td>6132.769350</td>\n",
              "      <td>6137.620626</td>\n",
              "      <td>-0.306899</td>\n",
              "      <td>-0.306899</td>\n",
              "      <td>-0.306899</td>\n",
              "      <td>-0.306899</td>\n",
              "      <td>-0.306899</td>\n",
              "      <td>-0.306899</td>\n",
              "      <td>0.0</td>\n",
              "      <td>0.0</td>\n",
              "      <td>0.0</td>\n",
              "      <td>4252.269110</td>\n",
              "    </tr>\n",
              "    <tr>\n",
              "      <th>98</th>\n",
              "      <td>1972-03-01</td>\n",
              "      <td>6153.514744</td>\n",
              "      <td>4453.841507</td>\n",
              "      <td>5766.916509</td>\n",
              "      <td>6150.185378</td>\n",
              "      <td>6157.050023</td>\n",
              "      <td>-0.170859</td>\n",
              "      <td>-0.170859</td>\n",
              "      <td>-0.170859</td>\n",
              "      <td>-0.170859</td>\n",
              "      <td>-0.170859</td>\n",
              "      <td>-0.170859</td>\n",
              "      <td>0.0</td>\n",
              "      <td>0.0</td>\n",
              "      <td>0.0</td>\n",
              "      <td>5102.129576</td>\n",
              "    </tr>\n",
              "    <tr>\n",
              "      <th>99</th>\n",
              "      <td>1972-04-01</td>\n",
              "      <td>6173.161559</td>\n",
              "      <td>4146.152415</td>\n",
              "      <td>5501.600833</td>\n",
              "      <td>6168.789429</td>\n",
              "      <td>6177.881843</td>\n",
              "      <td>-0.218087</td>\n",
              "      <td>-0.218087</td>\n",
              "      <td>-0.218087</td>\n",
              "      <td>-0.218087</td>\n",
              "      <td>-0.218087</td>\n",
              "      <td>-0.218087</td>\n",
              "      <td>0.0</td>\n",
              "      <td>0.0</td>\n",
              "      <td>0.0</td>\n",
              "      <td>4826.878036</td>\n",
              "    </tr>\n",
              "    <tr>\n",
              "      <th>100</th>\n",
              "      <td>1972-05-01</td>\n",
              "      <td>6192.174606</td>\n",
              "      <td>4663.280389</td>\n",
              "      <td>6012.095996</td>\n",
              "      <td>6186.490192</td>\n",
              "      <td>6198.363299</td>\n",
              "      <td>-0.135556</td>\n",
              "      <td>-0.135556</td>\n",
              "      <td>-0.135556</td>\n",
              "      <td>-0.135556</td>\n",
              "      <td>-0.135556</td>\n",
              "      <td>-0.135556</td>\n",
              "      <td>0.0</td>\n",
              "      <td>0.0</td>\n",
              "      <td>0.0</td>\n",
              "      <td>5352.788082</td>\n",
              "    </tr>\n",
              "    <tr>\n",
              "      <th>101</th>\n",
              "      <td>1972-06-01</td>\n",
              "      <td>6211.821421</td>\n",
              "      <td>4556.430848</td>\n",
              "      <td>5959.995798</td>\n",
              "      <td>6204.802487</td>\n",
              "      <td>6219.179539</td>\n",
              "      <td>-0.153511</td>\n",
              "      <td>-0.153511</td>\n",
              "      <td>-0.153511</td>\n",
              "      <td>-0.153511</td>\n",
              "      <td>-0.153511</td>\n",
              "      <td>-0.153511</td>\n",
              "      <td>0.0</td>\n",
              "      <td>0.0</td>\n",
              "      <td>0.0</td>\n",
              "      <td>5258.240624</td>\n",
              "    </tr>\n",
              "    <tr>\n",
              "      <th>102</th>\n",
              "      <td>1972-07-01</td>\n",
              "      <td>6230.834468</td>\n",
              "      <td>3483.293677</td>\n",
              "      <td>4857.406726</td>\n",
              "      <td>6222.346751</td>\n",
              "      <td>6239.956594</td>\n",
              "      <td>-0.330253</td>\n",
              "      <td>-0.330253</td>\n",
              "      <td>-0.330253</td>\n",
              "      <td>-0.330253</td>\n",
              "      <td>-0.330253</td>\n",
              "      <td>-0.330253</td>\n",
              "      <td>0.0</td>\n",
              "      <td>0.0</td>\n",
              "      <td>0.0</td>\n",
              "      <td>4173.084253</td>\n",
              "    </tr>\n",
              "    <tr>\n",
              "      <th>103</th>\n",
              "      <td>1972-08-01</td>\n",
              "      <td>6250.481283</td>\n",
              "      <td>1749.556345</td>\n",
              "      <td>3085.791831</td>\n",
              "      <td>6240.470970</td>\n",
              "      <td>6261.539798</td>\n",
              "      <td>-0.619379</td>\n",
              "      <td>-0.619379</td>\n",
              "      <td>-0.619379</td>\n",
              "      <td>-0.619379</td>\n",
              "      <td>-0.619379</td>\n",
              "      <td>-0.619379</td>\n",
              "      <td>0.0</td>\n",
              "      <td>0.0</td>\n",
              "      <td>0.0</td>\n",
              "      <td>2379.067479</td>\n",
              "    </tr>\n",
              "    <tr>\n",
              "      <th>104</th>\n",
              "      <td>1972-09-01</td>\n",
              "      <td>6270.128098</td>\n",
              "      <td>4803.431000</td>\n",
              "      <td>6126.916869</td>\n",
              "      <td>6258.344712</td>\n",
              "      <td>6283.166471</td>\n",
              "      <td>-0.135952</td>\n",
              "      <td>-0.135952</td>\n",
              "      <td>-0.135952</td>\n",
              "      <td>-0.135952</td>\n",
              "      <td>-0.135952</td>\n",
              "      <td>-0.135952</td>\n",
              "      <td>0.0</td>\n",
              "      <td>0.0</td>\n",
              "      <td>0.0</td>\n",
              "      <td>5417.689991</td>\n",
              "    </tr>\n",
              "  </tbody>\n",
              "</table>\n",
              "</div>\n",
              "      <button class=\"colab-df-convert\" onclick=\"convertToInteractive('df-20319cca-3075-4254-b536-b9c08fa31956')\"\n",
              "              title=\"Convert this dataframe to an interactive table.\"\n",
              "              style=\"display:none;\">\n",
              "        \n",
              "  <svg xmlns=\"http://www.w3.org/2000/svg\" height=\"24px\"viewBox=\"0 0 24 24\"\n",
              "       width=\"24px\">\n",
              "    <path d=\"M0 0h24v24H0V0z\" fill=\"none\"/>\n",
              "    <path d=\"M18.56 5.44l.94 2.06.94-2.06 2.06-.94-2.06-.94-.94-2.06-.94 2.06-2.06.94zm-11 1L8.5 8.5l.94-2.06 2.06-.94-2.06-.94L8.5 2.5l-.94 2.06-2.06.94zm10 10l.94 2.06.94-2.06 2.06-.94-2.06-.94-.94-2.06-.94 2.06-2.06.94z\"/><path d=\"M17.41 7.96l-1.37-1.37c-.4-.4-.92-.59-1.43-.59-.52 0-1.04.2-1.43.59L10.3 9.45l-7.72 7.72c-.78.78-.78 2.05 0 2.83L4 21.41c.39.39.9.59 1.41.59.51 0 1.02-.2 1.41-.59l7.78-7.78 2.81-2.81c.8-.78.8-2.07 0-2.86zM5.41 20L4 18.59l7.72-7.72 1.47 1.35L5.41 20z\"/>\n",
              "  </svg>\n",
              "      </button>\n",
              "      \n",
              "  <style>\n",
              "    .colab-df-container {\n",
              "      display:flex;\n",
              "      flex-wrap:wrap;\n",
              "      gap: 12px;\n",
              "    }\n",
              "\n",
              "    .colab-df-convert {\n",
              "      background-color: #E8F0FE;\n",
              "      border: none;\n",
              "      border-radius: 50%;\n",
              "      cursor: pointer;\n",
              "      display: none;\n",
              "      fill: #1967D2;\n",
              "      height: 32px;\n",
              "      padding: 0 0 0 0;\n",
              "      width: 32px;\n",
              "    }\n",
              "\n",
              "    .colab-df-convert:hover {\n",
              "      background-color: #E2EBFA;\n",
              "      box-shadow: 0px 1px 2px rgba(60, 64, 67, 0.3), 0px 1px 3px 1px rgba(60, 64, 67, 0.15);\n",
              "      fill: #174EA6;\n",
              "    }\n",
              "\n",
              "    [theme=dark] .colab-df-convert {\n",
              "      background-color: #3B4455;\n",
              "      fill: #D2E3FC;\n",
              "    }\n",
              "\n",
              "    [theme=dark] .colab-df-convert:hover {\n",
              "      background-color: #434B5C;\n",
              "      box-shadow: 0px 1px 3px 1px rgba(0, 0, 0, 0.15);\n",
              "      filter: drop-shadow(0px 1px 2px rgba(0, 0, 0, 0.3));\n",
              "      fill: #FFFFFF;\n",
              "    }\n",
              "  </style>\n",
              "\n",
              "      <script>\n",
              "        const buttonEl =\n",
              "          document.querySelector('#df-20319cca-3075-4254-b536-b9c08fa31956 button.colab-df-convert');\n",
              "        buttonEl.style.display =\n",
              "          google.colab.kernel.accessAllowed ? 'block' : 'none';\n",
              "\n",
              "        async function convertToInteractive(key) {\n",
              "          const element = document.querySelector('#df-20319cca-3075-4254-b536-b9c08fa31956');\n",
              "          const dataTable =\n",
              "            await google.colab.kernel.invokeFunction('convertToInteractive',\n",
              "                                                     [key], {});\n",
              "          if (!dataTable) return;\n",
              "\n",
              "          const docLinkHtml = 'Like what you see? Visit the ' +\n",
              "            '<a target=\"_blank\" href=https://colab.research.google.com/notebooks/data_table.ipynb>data table notebook</a>'\n",
              "            + ' to learn more about interactive tables.';\n",
              "          element.innerHTML = '';\n",
              "          dataTable['output_type'] = 'display_data';\n",
              "          await google.colab.output.renderOutput(dataTable, element);\n",
              "          const docLink = document.createElement('div');\n",
              "          docLink.innerHTML = docLinkHtml;\n",
              "          element.appendChild(docLink);\n",
              "        }\n",
              "      </script>\n",
              "    </div>\n",
              "  </div>\n",
              "  "
            ]
          },
          "metadata": {},
          "execution_count": 121
        }
      ]
    },
    {
      "cell_type": "code",
      "source": [
        "test_data['pred_prophet']=filtered_df['yhat'].values"
      ],
      "metadata": {
        "colab": {
          "base_uri": "https://localhost:8080/"
        },
        "id": "qmb1kpFYm5NX",
        "outputId": "eb0154ea-5b10-4fad-bff9-df5d4b78d4d9"
      },
      "execution_count": null,
      "outputs": [
        {
          "output_type": "stream",
          "name": "stderr",
          "text": [
            "/usr/local/lib/python3.7/dist-packages/ipykernel_launcher.py:1: SettingWithCopyWarning: \n",
            "A value is trying to be set on a copy of a slice from a DataFrame.\n",
            "Try using .loc[row_indexer,col_indexer] = value instead\n",
            "\n",
            "See the caveats in the documentation: https://pandas.pydata.org/pandas-docs/stable/user_guide/indexing.html#returning-a-view-versus-a-copy\n",
            "  \"\"\"Entry point for launching an IPython kernel.\n"
          ]
        }
      ]
    },
    {
      "cell_type": "code",
      "source": [
        "test_data"
      ],
      "metadata": {
        "colab": {
          "base_uri": "https://localhost:8080/",
          "height": 681
        },
        "id": "fxkYlTjPm5QJ",
        "outputId": "761747f2-2d14-4132-8636-8c812700ea6a"
      },
      "execution_count": null,
      "outputs": [
        {
          "output_type": "execute_result",
          "data": {
            "text/plain": [
              "              Sales    roll_mean  roll_mean_first_diff  Sales_first_diff  \\\n",
              "Date                                                                       \n",
              "1971-11-01   9851.0  5375.500000            -39.666667            2870.0   \n",
              "1971-12-01  12670.0  5323.583333            -51.916667            2819.0   \n",
              "1972-01-01   4348.0  5394.791667             71.208333           -8322.0   \n",
              "1972-02-01   3564.0  5422.500000             27.708333            -784.0   \n",
              "1972-03-01   4577.0  5472.791667             50.291667            1013.0   \n",
              "1972-04-01   4788.0  5516.458333             43.666667             211.0   \n",
              "1972-05-01   4618.0  5586.916667             70.458333            -170.0   \n",
              "1972-06-01   5312.0  5642.166667             55.250000             694.0   \n",
              "1972-07-01   4298.0  5645.541667              3.375000           -1014.0   \n",
              "1972-08-01   1413.0  5632.000000            -13.541667           -2885.0   \n",
              "1972-09-01   5877.0  5659.333333             27.333333            4464.0   \n",
              "\n",
              "            Logging_sales  Logging_sales_first_diff   Pred_SARIMA  \\\n",
              "Date                                                                \n",
              "1971-11-01       9.195328                  0.344381  10146.784704   \n",
              "1971-12-01       9.446992                  0.251664  13571.906546   \n",
              "1972-01-01       8.377471                 -1.069521   4265.007017   \n",
              "1972-02-01       8.178639                 -0.198832   3276.338766   \n",
              "1972-03-01       8.428799                  0.250160   4594.043089   \n",
              "1972-04-01       8.473868                  0.045069   5130.463498   \n",
              "1972-05-01       8.437717                 -0.036151   5261.347533   \n",
              "1972-06-01       8.577724                  0.140007   5042.716501   \n",
              "1972-07-01       8.365905                 -0.211819   4998.680343   \n",
              "1972-08-01       7.253470                 -1.112435   2052.707882   \n",
              "1972-09-01       8.678802                  1.425331   6165.482261   \n",
              "\n",
              "            pred_expo_sim  pred_expo_mul_add  pred_expo_mul  pred_prophet  \n",
              "Date                                                                       \n",
              "1971-11-01    5197.188922       10797.102399   11058.437751  10254.078467  \n",
              "1971-12-01    5197.188922       13827.780499   14169.541436  13284.933824  \n",
              "1972-01-01    5197.188922        4457.995281    4122.373810   4862.702415  \n",
              "1972-02-01    5197.188922        4017.047952    3723.018619   4252.269110  \n",
              "1972-03-01    5197.188922        4939.171522    4622.888013   5102.129576  \n",
              "1972-04-01    5197.188922        5278.389536    4932.905667   4826.878036  \n",
              "1972-05-01    5197.188922        5390.078200    5045.254341   5352.788082  \n",
              "1972-06-01    5197.188922        5524.157365    5238.070098   5258.240624  \n",
              "1972-07-01    5197.188922        5309.183789    4876.992835   4173.084253  \n",
              "1972-08-01    5197.188922        2591.261976    1976.514704   2379.067479  \n",
              "1972-09-01    5197.188922        6608.208733    6317.855720   5417.689991  "
            ],
            "text/html": [
              "\n",
              "  <div id=\"df-969a78cf-f851-416a-8839-4228f6d60ddb\">\n",
              "    <div class=\"colab-df-container\">\n",
              "      <div>\n",
              "<style scoped>\n",
              "    .dataframe tbody tr th:only-of-type {\n",
              "        vertical-align: middle;\n",
              "    }\n",
              "\n",
              "    .dataframe tbody tr th {\n",
              "        vertical-align: top;\n",
              "    }\n",
              "\n",
              "    .dataframe thead th {\n",
              "        text-align: right;\n",
              "    }\n",
              "</style>\n",
              "<table border=\"1\" class=\"dataframe\">\n",
              "  <thead>\n",
              "    <tr style=\"text-align: right;\">\n",
              "      <th></th>\n",
              "      <th>Sales</th>\n",
              "      <th>roll_mean</th>\n",
              "      <th>roll_mean_first_diff</th>\n",
              "      <th>Sales_first_diff</th>\n",
              "      <th>Logging_sales</th>\n",
              "      <th>Logging_sales_first_diff</th>\n",
              "      <th>Pred_SARIMA</th>\n",
              "      <th>pred_expo_sim</th>\n",
              "      <th>pred_expo_mul_add</th>\n",
              "      <th>pred_expo_mul</th>\n",
              "      <th>pred_prophet</th>\n",
              "    </tr>\n",
              "    <tr>\n",
              "      <th>Date</th>\n",
              "      <th></th>\n",
              "      <th></th>\n",
              "      <th></th>\n",
              "      <th></th>\n",
              "      <th></th>\n",
              "      <th></th>\n",
              "      <th></th>\n",
              "      <th></th>\n",
              "      <th></th>\n",
              "      <th></th>\n",
              "      <th></th>\n",
              "    </tr>\n",
              "  </thead>\n",
              "  <tbody>\n",
              "    <tr>\n",
              "      <th>1971-11-01</th>\n",
              "      <td>9851.0</td>\n",
              "      <td>5375.500000</td>\n",
              "      <td>-39.666667</td>\n",
              "      <td>2870.0</td>\n",
              "      <td>9.195328</td>\n",
              "      <td>0.344381</td>\n",
              "      <td>10146.784704</td>\n",
              "      <td>5197.188922</td>\n",
              "      <td>10797.102399</td>\n",
              "      <td>11058.437751</td>\n",
              "      <td>10254.078467</td>\n",
              "    </tr>\n",
              "    <tr>\n",
              "      <th>1971-12-01</th>\n",
              "      <td>12670.0</td>\n",
              "      <td>5323.583333</td>\n",
              "      <td>-51.916667</td>\n",
              "      <td>2819.0</td>\n",
              "      <td>9.446992</td>\n",
              "      <td>0.251664</td>\n",
              "      <td>13571.906546</td>\n",
              "      <td>5197.188922</td>\n",
              "      <td>13827.780499</td>\n",
              "      <td>14169.541436</td>\n",
              "      <td>13284.933824</td>\n",
              "    </tr>\n",
              "    <tr>\n",
              "      <th>1972-01-01</th>\n",
              "      <td>4348.0</td>\n",
              "      <td>5394.791667</td>\n",
              "      <td>71.208333</td>\n",
              "      <td>-8322.0</td>\n",
              "      <td>8.377471</td>\n",
              "      <td>-1.069521</td>\n",
              "      <td>4265.007017</td>\n",
              "      <td>5197.188922</td>\n",
              "      <td>4457.995281</td>\n",
              "      <td>4122.373810</td>\n",
              "      <td>4862.702415</td>\n",
              "    </tr>\n",
              "    <tr>\n",
              "      <th>1972-02-01</th>\n",
              "      <td>3564.0</td>\n",
              "      <td>5422.500000</td>\n",
              "      <td>27.708333</td>\n",
              "      <td>-784.0</td>\n",
              "      <td>8.178639</td>\n",
              "      <td>-0.198832</td>\n",
              "      <td>3276.338766</td>\n",
              "      <td>5197.188922</td>\n",
              "      <td>4017.047952</td>\n",
              "      <td>3723.018619</td>\n",
              "      <td>4252.269110</td>\n",
              "    </tr>\n",
              "    <tr>\n",
              "      <th>1972-03-01</th>\n",
              "      <td>4577.0</td>\n",
              "      <td>5472.791667</td>\n",
              "      <td>50.291667</td>\n",
              "      <td>1013.0</td>\n",
              "      <td>8.428799</td>\n",
              "      <td>0.250160</td>\n",
              "      <td>4594.043089</td>\n",
              "      <td>5197.188922</td>\n",
              "      <td>4939.171522</td>\n",
              "      <td>4622.888013</td>\n",
              "      <td>5102.129576</td>\n",
              "    </tr>\n",
              "    <tr>\n",
              "      <th>1972-04-01</th>\n",
              "      <td>4788.0</td>\n",
              "      <td>5516.458333</td>\n",
              "      <td>43.666667</td>\n",
              "      <td>211.0</td>\n",
              "      <td>8.473868</td>\n",
              "      <td>0.045069</td>\n",
              "      <td>5130.463498</td>\n",
              "      <td>5197.188922</td>\n",
              "      <td>5278.389536</td>\n",
              "      <td>4932.905667</td>\n",
              "      <td>4826.878036</td>\n",
              "    </tr>\n",
              "    <tr>\n",
              "      <th>1972-05-01</th>\n",
              "      <td>4618.0</td>\n",
              "      <td>5586.916667</td>\n",
              "      <td>70.458333</td>\n",
              "      <td>-170.0</td>\n",
              "      <td>8.437717</td>\n",
              "      <td>-0.036151</td>\n",
              "      <td>5261.347533</td>\n",
              "      <td>5197.188922</td>\n",
              "      <td>5390.078200</td>\n",
              "      <td>5045.254341</td>\n",
              "      <td>5352.788082</td>\n",
              "    </tr>\n",
              "    <tr>\n",
              "      <th>1972-06-01</th>\n",
              "      <td>5312.0</td>\n",
              "      <td>5642.166667</td>\n",
              "      <td>55.250000</td>\n",
              "      <td>694.0</td>\n",
              "      <td>8.577724</td>\n",
              "      <td>0.140007</td>\n",
              "      <td>5042.716501</td>\n",
              "      <td>5197.188922</td>\n",
              "      <td>5524.157365</td>\n",
              "      <td>5238.070098</td>\n",
              "      <td>5258.240624</td>\n",
              "    </tr>\n",
              "    <tr>\n",
              "      <th>1972-07-01</th>\n",
              "      <td>4298.0</td>\n",
              "      <td>5645.541667</td>\n",
              "      <td>3.375000</td>\n",
              "      <td>-1014.0</td>\n",
              "      <td>8.365905</td>\n",
              "      <td>-0.211819</td>\n",
              "      <td>4998.680343</td>\n",
              "      <td>5197.188922</td>\n",
              "      <td>5309.183789</td>\n",
              "      <td>4876.992835</td>\n",
              "      <td>4173.084253</td>\n",
              "    </tr>\n",
              "    <tr>\n",
              "      <th>1972-08-01</th>\n",
              "      <td>1413.0</td>\n",
              "      <td>5632.000000</td>\n",
              "      <td>-13.541667</td>\n",
              "      <td>-2885.0</td>\n",
              "      <td>7.253470</td>\n",
              "      <td>-1.112435</td>\n",
              "      <td>2052.707882</td>\n",
              "      <td>5197.188922</td>\n",
              "      <td>2591.261976</td>\n",
              "      <td>1976.514704</td>\n",
              "      <td>2379.067479</td>\n",
              "    </tr>\n",
              "    <tr>\n",
              "      <th>1972-09-01</th>\n",
              "      <td>5877.0</td>\n",
              "      <td>5659.333333</td>\n",
              "      <td>27.333333</td>\n",
              "      <td>4464.0</td>\n",
              "      <td>8.678802</td>\n",
              "      <td>1.425331</td>\n",
              "      <td>6165.482261</td>\n",
              "      <td>5197.188922</td>\n",
              "      <td>6608.208733</td>\n",
              "      <td>6317.855720</td>\n",
              "      <td>5417.689991</td>\n",
              "    </tr>\n",
              "  </tbody>\n",
              "</table>\n",
              "</div>\n",
              "      <button class=\"colab-df-convert\" onclick=\"convertToInteractive('df-969a78cf-f851-416a-8839-4228f6d60ddb')\"\n",
              "              title=\"Convert this dataframe to an interactive table.\"\n",
              "              style=\"display:none;\">\n",
              "        \n",
              "  <svg xmlns=\"http://www.w3.org/2000/svg\" height=\"24px\"viewBox=\"0 0 24 24\"\n",
              "       width=\"24px\">\n",
              "    <path d=\"M0 0h24v24H0V0z\" fill=\"none\"/>\n",
              "    <path d=\"M18.56 5.44l.94 2.06.94-2.06 2.06-.94-2.06-.94-.94-2.06-.94 2.06-2.06.94zm-11 1L8.5 8.5l.94-2.06 2.06-.94-2.06-.94L8.5 2.5l-.94 2.06-2.06.94zm10 10l.94 2.06.94-2.06 2.06-.94-2.06-.94-.94-2.06-.94 2.06-2.06.94z\"/><path d=\"M17.41 7.96l-1.37-1.37c-.4-.4-.92-.59-1.43-.59-.52 0-1.04.2-1.43.59L10.3 9.45l-7.72 7.72c-.78.78-.78 2.05 0 2.83L4 21.41c.39.39.9.59 1.41.59.51 0 1.02-.2 1.41-.59l7.78-7.78 2.81-2.81c.8-.78.8-2.07 0-2.86zM5.41 20L4 18.59l7.72-7.72 1.47 1.35L5.41 20z\"/>\n",
              "  </svg>\n",
              "      </button>\n",
              "      \n",
              "  <style>\n",
              "    .colab-df-container {\n",
              "      display:flex;\n",
              "      flex-wrap:wrap;\n",
              "      gap: 12px;\n",
              "    }\n",
              "\n",
              "    .colab-df-convert {\n",
              "      background-color: #E8F0FE;\n",
              "      border: none;\n",
              "      border-radius: 50%;\n",
              "      cursor: pointer;\n",
              "      display: none;\n",
              "      fill: #1967D2;\n",
              "      height: 32px;\n",
              "      padding: 0 0 0 0;\n",
              "      width: 32px;\n",
              "    }\n",
              "\n",
              "    .colab-df-convert:hover {\n",
              "      background-color: #E2EBFA;\n",
              "      box-shadow: 0px 1px 2px rgba(60, 64, 67, 0.3), 0px 1px 3px 1px rgba(60, 64, 67, 0.15);\n",
              "      fill: #174EA6;\n",
              "    }\n",
              "\n",
              "    [theme=dark] .colab-df-convert {\n",
              "      background-color: #3B4455;\n",
              "      fill: #D2E3FC;\n",
              "    }\n",
              "\n",
              "    [theme=dark] .colab-df-convert:hover {\n",
              "      background-color: #434B5C;\n",
              "      box-shadow: 0px 1px 3px 1px rgba(0, 0, 0, 0.15);\n",
              "      filter: drop-shadow(0px 1px 2px rgba(0, 0, 0, 0.3));\n",
              "      fill: #FFFFFF;\n",
              "    }\n",
              "  </style>\n",
              "\n",
              "      <script>\n",
              "        const buttonEl =\n",
              "          document.querySelector('#df-969a78cf-f851-416a-8839-4228f6d60ddb button.colab-df-convert');\n",
              "        buttonEl.style.display =\n",
              "          google.colab.kernel.accessAllowed ? 'block' : 'none';\n",
              "\n",
              "        async function convertToInteractive(key) {\n",
              "          const element = document.querySelector('#df-969a78cf-f851-416a-8839-4228f6d60ddb');\n",
              "          const dataTable =\n",
              "            await google.colab.kernel.invokeFunction('convertToInteractive',\n",
              "                                                     [key], {});\n",
              "          if (!dataTable) return;\n",
              "\n",
              "          const docLinkHtml = 'Like what you see? Visit the ' +\n",
              "            '<a target=\"_blank\" href=https://colab.research.google.com/notebooks/data_table.ipynb>data table notebook</a>'\n",
              "            + ' to learn more about interactive tables.';\n",
              "          element.innerHTML = '';\n",
              "          dataTable['output_type'] = 'display_data';\n",
              "          await google.colab.output.renderOutput(dataTable, element);\n",
              "          const docLink = document.createElement('div');\n",
              "          docLink.innerHTML = docLinkHtml;\n",
              "          element.appendChild(docLink);\n",
              "        }\n",
              "      </script>\n",
              "    </div>\n",
              "  </div>\n",
              "  "
            ]
          },
          "metadata": {},
          "execution_count": 125
        }
      ]
    },
    {
      "cell_type": "code",
      "source": [
        "r2 = r2_score(test_data['Sales'], filtered_df['yhat'])\n",
        "print(r2)"
      ],
      "metadata": {
        "colab": {
          "base_uri": "https://localhost:8080/"
        },
        "id": "YBj-9Cxeq5s5",
        "outputId": "d04aced2-abbc-47a3-dfad-4d0624f69702"
      },
      "execution_count": null,
      "outputs": [
        {
          "output_type": "stream",
          "name": "stdout",
          "text": [
            "0.9659855039164399\n"
          ]
        }
      ]
    },
    {
      "cell_type": "code",
      "source": [],
      "metadata": {
        "id": "d67FcGXGq5vd"
      },
      "execution_count": null,
      "outputs": []
    },
    {
      "cell_type": "code",
      "source": [
        "test_data[['Sales','Pred_SARIMA','pred_expo_sim','pred_expo_mul_add','pred_expo_mul','pred_prophet']].plot()"
      ],
      "metadata": {
        "colab": {
          "base_uri": "https://localhost:8080/",
          "height": 308
        },
        "id": "CzoNO7PIeJ7s",
        "outputId": "72dfbb7d-288b-4671-a26f-b2acf7e18c78"
      },
      "execution_count": null,
      "outputs": [
        {
          "output_type": "execute_result",
          "data": {
            "text/plain": [
              "<matplotlib.axes._subplots.AxesSubplot at 0x7f5ccc235050>"
            ]
          },
          "metadata": {},
          "execution_count": 126
        },
        {
          "output_type": "display_data",
          "data": {
            "text/plain": [
              "<Figure size 432x288 with 1 Axes>"
            ],
            "image/png": "[encoded data removed]"
          },
          "metadata": {
            "needs_background": "light"
          }
        }
      ]
    },
    {
      "cell_type": "code",
      "source": [
        "all_data = df.Sales.values.astype('float')"
      ],
      "metadata": {
        "id": "QW43MZCrf1EH"
      },
      "execution_count": null,
      "outputs": []
    },
    {
      "cell_type": "code",
      "source": [
        "train_size = int(len(all_data)*0.95)\n",
        "train_data = all_data[:train_size]\n",
        "test_data = all_data[train_size:]\n",
        "len(train_data),len(test_data)"
      ],
      "metadata": {
        "colab": {
          "base_uri": "https://localhost:8080/"
        },
        "id": "fVRnILK3f1NZ",
        "outputId": "5caf3ff4-d03d-4c05-85c1-2a49d4074de0"
      },
      "execution_count": null,
      "outputs": [
        {
          "output_type": "execute_result",
          "data": {
            "text/plain": [
              "(99, 6)"
            ]
          },
          "metadata": {},
          "execution_count": 34
        }
      ]
    },
    {
      "cell_type": "code",
      "source": [
        "from sklearn.preprocessing import MinMaxScaler\n",
        "import torch\n",
        "import torch.nn as nn"
      ],
      "metadata": {
        "id": "Awa7_mvciAGP"
      },
      "execution_count": null,
      "outputs": []
    },
    {
      "cell_type": "code",
      "source": [
        "scaler = MinMaxScaler()\n",
        "train_data_normalized = scaler.fit_transform(train_data.reshape(-1,1))\n",
        "print (train_data_normalized[:5])\n",
        "print (train_data_normalized[-5:])"
      ],
      "metadata": {
        "colab": {
          "base_uri": "https://localhost:8080/"
        },
        "id": "nmHIxExSh6fr",
        "outputId": "c77f6235-3055-4ad1-a699-7dff67686ea7"
      },
      "execution_count": null,
      "outputs": [
        {
          "output_type": "stream",
          "name": "stdout",
          "text": [
            "[[0.10062384]\n",
            " [0.08903832]\n",
            " [0.09576278]\n",
            " [0.09300818]\n",
            " [0.11123714]]\n",
            "[[0.67066353]\n",
            " [0.89905209]\n",
            " [0.22482379]\n",
            " [0.161306  ]\n",
            " [0.24337681]]\n"
          ]
        }
      ]
    },
    {
      "cell_type": "code",
      "source": [
        "train_data_normalized = torch.FloatTensor(train_data_normalized).view(-1)"
      ],
      "metadata": {
        "id": "FES5zyQhh6if"
      },
      "execution_count": null,
      "outputs": []
    },
    {
      "cell_type": "code",
      "source": [
        "train_window = 12\n",
        "def create_inout_sequences(data,tw):\n",
        "    d = []\n",
        "    for i in range(len(data)-tw):\n",
        "        temp_input = data[i:i+tw]\n",
        "        temp_label = data[i+tw:i+tw+1]\n",
        "        d.append([temp_input,temp_label])\n",
        "    return d\n",
        "\n",
        "train_inout_sequences = create_inout_sequences(train_data_normalized,train_window)"
      ],
      "metadata": {
        "id": "VfCAbcBUh6lE"
      },
      "execution_count": null,
      "outputs": []
    },
    {
      "cell_type": "code",
      "source": [
        "class LSTM(nn.Module):\n",
        "    def __init__(self, input_size=1, hidden_layer_size=100, output_size=1):\n",
        "        super().__init__()\n",
        "        self.hidden_layer_size = hidden_layer_size\n",
        "\n",
        "        self.lstm = nn.LSTM(input_size, hidden_layer_size)\n",
        "\n",
        "        self.linear = nn.Linear(hidden_layer_size, output_size)\n",
        "\n",
        "        self.hidden_cell = (torch.zeros(1,1,self.hidden_layer_size),\n",
        "                            torch.zeros(1,1,self.hidden_layer_size))\n",
        "\n",
        "    def forward(self, input_seq):\n",
        "        lstm_out, self.hidden_cell = self.lstm(input_seq.view(len(input_seq) ,1, -1), self.hidden_cell)\n",
        "        predictions = self.linear(lstm_out.view(len(input_seq), -1))\n",
        "        return predictions[-1]"
      ],
      "metadata": {
        "id": "ztrgnHZch7eX"
      },
      "execution_count": null,
      "outputs": []
    },
    {
      "cell_type": "code",
      "source": [
        "model = LSTM()\n",
        "loss_function = nn.MSELoss()\n",
        "optimizer = torch.optim.Adam(model.parameters(), lr=0.001)"
      ],
      "metadata": {
        "id": "e2rUQ4vph7hA"
      },
      "execution_count": null,
      "outputs": []
    },
    {
      "cell_type": "code",
      "source": [
        "epochs = 200\n",
        "\n",
        "for i in range(epochs):\n",
        "    for seq, labels in train_inout_sequences:\n",
        "        optimizer.zero_grad()\n",
        "        model.hidden_cell = (torch.zeros(1, 1, model.hidden_layer_size),\n",
        "                        torch.zeros(1, 1, model.hidden_layer_size))\n",
        "\n",
        "        y_pred = model(seq)\n",
        "\n",
        "        single_loss = loss_function(y_pred, labels)\n",
        "        single_loss.backward()\n",
        "        optimizer.step()\n",
        "\n",
        "    if i%25 == 1:\n",
        "        print(f'epoch: {i:3} loss: {single_loss.item():10.8f}')\n",
        "\n",
        "print(f'epoch: {i:3} loss: {single_loss.item():10.10f}')"
      ],
      "metadata": {
        "colab": {
          "base_uri": "https://localhost:8080/"
        },
        "id": "EbuDH_HFh7jl",
        "outputId": "da1157c4-a237-44d2-aefa-5a5f49a73451"
      },
      "execution_count": null,
      "outputs": [
        {
          "output_type": "stream",
          "name": "stdout",
          "text": [
            "epoch:   1 loss: 0.00185666\n",
            "epoch:  26 loss: 0.00051707\n",
            "epoch:  51 loss: 0.00034132\n",
            "epoch:  76 loss: 0.00143793\n",
            "epoch: 101 loss: 0.00046870\n",
            "epoch: 126 loss: 0.00041253\n",
            "epoch: 151 loss: 0.00103866\n",
            "epoch: 176 loss: 0.00000579\n",
            "epoch: 199 loss: 0.0000200008\n"
          ]
        }
      ]
    },
    {
      "cell_type": "code",
      "source": [
        "fut_pred = 6\n",
        "\n",
        "test_inputs = train_data_normalized[-train_window:].tolist()\n",
        "\n",
        "model.eval()\n",
        "\n",
        "for i in range(fut_pred):\n",
        "    seq = torch.FloatTensor(test_inputs[-train_window:])\n",
        "    with torch.no_grad():\n",
        "        model.hidden = (torch.zeros(1, 1, model.hidden_layer_size),\n",
        "                        torch.zeros(1, 1, model.hidden_layer_size))\n",
        "        test_inputs.append(model(seq).item())"
      ],
      "metadata": {
        "id": "NB1qWfetf1Qt"
      },
      "execution_count": null,
      "outputs": []
    },
    {
      "cell_type": "code",
      "source": [
        "y_predicted = test_inputs[-fut_pred:]\n",
        "y_predicted = scaler.inverse_transform(np.array(y_predicted).reshape(-1,1))\n",
        "y_predicted"
      ],
      "metadata": {
        "colab": {
          "base_uri": "https://localhost:8080/"
        },
        "id": "vzMIRg66f1Tq",
        "outputId": "59967d8d-4d18-4f31-ad25-b2bdc3ecc3cd"
      },
      "execution_count": null,
      "outputs": [
        {
          "output_type": "execute_result",
          "data": {
            "text/plain": [
              "array([[4002.00189689],\n",
              "       [3676.13124895],\n",
              "       [3536.63588291],\n",
              "       [2748.4377545 ],\n",
              "       [ 435.2879366 ],\n",
              "       [4196.69702764]])"
            ]
          },
          "metadata": {},
          "execution_count": 48
        }
      ]
    },
    {
      "cell_type": "code",
      "source": [
        "test_data"
      ],
      "metadata": {
        "colab": {
          "base_uri": "https://localhost:8080/"
        },
        "id": "0Y7bb3r-f1Wg",
        "outputId": "5108bb10-5cb0-40cb-b4d9-96726ae4990f"
      },
      "execution_count": null,
      "outputs": [
        {
          "output_type": "execute_result",
          "data": {
            "text/plain": [
              "array([4788., 4618., 5312., 4298., 1413., 5877.])"
            ]
          },
          "metadata": {},
          "execution_count": 49
        }
      ]
    },
    {
      "cell_type": "code",
      "source": [
        "from sklearn.metrics import r2_score"
      ],
      "metadata": {
        "id": "bjo3Axk_m5Mg"
      },
      "execution_count": null,
      "outputs": []
    },
    {
      "cell_type": "code",
      "source": [
        "r2_score(test_data,y_predicted)"
      ],
      "metadata": {
        "colab": {
          "base_uri": "https://localhost:8080/"
        },
        "id": "dWIqDX58mriO",
        "outputId": "ab8a5980-d170-407f-d044-fc3a9b8c3a3a"
      },
      "execution_count": null,
      "outputs": [
        {
          "output_type": "execute_result",
          "data": {
            "text/plain": [
              "0.107485115756916"
            ]
          },
          "metadata": {},
          "execution_count": 50
        }
      ]
    },
    {
      "cell_type": "code",
      "source": [],
      "metadata": {
        "id": "hc8braESmrpG"
      },
      "execution_count": null,
      "outputs": []
    }
  ]
}